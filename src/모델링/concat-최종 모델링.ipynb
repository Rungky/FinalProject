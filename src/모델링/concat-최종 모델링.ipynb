{
 "cells": [
  {
   "cell_type": "code",
   "execution_count": 1,
   "id": "632fb004-c341-414f-ad04-95db9982f7c6",
   "metadata": {},
   "outputs": [],
   "source": [
    "# 기본\n",
    "import pandas as pd\n",
    "import numpy as np\n",
    "import matplotlib.pyplot as plt\n",
    "import seaborn as sns\n",
    "import gc\n",
    "\n",
    "# 경고 뜨지 않게 설정\n",
    "import warnings\n",
    "warnings.filterwarnings('ignore')\n",
    "\n",
    "# 그래프 설정\n",
    "sns.set()\n",
    "\n",
    "# 그래프 기본 설정\n",
    "plt.rcParams['font.family'] = 'Malgun Gothic'\n",
    "# plt.rcParams['font.family'] = 'AppleGothic'\n",
    "plt.rcParams['figure.figsize'] = 12, 6\n",
    "plt.rcParams['font.size'] = 14\n",
    "plt.rcParams['axes.unicode_minus'] = False\n",
    "\n",
    "# 결측치 시각화를 위한 라이브러리\n",
    "import missingno\n",
    "\n",
    "from functools import reduce"
   ]
  },
  {
   "cell_type": "code",
   "execution_count": 2,
   "id": "3415debc-57cf-4213-b044-7651acde5576",
   "metadata": {},
   "outputs": [],
   "source": [
    "# 파일 경로 리스트\n",
    "paths = [\n",
    "    '회원정보_preprocessing_fin.csv',\n",
    "    '신용정보_preprocessing_fin.csv',\n",
    "    '승인매출정보_12월.csv',\n",
    "    '청구입금정보_12월.csv',\n",
    "    '잔액정보_12월.csv',\n",
    "    '채널정보_전처리.csv',\n",
    "    '마케팅정보_전처리.csv',\n",
    "    '성과정보_preprocessing_fin.csv',\n",
    "]\n",
    "\n",
    "# CSV 파일들 읽어오기\n",
    "dfs = [pd.read_csv(path) for path in paths]"
   ]
  },
  {
   "cell_type": "code",
   "execution_count": 3,
   "id": "d72afd85-f7f0-4d71-8d96-f384839fea92",
   "metadata": {},
   "outputs": [
    {
     "name": "stdout",
     "output_type": "stream",
     "text": [
      "Train 데이터 수: 400000\n",
      "Test 데이터 수:  100000\n"
     ]
    }
   ],
   "source": [
    "# 중복된 'Segment' 컬럼 제거 (첫 번째 DataFrame만 유지)\n",
    "for df in dfs[1:]:\n",
    "    df.drop(columns=['Segment'], errors='ignore', inplace=True)\n",
    "\n",
    "# 공통 키 'ID'로 병합\n",
    "merged_df = reduce(\n",
    "    lambda left, right: pd.merge(left, right, on='ID', how='outer'),\n",
    "    dfs\n",
    ")\n",
    "\n",
    "# 'TRAIN'/'TEST' ID로 분리\n",
    "train_df = merged_df[merged_df['ID'].str.startswith('TRAIN')].copy()\n",
    "test_df  = merged_df[merged_df['ID'].str.startswith('TEST')].copy()\n",
    "\n",
    "# 결과 확인\n",
    "print(f\"Train 데이터 수: {len(train_df)}\")\n",
    "print(f\"Test 데이터 수:  {len(test_df)}\")"
   ]
  },
  {
   "cell_type": "code",
   "execution_count": 4,
   "id": "28b51e75-a0df-46ca-9f4d-8ff3a2f4e2c6",
   "metadata": {},
   "outputs": [
    {
     "name": "stdout",
     "output_type": "stream",
     "text": [
      "\n",
      "train_df 컬럼 데이터 타입별 개수:\n",
      "int64      613\n",
      "bool        99\n",
      "float64     54\n",
      "object       2\n",
      "Name: count, dtype: int64\n",
      "\n",
      "test_df 컬럼 데이터 타입별 개수:\n",
      "int64      613\n",
      "bool        99\n",
      "float64     54\n",
      "object       2\n",
      "Name: count, dtype: int64\n"
     ]
    }
   ],
   "source": [
    "# train_df와 test_df의 컬럼별 데이터 타입별 개수 확인\n",
    "for name, df_part in [('train_df', train_df), ('test_df', test_df)]:\n",
    "    print(f\"\\n{name} 컬럼 데이터 타입별 개수:\")\n",
    "    print(df_part.dtypes.value_counts())"
   ]
  },
  {
   "cell_type": "code",
   "execution_count": 5,
   "id": "3f177c7a-bd35-4e62-a4d5-2a2dfb1dd89a",
   "metadata": {},
   "outputs": [
    {
     "name": "stdout",
     "output_type": "stream",
     "text": [
      "문자열 계열 컬럼: ['ID', 'Segment']\n"
     ]
    }
   ],
   "source": [
    "# object + pandas string + category 모두 포함\n",
    "text_cols = train_df.select_dtypes(include=['object','string','category']).columns.tolist()\n",
    "print(\"문자열 계열 컬럼:\", text_cols)"
   ]
  },
  {
   "cell_type": "code",
   "execution_count": 6,
   "id": "edca77e2-a64a-4713-9e52-cb49efc6cec5",
   "metadata": {},
   "outputs": [
    {
     "name": "stdout",
     "output_type": "stream",
     "text": [
      "train_df object 컬럼 (2개):\n",
      "['ID', 'Segment']\n",
      "\n",
      "test_df object 컬럼 (2개):\n",
      "['ID', 'Segment']\n"
     ]
    }
   ],
   "source": [
    "# train_df의 object 타입 컬럼 리스트\n",
    "obj_cols_train = train_df.select_dtypes(include='object').columns.tolist()\n",
    "\n",
    "# train_df object 컬럼 및 개수\n",
    "print(f\"train_df object 컬럼 ({len(obj_cols_train)}개):\")\n",
    "print(obj_cols_train)\n",
    "\n",
    "# test_df의 object 타입 컬럼 리스트\n",
    "obj_cols_test = test_df.select_dtypes(include='object').columns.tolist()\n",
    "\n",
    "# test_df object 컬럼 및 개수\n",
    "print(f\"\\ntest_df object 컬럼 ({len(obj_cols_test)}개):\")\n",
    "print(obj_cols_test)"
   ]
  },
  {
   "cell_type": "code",
   "execution_count": 7,
   "id": "0486e144-54de-4baf-ad6a-eb10049b642f",
   "metadata": {},
   "outputs": [
    {
     "name": "stdout",
     "output_type": "stream",
     "text": [
      "Series([], )\n"
     ]
    }
   ],
   "source": [
    "# train_df에서 결측치가 있는 컬럼만 추출\n",
    "na_counts = train_df.isna().sum()\n",
    "na_counts = na_counts[na_counts > 0]\n",
    "\n",
    "# to_string() 으로 전체 출력\n",
    "print(na_counts.to_string())"
   ]
  },
  {
   "cell_type": "code",
   "execution_count": 8,
   "id": "8d6a80b4-0621-4304-9ff7-573e35ca4972",
   "metadata": {},
   "outputs": [
    {
     "name": "stdout",
     "output_type": "stream",
     "text": [
      "결측치 있는 컬럼 및 개수 (test_df):\n",
      "Segment    100000\n",
      "dtype: int64\n"
     ]
    }
   ],
   "source": [
    "# test_df에서 결측치가 있는 컬럼만 확인\n",
    "na_counts_test = test_df.isna().sum()\n",
    "\n",
    "# 결측치 개수가 0보다 큰 컬럼만 필터링\n",
    "na_counts_test = na_counts_test[na_counts_test > 0]\n",
    "\n",
    "# 결과 출력\n",
    "print(\"결측치 있는 컬럼 및 개수 (test_df):\")\n",
    "print(na_counts_test)"
   ]
  },
  {
   "cell_type": "code",
   "execution_count": 9,
   "id": "f1eb046c-b954-423a-816d-133a15e21672",
   "metadata": {},
   "outputs": [],
   "source": [
    "# 저장: 결과를 CSV로 내보내기\n",
    "train_df.to_csv('merged_2018_train.csv', index=False)\n",
    "test_df.to_csv('merged_2018_test.csv',  index=False)"
   ]
  }
 ],
 "metadata": {
  "kernelspec": {
   "display_name": "Python [conda env:base] *",
   "language": "python",
   "name": "conda-base-py"
  },
  "language_info": {
   "codemirror_mode": {
    "name": "ipython",
    "version": 3
   },
   "file_extension": ".py",
   "mimetype": "text/x-python",
   "name": "python",
   "nbconvert_exporter": "python",
   "pygments_lexer": "ipython3",
   "version": "3.12.7"
  }
 },
 "nbformat": 4,
 "nbformat_minor": 5
}
