{
 "cells": [
  {
   "cell_type": "code",
   "execution_count": 9,
   "id": "e8092319-7405-49cd-b0c1-39466cb32108",
   "metadata": {},
   "outputs": [],
   "source": [
    "import pandas as pd\n",
    "import numpy as np\n",
    "from sklearn.model_selection      import train_test_split, StratifiedKFold, cross_val_predict\n",
    "from sklearn.preprocessing       import StandardScaler\n",
    "from sklearn.impute              import SimpleImputer\n",
    "from xgboost                     import XGBClassifier\n",
    "from sklearn.metrics             import confusion_matrix, classification_report\n",
    "from sklearn.pipeline            import Pipeline\n",
    "\n",
    "# 경고 메시지 억제\n",
    "import warnings\n",
    "warnings.filterwarnings('ignore')  "
   ]
  },
  {
   "cell_type": "code",
   "execution_count": 13,
   "id": "4a6f8a0f-bd80-4836-8805-6a9944655602",
   "metadata": {},
   "outputs": [],
   "source": [
    "# 데이터 로드 및 ID 제거\n",
    "df = pd.read_csv(\"final_features.csv\")\n",
    "X = df.drop(columns=['Segment','ID'])\n",
    "y = df['Segment']\n",
    "\n",
    "# E vs not-E 이진 타깃 생성\n",
    "y_e = (y == 'E').astype(int)\n",
    "\n",
    "# 학습/검증 분할 (20% 검증, E 분포 유지)\n",
    "X_train, X_val, y_train_e, y_val_e, y_train, y_val = train_test_split(\n",
    "    X, y_e, y, test_size=0.2, random_state=42, stratify=y_e\n",
    ")\n",
    "\n",
    "# 스케일러 학습 및 변환\n",
    "scaler = StandardScaler()\n",
    "X_train_s = scaler.fit_transform(X_train)\n",
    "X_val_s   = scaler.transform(X_val)"
   ]
  },
  {
   "cell_type": "code",
   "execution_count": null,
   "id": "40435763-1d08-4b25-8ffa-9dba2b96c38a",
   "metadata": {},
   "outputs": [
    {
     "name": "stdout",
     "output_type": "stream",
     "text": [
      "Fitting 3 folds for each of 5 candidates, totalling 15 fits\n"
     ]
    }
   ],
   "source": [
    "from sklearn.model_selection import GridSearchCV\n",
    "\n",
    "# 하이퍼파라미터 튜닝\n",
    "param_grid = {\n",
    "    'max_depth': [5, 10, 15, 20, None],\n",
    "    'n_estimators': [100],\n",
    "}\n",
    "model = RandomForestClassifier(random_state=42)\n",
    "grid = GridSearchCV(model, param_grid, cv=3, scoring='f1_macro', verbose=2, n_jobs=-1)\n",
    "\n",
    "#  이진 타깃으로 학습\n",
    "grid.fit(X_train_s, y_train_e)\n",
    "\n",
    "# 결과 출력\n",
    "print(\"최적 max_depth:\", grid.best_params_['max_depth'])"
   ]
  },
  {
   "cell_type": "code",
   "execution_count": null,
   "id": "423575e6-c117-4708-8436-7cdd723b668b",
   "metadata": {},
   "outputs": [],
   "source": [
    "# 1. 모델1: E vs not-E 분류\n",
    "model1 = RandomForestClassifier(eval_metric='logloss', random_state=42, verbose=-1, verbosity=0, tree_method='gpu_hist', predictor = 'gpu_predictor')\n",
    "\n",
    "# E vs not-E\n",
    "model1.fit(X_train_s, y_train_e)\n",
    "\n",
    "# 검증셋 E vs not-E\n",
    "y1_pred = model1.predict(X_val_s)\n",
    "\n",
    "print(\"=== 모델1: E vs not-E ===\")\n",
    "print(confusion_matrix(y_val_e, y1_pred))\n",
    "print(classification_report(y_val_e, y1_pred, target_names=['not-E','E']))\n",
    "\n",
    "# 검증셋 DataFrame 및 pred1 추가\n",
    "df_val = pd.DataFrame(X_val_s, columns=X.columns)\n",
    "df_val['true_seg'] = y_val.values\n",
    "df_val['pred1']    = y1_pred"
   ]
  },
  {
   "cell_type": "code",
   "execution_count": null,
   "id": "8634ea62-c792-4bb8-a23e-6d2fc489afe2",
   "metadata": {},
   "outputs": [],
   "source": [
    "# 2. 모델2: A/B vs C/D 분류\n",
    "\n",
    "# pred1 == 0 (not-E) 데이터\n",
    "df_val_notE = df_val[df_val['pred1'] == 0].reset_index(drop=True)\n",
    "X_val_notE  = df_val_notE[X.columns]\n",
    "\n",
    "# A/B vs C/D 레이블 (A,B→1 / C,D→0)\n",
    "y2_true = df_val_notE['true_seg'].apply(lambda s: 1 if s in ['A','B'] else 0)\n",
    "\n",
    "# 학습셋 not-E 샘플 및 A/B vs C/D 타깃\n",
    "mask_train_notE = (y_train_e == 0)\n",
    "X_train_notE    = X_train_s[mask_train_notE]\n",
    "y_train_notE    = y_train[mask_train_notE].apply(lambda s: 1 if s in ['A','B'] else 0)\n",
    "\n",
    "# XGBoost 분류기 \n",
    "model2 = RandomForestClassifier(eval_metric='logloss', random_state=42, verbose=-1, verbosity=0, tree_method='gpu_hist', predictor = 'gpu_predictor')\n",
    "\n",
    "# A/B vs C/D\n",
    "model2.fit(X_train_notE, y_train_notE)\n",
    "\n",
    "# 검증셋 A/B vs C/D\n",
    "y2_pred = model2.predict(X_val_notE)\n",
    "\n",
    "print(\"\\n=== 모델2: A/B vs C/D ===\")\n",
    "print(confusion_matrix(y2_true, y2_pred))\n",
    "print(classification_report(y2_true, y2_pred, target_names=['C/D','A/B']))\n",
    "\n",
    "# pred2 컬럼\n",
    "df_val_notE['pred2'] = y2_pred"
   ]
  },
  {
   "cell_type": "markdown",
   "id": "017e960e-3531-4651-a7f0-addc1b6b0bdb",
   "metadata": {},
   "source": [
    "### 모델2가 “A/B”로 예측한 6개 샘플에 대해서만 모델3을 돌려본 것"
   ]
  },
  {
   "cell_type": "code",
   "execution_count": null,
   "id": "c72dd08c-fc8b-4829-aa49-b80a6d9b1767",
   "metadata": {},
   "outputs": [],
   "source": [
    "# 모델3: A vs B 분류\n",
    "# pred2 == 1 (A/B로 예측된) 데이터\n",
    "df_val_AB = df_val_notE[df_val_notE['pred2'] == 1].reset_index(drop=True)\n",
    "X_val_AB  = df_val_AB[X.columns]\n",
    "\n",
    "# A vs B 레이블 (B→1 / A→0)\n",
    "y3_true = df_val_AB['true_seg'].apply(lambda s: 1 if s == 'B' else 0)\n",
    "\n",
    "# 학습셋 A/B 샘플 및 A vs B 타깃\n",
    "mask_train_AB = mask_train_notE & (y_train.isin(['A','B']))\n",
    "X_train_AB    = X_train_s[mask_train_AB]\n",
    "y_train_AB    = y_train[mask_train_AB].apply(lambda s: 1 if s == 'B' else 0)\n",
    "\n",
    "# XGBoost 분류기 \n",
    "model3 = RandomForestClassifier(eval_metric='logloss', random_state=42, verbose=-1, verbosity=0, tree_method='gpu_hist', predictor = 'gpu_predictor')\n",
    "\n",
    "# A vs B\n",
    "model3.fit(X_train_AB, y_train_AB)\n",
    "\n",
    "# 검증셋 A vs B\n",
    "y3_pred = model3.predict(X_val_AB)\n",
    "\n",
    "print(\"\\n=== 모델3: A vs B ===\")\n",
    "print(confusion_matrix(y3_true, y3_pred))\n",
    "print(classification_report(y3_true, y3_pred, labels=[0,1], target_names=['A','B']))"
   ]
  },
  {
   "cell_type": "markdown",
   "id": "c5ef7108-9e20-4ccb-8f5f-720751c6de62",
   "metadata": {},
   "source": [
    "### 진짜 A/B인 37개 샘플에 대해서만 모델3을 돌려본 것"
   ]
  },
  {
   "cell_type": "code",
   "execution_count": null,
   "id": "b217a4ce-f287-4bf7-956b-f4e8f22597d4",
   "metadata": {},
   "outputs": [],
   "source": [
    "# 실제 A/B 전체를 추출\n",
    "df_val_trueAB = df_val_notE[df_val_notE['true_seg'].isin(['A','B'])]\n",
    "\n",
    "X_val_trueAB = df_val_trueAB[X.columns]\n",
    "y3_true_all  = df_val_trueAB['true_seg'].apply(lambda s: 1 if s == 'B' else 0)\n",
    "\n",
    "# model3에 전체 A/B 데이터로 평가\n",
    "y3_pred_all = model3.predict(X_val_trueAB)\n",
    "\n",
    "print(confusion_matrix(y3_true_all, y3_pred_all))\n",
    "print(classification_report(y3_true_all, y3_pred_all, labels=[0,1], target_names=['A','B']))"
   ]
  },
  {
   "cell_type": "markdown",
   "id": "629c587d-2931-4f7c-99ff-aabf666c3bfb",
   "metadata": {},
   "source": [
    "### 모델2가 “C/D”로 예측한 6개 샘플에 대해서만 모델4를 돌려본 것"
   ]
  },
  {
   "cell_type": "code",
   "execution_count": null,
   "id": "ce1d1f15-f5f6-4cdd-8454-f1f9a59e9ffb",
   "metadata": {},
   "outputs": [],
   "source": [
    "# 4. 모델4: C vs D 분류\n",
    "# pred2 == 0 (C/D로 예측된) 데이터\n",
    "df_val_CD = df_val_notE[df_val_notE['pred2'] == 0].reset_index(drop=True)\n",
    "X_val_CD  = df_val_CD[X.columns]\n",
    "\n",
    "# C vs D 레이블 (D→1 / C→0)\n",
    "y4_true = df_val_CD['true_seg'].apply(lambda s: 1 if s == 'D' else 0)\n",
    "\n",
    "# 학습셋 C/D 샘플 및 C vs D 타깃\n",
    "mask_train_CD = mask_train_notE & (y_train.isin(['C','D']))\n",
    "X_train_CD    = X_train_s[mask_train_CD]\n",
    "y_train_CD    = y_train[mask_train_CD].apply(lambda s: 1 if s == 'D' else 0)\n",
    "\n",
    "# RandomForest 분류기 \n",
    "model4 = RandomForestClassifier(eval_metric='logloss', random_state=42, verbose=-1, verbosity=0, tree_method='gpu_hist', predictor = 'gpu_predictor')\n",
    "\n",
    "# C vs D\n",
    "model4.fit(X_train_CD, y_train_CD)\n",
    "\n",
    "# 검증셋 C vs D\n",
    "y4_pred = model4.predict(X_val_CD)\n",
    "\n",
    "print(\"\\n=== 모델4: C vs D ===\")\n",
    "print(confusion_matrix(y4_true, y4_pred))\n",
    "print(classification_report(y4_true, y4_pred, target_names=['C','D']))"
   ]
  },
  {
   "cell_type": "markdown",
   "id": "56ed1ae0-abb9-4b05-9393-1b46e27d7863",
   "metadata": {},
   "source": [
    "### 진짜 C/D 인 샘플에 대해서만 모델4를 돌려본 것"
   ]
  },
  {
   "cell_type": "code",
   "execution_count": null,
   "id": "0ba6c143-3b5b-4683-aedc-f8f3936c2a5e",
   "metadata": {},
   "outputs": [],
   "source": [
    "# 실제 C/D 레이블인 모든 검증셋 샘플\n",
    "df_val_trueCD = df_val_notE[df_val_notE['true_seg'].isin(['C','D'])].reset_index(drop=True)\n",
    "X_val_trueCD  = df_val_trueCD[X.columns]\n",
    "\n",
    "# C vs D 레이블 (D→1 / C→0)\n",
    "y4_true_all   = df_val_trueCD['true_seg'].apply(lambda s: 1 if s == 'D' else 0)\n",
    "\n",
    "# model4로 전체 C/D 샘플 예측\n",
    "y4_pred_all   = model4.predict(X_val_trueCD)\n",
    "\n",
    "# 결과 출력\n",
    "print(\"=== 모델4 standalone: 실제 C/D 전체 평가 ===\")\n",
    "print(confusion_matrix(y4_true_all, y4_pred_all))\n",
    "print(classification_report(y4_true_all, y4_pred_all, labels=[0,1], target_names=['C','D']))"
   ]
  },
  {
   "cell_type": "markdown",
   "id": "c97f936e-702a-47be-a93b-97910b3bea53",
   "metadata": {},
   "source": [
    "### 가중치 있는 버전"
   ]
  },
  {
   "cell_type": "code",
   "execution_count": null,
   "id": "c283d6ca-7499-471c-af0c-07fca316514d",
   "metadata": {},
   "outputs": [],
   "source": [
    "# 데이터 로드 및 ID 제거\n",
    "df = pd.read_csv(\"final_features.csv\")\n",
    "X = df.drop(columns=['Segment','ID'])\n",
    "y = df['Segment']\n",
    "\n",
    "# E vs not-E 이진 타깃 생성\n",
    "y_e = (y == 'E').astype(int)\n",
    "\n",
    "# 학습/검증 분할 (20% 검증, E 비율 유지)\n",
    "X_train, X_val, y_train_e, y_val_e, y_train, y_val = train_test_split(\n",
    "    X, y_e, y, test_size=0.2, random_state=42, stratify=y_e\n",
    ")\n",
    "\n",
    "# 스케일러 학습 및 변환\n",
    "scaler = StandardScaler()\n",
    "X_train_s = scaler.fit_transform(X_train)\n",
    "X_val_s   = scaler.transform(X_val)"
   ]
  },
  {
   "cell_type": "code",
   "execution_count": null,
   "id": "1015d2c6-262f-4359-a9d9-3610e0e14c23",
   "metadata": {},
   "outputs": [],
   "source": [
    "# 하이퍼파라미터 튜닝\n",
    "param_grid = {\n",
    "    'max_depth': [5, 10, 15, 20, None],\n",
    "    'n_estimators': [100],\n",
    "}\n",
    "model = RandomForestClassifier(random_state=42)\n",
    "grid = GridSearchCV(model, param_grid, cv=3, scoring='f1_macro', verbose=2, n_jobs=-1)\n",
    "\n",
    "#  이진 타깃으로 학습\n",
    "grid.fit(X_train_s, y_train_e)\n",
    "\n",
    "# 결과 출력\n",
    "print(\"최적 max_depth:\", grid.best_params_['max_depth'])"
   ]
  },
  {
   "cell_type": "code",
   "execution_count": null,
   "id": "76432a79-b502-4531-b061-4129925e6131",
   "metadata": {},
   "outputs": [],
   "source": [
    "# 1. 모델1: E vs not-E 분류 (가중치 있는)\n",
    "# pos/neg 비율로 weight 설정\n",
    "n_neg1 = (y_train_e == 0).sum()\n",
    "n_pos1 = (y_train_e == 1).sum()\n",
    "w1 = n_neg1 / n_pos1\n",
    "\n",
    "# RandomForest with weight\n",
    "model1_w = RandomForestClassifier(eval_metric='logloss', random_state=42, scale_pos_weight=w1, verbose=-1, verbosity=0, tree_method='gpu_hist', predictor = 'gpu_predictor')\n",
    "# 학습·예측\n",
    "model1_w.fit(X_train_s, y_train_e)\n",
    "y1_pred_w = model1_w.predict(X_val_s)\n",
    "\n",
    "print(\"=== 모델1 (weighted): E vs not-E ===\")\n",
    "print(confusion_matrix(y_val_e, y1_pred_w))\n",
    "print(classification_report(y_val_e, y1_pred_w, labels=[0,1], target_names=['not-E','E']))"
   ]
  },
  {
   "cell_type": "code",
   "execution_count": null,
   "id": "51fe22ae-15b1-46b8-874b-1aff37123eaf",
   "metadata": {},
   "outputs": [],
   "source": [
    "# 검증셋 DataFrame 및 pred1 추가\n",
    "df_val = pd.DataFrame(X_val_s, columns=X.columns)\n",
    "df_val['true_seg'] = y_val.values\n",
    "df_val['pred1']    = y1_pred_w\n",
    "\n",
    "# 2. 모델2: A/B vs C/D 분류\n",
    "df_val_notE = df_val[df_val['pred1']==0].reset_index(drop=True)\n",
    "X_val_notE  = df_val_notE[X.columns]\n",
    "y2_true     = df_val_notE['true_seg'].apply(lambda s: 1 if s in ['A','B'] else 0)\n",
    "\n",
    "mask_train_notE = (y_train_e == 0)\n",
    "X_train_notE    = X_train_s[mask_train_notE]\n",
    "y_train_notE    = y_train[mask_train_notE].apply(lambda s: 1 if s in ['A','B'] else 0)\n",
    "\n",
    "n_neg2 = (y_train_notE == 0).sum()\n",
    "n_pos2 = (y_train_notE == 1).sum()\n",
    "w2 = n_neg2 / n_pos2\n",
    "\n",
    "model2_w = RandomForestClassifier(eval_metric='logloss', random_state=42, scale_pos_weight=w2, verbose=-1, verbosity=0, tree_method='gpu_hist', predictor = 'gpu_predictor')\n",
    "model2_w.fit(X_train_notE, y_train_notE)\n",
    "y2_pred_w = model2_w.predict(X_val_notE)\n",
    "\n",
    "print(\"\\n=== 모델2 (weighted): A/B vs C/D ===\")\n",
    "print(confusion_matrix(y2_true, y2_pred_w))\n",
    "print(classification_report(y2_true, y2_pred_w, labels=[0,1], target_names=['C/D','A/B']))\n",
    "\n",
    "df_val_notE['pred2'] = y2_pred_w"
   ]
  },
  {
   "cell_type": "code",
   "execution_count": null,
   "id": "17b216d8-0098-464a-9d2e-5a3dec44b78c",
   "metadata": {},
   "outputs": [],
   "source": [
    "# 3. 모델3: A vs B 분류\n",
    "df_val_AB = df_val_notE[df_val_notE['pred2']==1].reset_index(drop=True)\n",
    "X_val_AB  = df_val_AB[X.columns]\n",
    "y3_true   = df_val_AB['true_seg'].apply(lambda s: 1 if s=='B' else 0)\n",
    "\n",
    "mask_train_AB = mask_train_notE & (y_train.isin(['A','B']))\n",
    "X_train_AB    = X_train_s[mask_train_AB]\n",
    "y_train_AB    = y_train[mask_train_AB].apply(lambda s: 1 if s=='B' else 0)\n",
    "\n",
    "n_neg3 = (y_train_AB == 0).sum()\n",
    "n_pos3 = (y_train_AB == 1).sum()\n",
    "w3 = n_neg3 / n_pos3\n",
    "\n",
    "model3_w = RandomForestClassifier(eval_metric='logloss', random_state=42, scale_pos_weight=w3, verbose=-1, verbosity=0, tree_method='gpu_hist', predictor = 'gpu_predictor')\n",
    "model3_w.fit(X_train_AB, y_train_AB)\n",
    "y3_pred_w = model3_w.predict(X_val_AB)\n",
    "\n",
    "print(\"\\n=== 모델3 (weighted): A vs B ===\")\n",
    "print(confusion_matrix(y3_true, y3_pred_w))\n",
    "print(classification_report(y3_true, y3_pred_w, labels=[0,1], target_names=['A','B']))"
   ]
  },
  {
   "cell_type": "code",
   "execution_count": null,
   "id": "261ecb56-26dc-4be0-a0b5-516b3a962bb8",
   "metadata": {},
   "outputs": [],
   "source": [
    "# 4. 모델4: C vs D 분류\n",
    "df_val_CD = df_val_notE[df_val_notE['pred2']==0].reset_index(drop=True)\n",
    "X_val_CD  = df_val_CD[X.columns]\n",
    "y4_true   = df_val_CD['true_seg'].apply(lambda s: 1 if s=='D' else 0)\n",
    "\n",
    "mask_train_CD = mask_train_notE & (y_train.isin(['C','D']))\n",
    "X_train_CD    = X_train_s[mask_train_CD]\n",
    "y_train_CD    = y_train[mask_train_CD].apply(lambda s: 1 if s=='D' else 0)\n",
    "\n",
    "n_neg4 = (y_train_CD == 0).sum()\n",
    "n_pos4 = (y_train_CD == 1).sum()\n",
    "w4 = n_neg4 / n_pos4\n",
    "\n",
    "model4_w = RandomForestClassifier(eval_metric='logloss',random_state=42, scale_pos_weight=w4, verbose=-1, verbosity=0, tree_method='gpu_hist', predictor = 'gpu_predictor')\n",
    "model4_w.fit(X_train_CD, y_train_CD)\n",
    "y4_pred_w = model4_w.predict(X_val_CD)\n",
    "\n",
    "print(\"\\n=== 모델4 (weighted): C vs D ===\")\n",
    "print(confusion_matrix(y4_true, y4_pred_w))\n",
    "print(classification_report(y4_true, y4_pred_w, labels=[0,1], target_names=['C','D']))"
   ]
  },
  {
   "cell_type": "code",
   "execution_count": null,
   "id": "1c5bbcff-180c-4afa-a7f2-6ebfdeafe39a",
   "metadata": {},
   "outputs": [],
   "source": []
  },
  {
   "cell_type": "code",
   "execution_count": null,
   "id": "c140d8e2-466c-4907-86d0-492315377532",
   "metadata": {},
   "outputs": [],
   "source": []
  }
 ],
 "metadata": {
  "kernelspec": {
   "display_name": "Python [conda env:base] *",
   "language": "python",
   "name": "conda-base-py"
  },
  "language_info": {
   "codemirror_mode": {
    "name": "ipython",
    "version": 3
   },
   "file_extension": ".py",
   "mimetype": "text/x-python",
   "name": "python",
   "nbconvert_exporter": "python",
   "pygments_lexer": "ipython3",
   "version": "3.12.7"
  }
 },
 "nbformat": 4,
 "nbformat_minor": 5
}
