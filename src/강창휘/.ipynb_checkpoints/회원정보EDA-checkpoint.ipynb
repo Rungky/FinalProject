{
 "cells": [
  {
   "cell_type": "code",
   "execution_count": 1,
   "id": "5cc4591d-8021-4639-bf5f-fef509a5f288",
   "metadata": {},
   "outputs": [],
   "source": [
    "import pandas as pd\n",
    "import numpy as np\n",
    "import matplotlib.pyplot as plt\n",
    "import seaborn as sns\n",
    "import gc\n",
    "\n",
    "# 경고 메시지가 뜨지 않게 설정\n",
    "import warnings \n",
    "warnings.filterwarnings('ignore')\n",
    "\n",
    "# 그래프 설정\n",
    "sns.set()\n",
    "\n",
    "# 그래프 기본 설정\n",
    "plt.rcParams['font.family'] = 'Malgun Gothic'\n",
    "# plt.rcParams['font.family'] = 'AppleGothic'\n",
    "plt.rcParams['figure.figsize'] = 12, 6\n",
    "plt.rcParams['font.size'] = 14\n",
    "plt.rcParams['axes.unicode_minus'] = False\n",
    "\n",
    "# 검정\n",
    "from scipy import stats"
   ]
  },
  {
   "cell_type": "code",
   "execution_count": 2,
   "id": "11826fba-aca2-4013-ae48-00d750f1afbc",
   "metadata": {},
   "outputs": [],
   "source": [
    "df = pd.read_csv('회원정보_feat_select.csv')"
   ]
  },
  {
   "cell_type": "code",
   "execution_count": 3,
   "id": "c95a24f5-555a-4bc3-a73b-1f550733871a",
   "metadata": {},
   "outputs": [],
   "source": [
    "drop_list = ['회원여부_이용가능_카드론', '입회일자_신용', '이용가능카드수_신용', '이용금액_R3M_신용체크', '_1순위카드이용금액']\n",
    "df.drop(drop_list, axis = 1, inplace = True)"
   ]
  },
  {
   "cell_type": "code",
   "execution_count": 4,
   "id": "658ea9c1-8941-4139-a834-345a1bcab097",
   "metadata": {},
   "outputs": [],
   "source": [
    "df_segment = pd.read_parquet('2018_회원정보.parquet', columns = ['Segment'])\n",
    "df = pd.concat([df, df_segment], axis = 1)"
   ]
  },
  {
   "cell_type": "code",
   "execution_count": 5,
   "id": "1555ceb2-41db-4288-b75b-6fd44a393d09",
   "metadata": {},
   "outputs": [],
   "source": [
    "train = df.loc[df['Segment'].notna()]"
   ]
  },
  {
   "cell_type": "code",
   "execution_count": 6,
   "id": "22c2c034-b469-4994-b24b-e5085f1a0a8a",
   "metadata": {
    "scrolled": true
   },
   "outputs": [
    {
     "name": "stdout",
     "output_type": "stream",
     "text": [
      "0 : 회원여부_이용가능_CA\n",
      "1 : 소지카드수_유효_신용\n",
      "2 : 소지카드수_이용가능_신용\n",
      "3 : 입회경과개월수_신용\n",
      "4 : 이용거절여부_카드론\n",
      "5 : 유효카드수_신용체크\n",
      "6 : 유효카드수_신용\n",
      "7 : 이용카드수_신용체크\n",
      "8 : 이용금액_R3M_체크\n",
      "9 : _2순위카드이용금액\n",
      "10 : 이용여부_3M_해외겸용_본인\n",
      "11 : 보유여부_해외겸용_신용_본인\n",
      "12 : 이용여부_3M_해외겸용_신용_본인\n",
      "13 : 카드신청건수\n",
      "14 : 최종카드발급경과월\n",
      "15 : ID\n",
      "16 : Segment\n"
     ]
    }
   ],
   "source": [
    "for idx, val in enumerate(list(train.columns)) :\n",
    "    print(f'{idx} : {val}')"
   ]
  },
  {
   "cell_type": "markdown",
   "id": "8f73717f-508f-41f1-a514-e0799786b5ce",
   "metadata": {},
   "source": [
    "### 각 데이터가 Segment 분류에 어떤 영향을 미치는지 확인"
   ]
  },
  {
   "cell_type": "markdown",
   "id": "15effd05-c262-4e2d-b65d-84d12e80c8de",
   "metadata": {},
   "source": [
    "#### 수치형 변수 확인"
   ]
  },
  {
   "cell_type": "code",
   "execution_count": 6,
   "id": "78f9eca4-be18-4904-97e2-c97fc006d460",
   "metadata": {},
   "outputs": [],
   "source": [
    "select_df = train.describe().T\n",
    "select_df = select_df.loc[(select_df['max'] == 1) & (select_df['min'] == 0)]\n",
    "category_list = list(select_df.index)"
   ]
  },
  {
   "cell_type": "code",
   "execution_count": 7,
   "id": "51ab3d4d-06eb-4240-b72c-376839b745d6",
   "metadata": {},
   "outputs": [],
   "source": [
    "num_df = train.drop(category_list, axis = 1)"
   ]
  },
  {
   "cell_type": "code",
   "execution_count": 8,
   "id": "dcf8c392-eafa-46a8-bb63-2bc5129da1db",
   "metadata": {},
   "outputs": [
    {
     "data": {
      "text/plain": [
       "['소지카드수_유효_신용',\n",
       " '소지카드수_이용가능_신용',\n",
       " '입회경과개월수_신용',\n",
       " '유효카드수_신용체크',\n",
       " '유효카드수_신용',\n",
       " '이용카드수_신용체크',\n",
       " '이용금액_R3M_체크',\n",
       " '_2순위카드이용금액',\n",
       " '최종카드발급경과월',\n",
       " 'ID',\n",
       " 'Segment']"
      ]
     },
     "execution_count": 8,
     "metadata": {},
     "output_type": "execute_result"
    }
   ],
   "source": [
    "list(num_df.columns)"
   ]
  },
  {
   "cell_type": "markdown",
   "id": "ef6d747f-a0bc-4143-a6cb-6af1e4c8a8c2",
   "metadata": {},
   "source": [
    "- Segment 별로 데이터 나눠서 보기"
   ]
  },
  {
   "cell_type": "code",
   "execution_count": 11,
   "id": "994f0f67-e219-4f44-a040-c866a3e46bfe",
   "metadata": {},
   "outputs": [],
   "source": [
    "df_A = train.loc[train['Segment'] == 'A']\n",
    "df_B = train.loc[train['Segment'] == 'B']\n",
    "df_C = train.loc[train['Segment'] == 'C']\n",
    "df_D = train.loc[train['Segment'] == 'D']\n",
    "df_E = train.loc[train['Segment'] == 'E']"
   ]
  },
  {
   "cell_type": "markdown",
   "id": "7ab0d1fd-70c7-41b1-9ccb-bee37e231c46",
   "metadata": {},
   "source": [
    "#### 소지카드수_유효_신용, 소지카드수_이용가능_신용"
   ]
  },
  {
   "cell_type": "code",
   "execution_count": 21,
   "id": "88bf1915-82eb-47ab-8439-e5ddf55e90e9",
   "metadata": {},
   "outputs": [
    {
     "data": {
      "text/plain": [
       "소지카드수_유효_신용\n",
       "1    1845949\n",
       "2     391523\n",
       "3     120560\n",
       "0      41882\n",
       "4         86\n",
       "Name: count, dtype: int64"
      ]
     },
     "execution_count": 21,
     "metadata": {},
     "output_type": "execute_result"
    }
   ],
   "source": [
    "train['소지카드수_유효_신용'].value_counts()"
   ]
  },
  {
   "cell_type": "markdown",
   "id": "4d83abdb-8aff-4afc-984b-f31481fe166f",
   "metadata": {},
   "source": [
    "- 전체 Segment 분포에서 소지카드수_유효_신용이 1일 때 차지하는 세그먼트의 비율"
   ]
  },
  {
   "cell_type": "code",
   "execution_count": 26,
   "id": "6735e64f-6621-4ac4-8476-b8c7421dc9f5",
   "metadata": {},
   "outputs": [
    {
     "data": {
      "text/plain": [
       "Segment\n",
       "E    0.824238\n",
       "D    0.589099\n",
       "C    0.436414\n",
       "A    0.244856\n",
       "B    0.437500\n",
       "Name: count, dtype: float64"
      ]
     },
     "execution_count": 26,
     "metadata": {},
     "output_type": "execute_result"
    }
   ],
   "source": [
    "(train.loc[train['소지카드수_유효_신용'] == 1, 'Segment'].value_counts()) / (train['Segment'].value_counts())"
   ]
  },
  {
   "cell_type": "code",
   "execution_count": 27,
   "id": "8cf42a09-0208-4635-bcb0-bca6f05bf0ad",
   "metadata": {},
   "outputs": [
    {
     "data": {
      "text/plain": [
       "Segment\n",
       "A         NaN\n",
       "B         NaN\n",
       "C    0.000760\n",
       "D    0.001718\n",
       "E    0.021428\n",
       "Name: count, dtype: float64"
      ]
     },
     "execution_count": 27,
     "metadata": {},
     "output_type": "execute_result"
    }
   ],
   "source": [
    "(train.loc[train['소지카드수_유효_신용'] == 0, 'Segment'].value_counts()) / (train['Segment'].value_counts())"
   ]
  },
  {
   "cell_type": "markdown",
   "id": "874a7405-a258-4ed0-8bc5-58dcaed16099",
   "metadata": {},
   "source": [
    "- 전체적으로 유효한 신용카드가 없는 고객은 거의 없다.\n",
    "- A, B의 경우 모두 유효한 신용카드를 소지하고 있다."
   ]
  },
  {
   "cell_type": "code",
   "execution_count": 76,
   "id": "6eac5962-8ee0-4aa9-a3c2-9c28c665de7d",
   "metadata": {},
   "outputs": [
    {
     "data": {
      "image/png": "[encoded data removed]",
      "text/plain": [
       "<Figure size 1200x600 with 1 Axes>"
      ]
     },
     "metadata": {},
     "output_type": "display_data"
    }
   ],
   "source": [
    "sns.scatterplot(data=df, x='소지카드수_유효_신용', y='소지카드수_이용가능_신용')\n",
    "plt.title('유효카드수 vs 이용가능카드수')\n",
    "plt.show()"
   ]
  },
  {
   "cell_type": "code",
   "execution_count": 77,
   "id": "13639bae-6c81-45c0-a7dd-d457f0f91361",
   "metadata": {},
   "outputs": [
    {
     "data": {
      "image/png": "[encoded data removed]",
      "text/plain": [
       "<Figure size 1200x600 with 1 Axes>"
      ]
     },
     "metadata": {},
     "output_type": "display_data"
    }
   ],
   "source": [
    "sns.histplot(df['소지카드수_유효_신용'] - df['소지카드수_이용가능_신용'], bins=10, kde=True)\n",
    "plt.title('유효 - 이용가능 카드수 차이 분포')\n",
    "plt.xlabel('차이값')\n",
    "plt.show()\n"
   ]
  },
  {
   "cell_type": "code",
   "execution_count": 63,
   "id": "56b44796-8983-49f1-817c-f4100869efb5",
   "metadata": {},
   "outputs": [],
   "source": [
    "a1 = sum(df_A['소지카드수_유효_신용'] == df_A['소지카드수_이용가능_신용'])\n",
    "a2 = sum(df_B['소지카드수_유효_신용'] == df_B['소지카드수_이용가능_신용'])\n",
    "a3 = sum(df_C['소지카드수_유효_신용'] == df_C['소지카드수_이용가능_신용'])\n",
    "a4 = sum(df_D['소지카드수_유효_신용'] == df_D['소지카드수_이용가능_신용'])\n",
    "a5 = sum(df_E['소지카드수_유효_신용'] == df_E['소지카드수_이용가능_신용'])"
   ]
  },
  {
   "cell_type": "markdown",
   "id": "9e95742e-1500-448e-945d-75c3d4eee296",
   "metadata": {},
   "source": []
  },
  {
   "cell_type": "code",
   "execution_count": 64,
   "id": "993bf885-7c31-47e4-8d16-56c65b587134",
   "metadata": {},
   "outputs": [
    {
     "data": {
      "text/plain": [
       "2183362"
      ]
     },
     "execution_count": 64,
     "metadata": {},
     "output_type": "execute_result"
    }
   ],
   "source": [
    "a1 + a2 + a3 + a4 + a5"
   ]
  },
  {
   "cell_type": "code",
   "execution_count": 40,
   "id": "26a73503-75a9-4bea-ab82-a022be37a902",
   "metadata": {},
   "outputs": [
    {
     "data": {
      "text/plain": [
       "0.13571583333333334"
      ]
     },
     "execution_count": 40,
     "metadata": {},
     "output_type": "execute_result"
    }
   ],
   "source": [
    "sum(df_D['소지카드수_유효_신용'] == df_D['소지카드수_이용가능_신용'])/train.shape[0]"
   ]
  },
  {
   "cell_type": "code",
   "execution_count": 39,
   "id": "d3f00305-6b91-4ebd-b89d-ed3f2ad39159",
   "metadata": {},
   "outputs": [
    {
     "data": {
      "text/plain": [
       "0.04936666666666667"
      ]
     },
     "execution_count": 39,
     "metadata": {},
     "output_type": "execute_result"
    }
   ],
   "source": [
    "sum(df_C['소지카드수_유효_신용'] == df_C['소지카드수_이용가능_신용'])/train.shape[0]"
   ]
  },
  {
   "cell_type": "code",
   "execution_count": 38,
   "id": "0163b07c-a8d3-4c80-9f0a-263e7a73d0d6",
   "metadata": {},
   "outputs": [
    {
     "data": {
      "text/plain": [
       "0.0001"
      ]
     },
     "execution_count": 38,
     "metadata": {},
     "output_type": "execute_result"
    }
   ],
   "source": [
    "round(sum(df_B['소지카드수_유효_신용'] == df_B['소지카드수_이용가능_신용'])/train.shape[0], 4)"
   ]
  },
  {
   "cell_type": "code",
   "execution_count": 34,
   "id": "59186d9c-5013-476e-977f-cc1eb8c664a0",
   "metadata": {},
   "outputs": [
    {
     "data": {
      "text/plain": [
       "0.00038291666666666666"
      ]
     },
     "execution_count": 34,
     "metadata": {},
     "output_type": "execute_result"
    }
   ],
   "source": [
    "sum(df_A['소지카드수_유효_신용'] == df_A['소지카드수_이용가능_신용'])/train.shape[0]"
   ]
  },
  {
   "cell_type": "code",
   "execution_count": 33,
   "id": "d21608a3-60f7-4406-bc45-b4605e049e10",
   "metadata": {},
   "outputs": [
    {
     "data": {
      "text/plain": [
       "0.9097341666666666"
      ]
     },
     "execution_count": 33,
     "metadata": {},
     "output_type": "execute_result"
    }
   ],
   "source": [
    "sum(train['소지카드수_유효_신용'] == train['소지카드수_이용가능_신용'])/train.shape[0]"
   ]
  },
  {
   "cell_type": "code",
   "execution_count": 61,
   "id": "4462b8d2-c7ca-4234-bd4b-38bf2f2fd043",
   "metadata": {},
   "outputs": [
    {
     "data": {
      "text/plain": [
       "0"
      ]
     },
     "execution_count": 61,
     "metadata": {},
     "output_type": "execute_result"
    }
   ],
   "source": [
    "sum(~train['소지카드수_유효_신용'] == train['소지카드수_이용가능_신용'])"
   ]
  },
  {
   "cell_type": "code",
   "execution_count": null,
   "id": "a1e50834-b560-49e0-8f53-f2032ac191f5",
   "metadata": {},
   "outputs": [],
   "source": []
  },
  {
   "cell_type": "code",
   "execution_count": null,
   "id": "a1bb3c36-eaaa-4af8-9ca5-331682ebd4e4",
   "metadata": {},
   "outputs": [],
   "source": []
  },
  {
   "cell_type": "code",
   "execution_count": null,
   "id": "d56e7939-5541-4b7a-82b0-33903d5a0e03",
   "metadata": {},
   "outputs": [],
   "source": []
  },
  {
   "cell_type": "code",
   "execution_count": null,
   "id": "bea72e96-eb3e-4c60-b6b6-a0cddbe1e86c",
   "metadata": {},
   "outputs": [],
   "source": []
  },
  {
   "cell_type": "code",
   "execution_count": null,
   "id": "4c7aa0cd-5295-45e5-b6ae-5e4518c46144",
   "metadata": {},
   "outputs": [],
   "source": [
    "sns.swarmplot(data = train, x = 'Segment', y = '소지카드수_유효_신용', color = 'k', size = 2, ax = ax)\n",
    "plt.show()"
   ]
  },
  {
   "cell_type": "code",
   "execution_count": 11,
   "id": "43ff99e2-c54a-472f-b7a8-3a53c182564d",
   "metadata": {},
   "outputs": [
    {
     "data": {
      "text/html": [
       "<div>\n",
       "<style scoped>\n",
       "    .dataframe tbody tr th:only-of-type {\n",
       "        vertical-align: middle;\n",
       "    }\n",
       "\n",
       "    .dataframe tbody tr th {\n",
       "        vertical-align: top;\n",
       "    }\n",
       "\n",
       "    .dataframe thead th {\n",
       "        text-align: right;\n",
       "    }\n",
       "</style>\n",
       "<table border=\"1\" class=\"dataframe\">\n",
       "  <thead>\n",
       "    <tr style=\"text-align: right;\">\n",
       "      <th></th>\n",
       "      <th>회원여부_이용가능_CA</th>\n",
       "      <th>이용거절여부_카드론</th>\n",
       "      <th>이용여부_3M_해외겸용_본인</th>\n",
       "      <th>보유여부_해외겸용_신용_본인</th>\n",
       "      <th>이용여부_3M_해외겸용_신용_본인</th>\n",
       "      <th>카드신청건수</th>\n",
       "    </tr>\n",
       "  </thead>\n",
       "  <tbody>\n",
       "    <tr>\n",
       "      <th>0</th>\n",
       "      <td>1</td>\n",
       "      <td>0</td>\n",
       "      <td>0</td>\n",
       "      <td>0</td>\n",
       "      <td>0</td>\n",
       "      <td>0</td>\n",
       "    </tr>\n",
       "    <tr>\n",
       "      <th>1</th>\n",
       "      <td>1</td>\n",
       "      <td>0</td>\n",
       "      <td>0</td>\n",
       "      <td>0</td>\n",
       "      <td>0</td>\n",
       "      <td>0</td>\n",
       "    </tr>\n",
       "    <tr>\n",
       "      <th>2</th>\n",
       "      <td>1</td>\n",
       "      <td>0</td>\n",
       "      <td>0</td>\n",
       "      <td>0</td>\n",
       "      <td>0</td>\n",
       "      <td>0</td>\n",
       "    </tr>\n",
       "    <tr>\n",
       "      <th>3</th>\n",
       "      <td>1</td>\n",
       "      <td>0</td>\n",
       "      <td>1</td>\n",
       "      <td>1</td>\n",
       "      <td>1</td>\n",
       "      <td>1</td>\n",
       "    </tr>\n",
       "    <tr>\n",
       "      <th>4</th>\n",
       "      <td>1</td>\n",
       "      <td>0</td>\n",
       "      <td>1</td>\n",
       "      <td>0</td>\n",
       "      <td>0</td>\n",
       "      <td>1</td>\n",
       "    </tr>\n",
       "    <tr>\n",
       "      <th>...</th>\n",
       "      <td>...</td>\n",
       "      <td>...</td>\n",
       "      <td>...</td>\n",
       "      <td>...</td>\n",
       "      <td>...</td>\n",
       "      <td>...</td>\n",
       "    </tr>\n",
       "    <tr>\n",
       "      <th>2399995</th>\n",
       "      <td>1</td>\n",
       "      <td>0</td>\n",
       "      <td>1</td>\n",
       "      <td>1</td>\n",
       "      <td>0</td>\n",
       "      <td>0</td>\n",
       "    </tr>\n",
       "    <tr>\n",
       "      <th>2399996</th>\n",
       "      <td>1</td>\n",
       "      <td>0</td>\n",
       "      <td>1</td>\n",
       "      <td>1</td>\n",
       "      <td>1</td>\n",
       "      <td>0</td>\n",
       "    </tr>\n",
       "    <tr>\n",
       "      <th>2399997</th>\n",
       "      <td>1</td>\n",
       "      <td>0</td>\n",
       "      <td>1</td>\n",
       "      <td>1</td>\n",
       "      <td>1</td>\n",
       "      <td>0</td>\n",
       "    </tr>\n",
       "    <tr>\n",
       "      <th>2399998</th>\n",
       "      <td>1</td>\n",
       "      <td>0</td>\n",
       "      <td>0</td>\n",
       "      <td>0</td>\n",
       "      <td>0</td>\n",
       "      <td>0</td>\n",
       "    </tr>\n",
       "    <tr>\n",
       "      <th>2399999</th>\n",
       "      <td>1</td>\n",
       "      <td>1</td>\n",
       "      <td>0</td>\n",
       "      <td>0</td>\n",
       "      <td>0</td>\n",
       "      <td>0</td>\n",
       "    </tr>\n",
       "  </tbody>\n",
       "</table>\n",
       "<p>2400000 rows × 6 columns</p>\n",
       "</div>"
      ],
      "text/plain": [
       "         회원여부_이용가능_CA  이용거절여부_카드론  이용여부_3M_해외겸용_본인  보유여부_해외겸용_신용_본인  \\\n",
       "0                   1           0                0                0   \n",
       "1                   1           0                0                0   \n",
       "2                   1           0                0                0   \n",
       "3                   1           0                1                1   \n",
       "4                   1           0                1                0   \n",
       "...               ...         ...              ...              ...   \n",
       "2399995             1           0                1                1   \n",
       "2399996             1           0                1                1   \n",
       "2399997             1           0                1                1   \n",
       "2399998             1           0                0                0   \n",
       "2399999             1           1                0                0   \n",
       "\n",
       "         이용여부_3M_해외겸용_신용_본인  카드신청건수  \n",
       "0                         0       0  \n",
       "1                         0       0  \n",
       "2                         0       0  \n",
       "3                         1       1  \n",
       "4                         0       1  \n",
       "...                     ...     ...  \n",
       "2399995                   0       0  \n",
       "2399996                   1       0  \n",
       "2399997                   1       0  \n",
       "2399998                   0       0  \n",
       "2399999                   0       0  \n",
       "\n",
       "[2400000 rows x 6 columns]"
      ]
     },
     "execution_count": 11,
     "metadata": {},
     "output_type": "execute_result"
    }
   ],
   "source": [
    "train[category_list]"
   ]
  },
  {
   "cell_type": "code",
   "execution_count": null,
   "id": "412f88f5-a7cd-485e-a0e7-b1a6f2c2b1a3",
   "metadata": {},
   "outputs": [],
   "source": []
  }
 ],
 "metadata": {
  "kernelspec": {
   "display_name": "Python (gpu_env)",
   "language": "python",
   "name": "gpu_env"
  },
  "language_info": {
   "codemirror_mode": {
    "name": "ipython",
    "version": 3
   },
   "file_extension": ".py",
   "mimetype": "text/x-python",
   "name": "python",
   "nbconvert_exporter": "python",
   "pygments_lexer": "ipython3",
   "version": "3.10.18"
  }
 },
 "nbformat": 4,
 "nbformat_minor": 5
}
