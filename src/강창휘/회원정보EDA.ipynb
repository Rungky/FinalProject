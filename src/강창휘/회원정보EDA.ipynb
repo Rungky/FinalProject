{
 "cells": [
  {
   "cell_type": "code",
   "execution_count": 2,
   "id": "5cc4591d-8021-4639-bf5f-fef509a5f288",
   "metadata": {},
   "outputs": [],
   "source": [
    "import pandas as pd\n",
    "import numpy as np\n",
    "import matplotlib.pyplot as plt\n",
    "import seaborn as sns\n",
    "import gc\n",
    "\n",
    "# 경고 메시지가 뜨지 않게 설정\n",
    "import warnings \n",
    "warnings.filterwarnings('ignore')\n",
    "\n",
    "# 그래프 설정\n",
    "sns.set()\n",
    "\n",
    "# 그래프 기본 설정\n",
    "plt.rcParams['font.family'] = 'Malgun Gothic'\n",
    "# plt.rcParams['font.family'] = 'AppleGothic'\n",
    "plt.rcParams['figure.figsize'] = 12, 6\n",
    "plt.rcParams['font.size'] = 14\n",
    "plt.rcParams['axes.unicode_minus'] = False\n",
    "\n",
    "# matplotlib 설정\n",
    "from matplotlib.ticker import ScalarFormatter\n",
    "from matplotlib.ticker import FuncFormatter\n",
    "\n",
    "def comma_formatter(x, pos):\n",
    "    return f'{int(x):,}'\n",
    "# 검정\n",
    "from scipy import stats"
   ]
  },
  {
   "cell_type": "markdown",
   "id": "c008d2c4-a01b-46f3-8e14-08c0650c44fa",
   "metadata": {},
   "source": [
    "- 데이터 불러오기"
   ]
  },
  {
   "cell_type": "code",
   "execution_count": 5,
   "id": "b5dcbded-da73-4fe9-8918-9f3b762bc2a7",
   "metadata": {},
   "outputs": [],
   "source": [
    "check = pd.read_parquet('2018_회원정보.parquet')"
   ]
  },
  {
   "cell_type": "code",
   "execution_count": 3,
   "id": "11826fba-aca2-4013-ae48-00d750f1afbc",
   "metadata": {},
   "outputs": [],
   "source": [
    "df = pd.read_csv('병합_selected_features.csv')"
   ]
  },
  {
   "cell_type": "code",
   "execution_count": 7,
   "id": "994d82ae-0fcf-47f7-bca7-eda9f47942a0",
   "metadata": {
    "scrolled": true
   },
   "outputs": [
    {
     "ename": "KeyError",
     "evalue": "\"['기준년월', '남녀구분코드', '연령', '회원여부_이용가능_카드론', '소지여부_신용', '회원여부_연체', '이용거절여부_카드론', '동의여부_한도증액안내', '수신거부여부_TM', '수신거부여부_SMS', '가입통신회사코드', '탈회횟수_누적', '최종탈회후경과월', '탈회횟수_발급6개월이내', '거주시도명', '직장시도명', '유효카드수_체크', '유효카드수_체크_가족', '이용가능카드수_신용체크', '이용가능카드수_신용_가족', '이용가능카드수_체크_가족', '이용카드수_신용체크', '이용카드수_신용', '이용카드수_신용_가족', '이용카드수_체크', '이용카드수_체크_가족', '이용금액_R3M_신용_가족', '이용금액_R3M_체크_가족', '_1순위카드이용금액', '_1순위신용체크구분', '_2순위카드이용금액', '_2순위카드이용건수', '_2순위신용체크구분', '최종유효년월_신용_이용가능', '최종유효년월_신용_이용', '최종카드발급일자', '이용여부_3M_해외겸용_본인', '보유여부_해외겸용_신용_본인', '이용여부_3M_해외겸용_신용_본인', '연회비발생카드수_B0M', '연회비할인카드수_B0M', '기본연회비_B0M', '제휴연회비_B0M', '할인금액_기본연회비_B0M', '할인금액_제휴연회비_B0M', '청구금액_기본연회비_B0M', '청구금액_제휴연회비_B0M', '상품관련면제카드수_B0M', '임직원면제카드수_B0M', '우수회원면제카드수_B0M', '기타면제카드수_B0M', '카드신청건수', 'Life_Stage'] not in index\"",
     "output_type": "error",
     "traceback": [
      "\u001b[1;31m---------------------------------------------------------------------------\u001b[0m",
      "\u001b[1;31mKeyError\u001b[0m                                  Traceback (most recent call last)",
      "Cell \u001b[1;32mIn[7], line 1\u001b[0m\n\u001b[1;32m----> 1\u001b[0m \u001b[43mdf\u001b[49m\u001b[43m[\u001b[49m\u001b[38;5;28;43mlist\u001b[39;49m\u001b[43m(\u001b[49m\u001b[43mcheck\u001b[49m\u001b[38;5;241;43m.\u001b[39;49m\u001b[43mcolumns\u001b[49m\u001b[43m)\u001b[49m\u001b[43m]\u001b[49m\n",
      "File \u001b[1;32m~\\anaconda3\\envs\\gpu_env\\lib\\site-packages\\pandas\\core\\frame.py:4113\u001b[0m, in \u001b[0;36mDataFrame.__getitem__\u001b[1;34m(self, key)\u001b[0m\n\u001b[0;32m   4111\u001b[0m     \u001b[38;5;28;01mif\u001b[39;00m is_iterator(key):\n\u001b[0;32m   4112\u001b[0m         key \u001b[38;5;241m=\u001b[39m \u001b[38;5;28mlist\u001b[39m(key)\n\u001b[1;32m-> 4113\u001b[0m     indexer \u001b[38;5;241m=\u001b[39m \u001b[38;5;28;43mself\u001b[39;49m\u001b[38;5;241;43m.\u001b[39;49m\u001b[43mcolumns\u001b[49m\u001b[38;5;241;43m.\u001b[39;49m\u001b[43m_get_indexer_strict\u001b[49m\u001b[43m(\u001b[49m\u001b[43mkey\u001b[49m\u001b[43m,\u001b[49m\u001b[43m \u001b[49m\u001b[38;5;124;43m\"\u001b[39;49m\u001b[38;5;124;43mcolumns\u001b[39;49m\u001b[38;5;124;43m\"\u001b[39;49m\u001b[43m)\u001b[49m[\u001b[38;5;241m1\u001b[39m]\n\u001b[0;32m   4115\u001b[0m \u001b[38;5;66;03m# take() does not accept boolean indexers\u001b[39;00m\n\u001b[0;32m   4116\u001b[0m \u001b[38;5;28;01mif\u001b[39;00m \u001b[38;5;28mgetattr\u001b[39m(indexer, \u001b[38;5;124m\"\u001b[39m\u001b[38;5;124mdtype\u001b[39m\u001b[38;5;124m\"\u001b[39m, \u001b[38;5;28;01mNone\u001b[39;00m) \u001b[38;5;241m==\u001b[39m \u001b[38;5;28mbool\u001b[39m:\n",
      "File \u001b[1;32m~\\anaconda3\\envs\\gpu_env\\lib\\site-packages\\pandas\\core\\indexes\\base.py:6212\u001b[0m, in \u001b[0;36mIndex._get_indexer_strict\u001b[1;34m(self, key, axis_name)\u001b[0m\n\u001b[0;32m   6209\u001b[0m \u001b[38;5;28;01melse\u001b[39;00m:\n\u001b[0;32m   6210\u001b[0m     keyarr, indexer, new_indexer \u001b[38;5;241m=\u001b[39m \u001b[38;5;28mself\u001b[39m\u001b[38;5;241m.\u001b[39m_reindex_non_unique(keyarr)\n\u001b[1;32m-> 6212\u001b[0m \u001b[38;5;28;43mself\u001b[39;49m\u001b[38;5;241;43m.\u001b[39;49m\u001b[43m_raise_if_missing\u001b[49m\u001b[43m(\u001b[49m\u001b[43mkeyarr\u001b[49m\u001b[43m,\u001b[49m\u001b[43m \u001b[49m\u001b[43mindexer\u001b[49m\u001b[43m,\u001b[49m\u001b[43m \u001b[49m\u001b[43maxis_name\u001b[49m\u001b[43m)\u001b[49m\n\u001b[0;32m   6214\u001b[0m keyarr \u001b[38;5;241m=\u001b[39m \u001b[38;5;28mself\u001b[39m\u001b[38;5;241m.\u001b[39mtake(indexer)\n\u001b[0;32m   6215\u001b[0m \u001b[38;5;28;01mif\u001b[39;00m \u001b[38;5;28misinstance\u001b[39m(key, Index):\n\u001b[0;32m   6216\u001b[0m     \u001b[38;5;66;03m# GH 42790 - Preserve name from an Index\u001b[39;00m\n",
      "File \u001b[1;32m~\\anaconda3\\envs\\gpu_env\\lib\\site-packages\\pandas\\core\\indexes\\base.py:6264\u001b[0m, in \u001b[0;36mIndex._raise_if_missing\u001b[1;34m(self, key, indexer, axis_name)\u001b[0m\n\u001b[0;32m   6261\u001b[0m     \u001b[38;5;28;01mraise\u001b[39;00m \u001b[38;5;167;01mKeyError\u001b[39;00m(\u001b[38;5;124mf\u001b[39m\u001b[38;5;124m\"\u001b[39m\u001b[38;5;124mNone of [\u001b[39m\u001b[38;5;132;01m{\u001b[39;00mkey\u001b[38;5;132;01m}\u001b[39;00m\u001b[38;5;124m] are in the [\u001b[39m\u001b[38;5;132;01m{\u001b[39;00maxis_name\u001b[38;5;132;01m}\u001b[39;00m\u001b[38;5;124m]\u001b[39m\u001b[38;5;124m\"\u001b[39m)\n\u001b[0;32m   6263\u001b[0m not_found \u001b[38;5;241m=\u001b[39m \u001b[38;5;28mlist\u001b[39m(ensure_index(key)[missing_mask\u001b[38;5;241m.\u001b[39mnonzero()[\u001b[38;5;241m0\u001b[39m]]\u001b[38;5;241m.\u001b[39munique())\n\u001b[1;32m-> 6264\u001b[0m \u001b[38;5;28;01mraise\u001b[39;00m \u001b[38;5;167;01mKeyError\u001b[39;00m(\u001b[38;5;124mf\u001b[39m\u001b[38;5;124m\"\u001b[39m\u001b[38;5;132;01m{\u001b[39;00mnot_found\u001b[38;5;132;01m}\u001b[39;00m\u001b[38;5;124m not in index\u001b[39m\u001b[38;5;124m\"\u001b[39m)\n",
      "\u001b[1;31mKeyError\u001b[0m: \"['기준년월', '남녀구분코드', '연령', '회원여부_이용가능_카드론', '소지여부_신용', '회원여부_연체', '이용거절여부_카드론', '동의여부_한도증액안내', '수신거부여부_TM', '수신거부여부_SMS', '가입통신회사코드', '탈회횟수_누적', '최종탈회후경과월', '탈회횟수_발급6개월이내', '거주시도명', '직장시도명', '유효카드수_체크', '유효카드수_체크_가족', '이용가능카드수_신용체크', '이용가능카드수_신용_가족', '이용가능카드수_체크_가족', '이용카드수_신용체크', '이용카드수_신용', '이용카드수_신용_가족', '이용카드수_체크', '이용카드수_체크_가족', '이용금액_R3M_신용_가족', '이용금액_R3M_체크_가족', '_1순위카드이용금액', '_1순위신용체크구분', '_2순위카드이용금액', '_2순위카드이용건수', '_2순위신용체크구분', '최종유효년월_신용_이용가능', '최종유효년월_신용_이용', '최종카드발급일자', '이용여부_3M_해외겸용_본인', '보유여부_해외겸용_신용_본인', '이용여부_3M_해외겸용_신용_본인', '연회비발생카드수_B0M', '연회비할인카드수_B0M', '기본연회비_B0M', '제휴연회비_B0M', '할인금액_기본연회비_B0M', '할인금액_제휴연회비_B0M', '청구금액_기본연회비_B0M', '청구금액_제휴연회비_B0M', '상품관련면제카드수_B0M', '임직원면제카드수_B0M', '우수회원면제카드수_B0M', '기타면제카드수_B0M', '카드신청건수', 'Life_Stage'] not in index\""
     ]
    }
   ],
   "source": [
    "df[list(check.columns)]"
   ]
  },
  {
   "cell_type": "code",
   "execution_count": 8,
   "id": "a51b5134-3162-4e25-a4bb-690cb9f6a140",
   "metadata": {},
   "outputs": [],
   "source": [
    "drop_list = ['기준년월', '남녀구분코드', '연령', '회원여부_이용가능_카드론', '소지여부_신용', '회원여부_연체', '이용거절여부_카드론', '동의여부_한도증액안내',\n",
    " '수신거부여부_TM', '수신거부여부_SMS', '가입통신회사코드', '탈회횟수_누적', '최종탈회후경과월', '탈회횟수_발급6개월이내', '거주시도명', '직장시도명',\n",
    " '유효카드수_체크', '유효카드수_체크_가족', '이용가능카드수_신용체크', '이용가능카드수_신용_가족', '이용가능카드수_체크_가족', '이용카드수_신용체크',\n",
    " '이용카드수_신용', '이용카드수_신용_가족', '이용카드수_체크', '이용카드수_체크_가족', '이용금액_R3M_신용_가족', '이용금액_R3M_체크_가족',\n",
    " '_1순위카드이용금액', '_1순위신용체크구분', '_2순위카드이용금액', '_2순위카드이용건수', '_2순위신용체크구분', '최종유효년월_신용_이용가능',\n",
    " '최종유효년월_신용_이용', '최종카드발급일자', '이용여부_3M_해외겸용_본인', '보유여부_해외겸용_신용_본인', '이용여부_3M_해외겸용_신용_본인',\n",
    " '연회비발생카드수_B0M', '연회비할인카드수_B0M', '기본연회비_B0M', '제휴연회비_B0M', '할인금액_기본연회비_B0M', '할인금액_제휴연회비_B0M',\n",
    " '청구금액_기본연회비_B0M', '청구금액_제휴연회비_B0M', '상품관련면제카드수_B0M', '임직원면제카드수_B0M', '우수회원면제카드수_B0M', \n",
    "             '기타면제카드수_B0M', '카드신청건수', 'Life_Stage']"
   ]
  },
  {
   "cell_type": "code",
   "execution_count": 15,
   "id": "e37f873e-b818-4501-a7ed-c7f051974cd5",
   "metadata": {},
   "outputs": [],
   "source": [
    "df = df[list(check.drop(drop_list, axis = 1).columns)]"
   ]
  },
  {
   "cell_type": "code",
   "execution_count": 16,
   "id": "037fd50b-e13a-4fe4-8fab-46f11b074a62",
   "metadata": {},
   "outputs": [
    {
     "data": {
      "text/html": [
       "<div>\n",
       "<style scoped>\n",
       "    .dataframe tbody tr th:only-of-type {\n",
       "        vertical-align: middle;\n",
       "    }\n",
       "\n",
       "    .dataframe tbody tr th {\n",
       "        vertical-align: top;\n",
       "    }\n",
       "\n",
       "    .dataframe thead th {\n",
       "        text-align: right;\n",
       "    }\n",
       "</style>\n",
       "<table border=\"1\" class=\"dataframe\">\n",
       "  <thead>\n",
       "    <tr style=\"text-align: right;\">\n",
       "      <th></th>\n",
       "      <th>ID</th>\n",
       "      <th>Segment</th>\n",
       "      <th>회원여부_이용가능</th>\n",
       "      <th>회원여부_이용가능_CA</th>\n",
       "      <th>소지카드수_유효_신용</th>\n",
       "      <th>소지카드수_이용가능_신용</th>\n",
       "      <th>입회일자_신용</th>\n",
       "      <th>입회경과개월수_신용</th>\n",
       "      <th>수신거부여부_DM</th>\n",
       "      <th>수신거부여부_메일</th>\n",
       "      <th>...</th>\n",
       "      <th>이용가능카드수_신용</th>\n",
       "      <th>이용가능카드수_체크</th>\n",
       "      <th>이용금액_R3M_신용체크</th>\n",
       "      <th>이용금액_R3M_신용</th>\n",
       "      <th>이용금액_R3M_체크</th>\n",
       "      <th>_1순위카드이용건수</th>\n",
       "      <th>보유여부_해외겸용_본인</th>\n",
       "      <th>이용가능여부_해외겸용_본인</th>\n",
       "      <th>이용가능여부_해외겸용_신용_본인</th>\n",
       "      <th>최종카드발급경과월</th>\n",
       "    </tr>\n",
       "  </thead>\n",
       "  <tbody>\n",
       "    <tr>\n",
       "      <th>0</th>\n",
       "      <td>TRAIN_000000</td>\n",
       "      <td>D</td>\n",
       "      <td>1</td>\n",
       "      <td>1</td>\n",
       "      <td>1</td>\n",
       "      <td>1</td>\n",
       "      <td>20130101</td>\n",
       "      <td>71</td>\n",
       "      <td>0</td>\n",
       "      <td>0</td>\n",
       "      <td>...</td>\n",
       "      <td>1</td>\n",
       "      <td>1</td>\n",
       "      <td>-454</td>\n",
       "      <td>-454</td>\n",
       "      <td>0</td>\n",
       "      <td>25</td>\n",
       "      <td>0</td>\n",
       "      <td>0</td>\n",
       "      <td>0</td>\n",
       "      <td>27</td>\n",
       "    </tr>\n",
       "    <tr>\n",
       "      <th>1</th>\n",
       "      <td>TRAIN_000001</td>\n",
       "      <td>E</td>\n",
       "      <td>1</td>\n",
       "      <td>1</td>\n",
       "      <td>1</td>\n",
       "      <td>1</td>\n",
       "      <td>20170801</td>\n",
       "      <td>16</td>\n",
       "      <td>0</td>\n",
       "      <td>0</td>\n",
       "      <td>...</td>\n",
       "      <td>1</td>\n",
       "      <td>0</td>\n",
       "      <td>7089</td>\n",
       "      <td>7089</td>\n",
       "      <td>0</td>\n",
       "      <td>31</td>\n",
       "      <td>0</td>\n",
       "      <td>0</td>\n",
       "      <td>0</td>\n",
       "      <td>23</td>\n",
       "    </tr>\n",
       "    <tr>\n",
       "      <th>2</th>\n",
       "      <td>TRAIN_000002</td>\n",
       "      <td>C</td>\n",
       "      <td>1</td>\n",
       "      <td>1</td>\n",
       "      <td>1</td>\n",
       "      <td>1</td>\n",
       "      <td>20080401</td>\n",
       "      <td>128</td>\n",
       "      <td>0</td>\n",
       "      <td>0</td>\n",
       "      <td>...</td>\n",
       "      <td>1</td>\n",
       "      <td>1</td>\n",
       "      <td>27336</td>\n",
       "      <td>27336</td>\n",
       "      <td>0</td>\n",
       "      <td>52</td>\n",
       "      <td>1</td>\n",
       "      <td>1</td>\n",
       "      <td>0</td>\n",
       "      <td>25</td>\n",
       "    </tr>\n",
       "    <tr>\n",
       "      <th>3</th>\n",
       "      <td>TRAIN_000003</td>\n",
       "      <td>D</td>\n",
       "      <td>1</td>\n",
       "      <td>1</td>\n",
       "      <td>2</td>\n",
       "      <td>2</td>\n",
       "      <td>20160501</td>\n",
       "      <td>31</td>\n",
       "      <td>0</td>\n",
       "      <td>0</td>\n",
       "      <td>...</td>\n",
       "      <td>2</td>\n",
       "      <td>1</td>\n",
       "      <td>4270</td>\n",
       "      <td>4270</td>\n",
       "      <td>0</td>\n",
       "      <td>27</td>\n",
       "      <td>1</td>\n",
       "      <td>1</td>\n",
       "      <td>1</td>\n",
       "      <td>22</td>\n",
       "    </tr>\n",
       "    <tr>\n",
       "      <th>4</th>\n",
       "      <td>TRAIN_000004</td>\n",
       "      <td>E</td>\n",
       "      <td>1</td>\n",
       "      <td>1</td>\n",
       "      <td>1</td>\n",
       "      <td>1</td>\n",
       "      <td>20180601</td>\n",
       "      <td>6</td>\n",
       "      <td>0</td>\n",
       "      <td>1</td>\n",
       "      <td>...</td>\n",
       "      <td>1</td>\n",
       "      <td>1</td>\n",
       "      <td>9385</td>\n",
       "      <td>7387</td>\n",
       "      <td>1997</td>\n",
       "      <td>-2</td>\n",
       "      <td>1</td>\n",
       "      <td>1</td>\n",
       "      <td>0</td>\n",
       "      <td>20</td>\n",
       "    </tr>\n",
       "    <tr>\n",
       "      <th>...</th>\n",
       "      <td>...</td>\n",
       "      <td>...</td>\n",
       "      <td>...</td>\n",
       "      <td>...</td>\n",
       "      <td>...</td>\n",
       "      <td>...</td>\n",
       "      <td>...</td>\n",
       "      <td>...</td>\n",
       "      <td>...</td>\n",
       "      <td>...</td>\n",
       "      <td>...</td>\n",
       "      <td>...</td>\n",
       "      <td>...</td>\n",
       "      <td>...</td>\n",
       "      <td>...</td>\n",
       "      <td>...</td>\n",
       "      <td>...</td>\n",
       "      <td>...</td>\n",
       "      <td>...</td>\n",
       "      <td>...</td>\n",
       "      <td>...</td>\n",
       "    </tr>\n",
       "    <tr>\n",
       "      <th>399995</th>\n",
       "      <td>TRAIN_399995</td>\n",
       "      <td>E</td>\n",
       "      <td>1</td>\n",
       "      <td>1</td>\n",
       "      <td>1</td>\n",
       "      <td>1</td>\n",
       "      <td>20010701</td>\n",
       "      <td>209</td>\n",
       "      <td>0</td>\n",
       "      <td>0</td>\n",
       "      <td>...</td>\n",
       "      <td>1</td>\n",
       "      <td>1</td>\n",
       "      <td>10755</td>\n",
       "      <td>7267</td>\n",
       "      <td>3488</td>\n",
       "      <td>3</td>\n",
       "      <td>1</td>\n",
       "      <td>1</td>\n",
       "      <td>1</td>\n",
       "      <td>39</td>\n",
       "    </tr>\n",
       "    <tr>\n",
       "      <th>399996</th>\n",
       "      <td>TRAIN_399996</td>\n",
       "      <td>D</td>\n",
       "      <td>1</td>\n",
       "      <td>1</td>\n",
       "      <td>1</td>\n",
       "      <td>1</td>\n",
       "      <td>20170701</td>\n",
       "      <td>17</td>\n",
       "      <td>0</td>\n",
       "      <td>0</td>\n",
       "      <td>...</td>\n",
       "      <td>1</td>\n",
       "      <td>0</td>\n",
       "      <td>27636</td>\n",
       "      <td>27636</td>\n",
       "      <td>0</td>\n",
       "      <td>38</td>\n",
       "      <td>1</td>\n",
       "      <td>1</td>\n",
       "      <td>1</td>\n",
       "      <td>24</td>\n",
       "    </tr>\n",
       "    <tr>\n",
       "      <th>399997</th>\n",
       "      <td>TRAIN_399997</td>\n",
       "      <td>C</td>\n",
       "      <td>1</td>\n",
       "      <td>1</td>\n",
       "      <td>1</td>\n",
       "      <td>1</td>\n",
       "      <td>20090501</td>\n",
       "      <td>115</td>\n",
       "      <td>1</td>\n",
       "      <td>1</td>\n",
       "      <td>...</td>\n",
       "      <td>1</td>\n",
       "      <td>0</td>\n",
       "      <td>23187</td>\n",
       "      <td>23187</td>\n",
       "      <td>0</td>\n",
       "      <td>33</td>\n",
       "      <td>1</td>\n",
       "      <td>1</td>\n",
       "      <td>1</td>\n",
       "      <td>18</td>\n",
       "    </tr>\n",
       "    <tr>\n",
       "      <th>399998</th>\n",
       "      <td>TRAIN_399998</td>\n",
       "      <td>E</td>\n",
       "      <td>1</td>\n",
       "      <td>1</td>\n",
       "      <td>1</td>\n",
       "      <td>1</td>\n",
       "      <td>20130101</td>\n",
       "      <td>71</td>\n",
       "      <td>1</td>\n",
       "      <td>1</td>\n",
       "      <td>...</td>\n",
       "      <td>1</td>\n",
       "      <td>0</td>\n",
       "      <td>0</td>\n",
       "      <td>0</td>\n",
       "      <td>0</td>\n",
       "      <td>-2</td>\n",
       "      <td>0</td>\n",
       "      <td>0</td>\n",
       "      <td>0</td>\n",
       "      <td>27</td>\n",
       "    </tr>\n",
       "    <tr>\n",
       "      <th>399999</th>\n",
       "      <td>TRAIN_399999</td>\n",
       "      <td>E</td>\n",
       "      <td>1</td>\n",
       "      <td>1</td>\n",
       "      <td>1</td>\n",
       "      <td>1</td>\n",
       "      <td>20180501</td>\n",
       "      <td>7</td>\n",
       "      <td>1</td>\n",
       "      <td>1</td>\n",
       "      <td>...</td>\n",
       "      <td>2</td>\n",
       "      <td>0</td>\n",
       "      <td>21463</td>\n",
       "      <td>21463</td>\n",
       "      <td>0</td>\n",
       "      <td>-2</td>\n",
       "      <td>0</td>\n",
       "      <td>0</td>\n",
       "      <td>0</td>\n",
       "      <td>18</td>\n",
       "    </tr>\n",
       "  </tbody>\n",
       "</table>\n",
       "<p>400000 rows × 25 columns</p>\n",
       "</div>"
      ],
      "text/plain": [
       "                  ID Segment  회원여부_이용가능  회원여부_이용가능_CA  소지카드수_유효_신용  \\\n",
       "0       TRAIN_000000       D          1             1            1   \n",
       "1       TRAIN_000001       E          1             1            1   \n",
       "2       TRAIN_000002       C          1             1            1   \n",
       "3       TRAIN_000003       D          1             1            2   \n",
       "4       TRAIN_000004       E          1             1            1   \n",
       "...              ...     ...        ...           ...          ...   \n",
       "399995  TRAIN_399995       E          1             1            1   \n",
       "399996  TRAIN_399996       D          1             1            1   \n",
       "399997  TRAIN_399997       C          1             1            1   \n",
       "399998  TRAIN_399998       E          1             1            1   \n",
       "399999  TRAIN_399999       E          1             1            1   \n",
       "\n",
       "        소지카드수_이용가능_신용   입회일자_신용  입회경과개월수_신용  수신거부여부_DM  수신거부여부_메일  ...  \\\n",
       "0                   1  20130101          71          0          0  ...   \n",
       "1                   1  20170801          16          0          0  ...   \n",
       "2                   1  20080401         128          0          0  ...   \n",
       "3                   2  20160501          31          0          0  ...   \n",
       "4                   1  20180601           6          0          1  ...   \n",
       "...               ...       ...         ...        ...        ...  ...   \n",
       "399995              1  20010701         209          0          0  ...   \n",
       "399996              1  20170701          17          0          0  ...   \n",
       "399997              1  20090501         115          1          1  ...   \n",
       "399998              1  20130101          71          1          1  ...   \n",
       "399999              1  20180501           7          1          1  ...   \n",
       "\n",
       "        이용가능카드수_신용  이용가능카드수_체크  이용금액_R3M_신용체크  이용금액_R3M_신용  이용금액_R3M_체크  \\\n",
       "0                1           1           -454         -454            0   \n",
       "1                1           0           7089         7089            0   \n",
       "2                1           1          27336        27336            0   \n",
       "3                2           1           4270         4270            0   \n",
       "4                1           1           9385         7387         1997   \n",
       "...            ...         ...            ...          ...          ...   \n",
       "399995           1           1          10755         7267         3488   \n",
       "399996           1           0          27636        27636            0   \n",
       "399997           1           0          23187        23187            0   \n",
       "399998           1           0              0            0            0   \n",
       "399999           2           0          21463        21463            0   \n",
       "\n",
       "        _1순위카드이용건수  보유여부_해외겸용_본인  이용가능여부_해외겸용_본인  이용가능여부_해외겸용_신용_본인  최종카드발급경과월  \n",
       "0               25             0               0                  0         27  \n",
       "1               31             0               0                  0         23  \n",
       "2               52             1               1                  0         25  \n",
       "3               27             1               1                  1         22  \n",
       "4               -2             1               1                  0         20  \n",
       "...            ...           ...             ...                ...        ...  \n",
       "399995           3             1               1                  1         39  \n",
       "399996          38             1               1                  1         24  \n",
       "399997          33             1               1                  1         18  \n",
       "399998          -2             0               0                  0         27  \n",
       "399999          -2             0               0                  0         18  \n",
       "\n",
       "[400000 rows x 25 columns]"
      ]
     },
     "execution_count": 16,
     "metadata": {},
     "output_type": "execute_result"
    }
   ],
   "source": [
    "df"
   ]
  },
  {
   "cell_type": "code",
   "execution_count": 21,
   "id": "ae8886fa-5231-4170-a43a-6c4ec5dbb1a3",
   "metadata": {
    "scrolled": true
   },
   "outputs": [
    {
     "name": "stdout",
     "output_type": "stream",
     "text": [
      "0 : ID\n",
      "1 : Segment\n",
      "2 : 회원여부_이용가능\n",
      "3 : 회원여부_이용가능_CA\n",
      "4 : 소지카드수_유효_신용\n",
      "5 : 소지카드수_이용가능_신용\n",
      "6 : 입회일자_신용\n",
      "7 : 입회경과개월수_신용\n",
      "8 : 수신거부여부_DM\n",
      "9 : 수신거부여부_메일\n",
      "10 : 탈회횟수_발급1년이내\n",
      "11 : 마케팅동의여부\n",
      "12 : 유효카드수_신용체크\n",
      "13 : 유효카드수_신용\n",
      "14 : 유효카드수_신용_가족\n",
      "15 : 이용가능카드수_신용\n",
      "16 : 이용가능카드수_체크\n",
      "17 : 이용금액_R3M_신용체크\n",
      "18 : 이용금액_R3M_신용\n",
      "19 : 이용금액_R3M_체크\n",
      "20 : _1순위카드이용건수\n",
      "21 : 보유여부_해외겸용_본인\n",
      "22 : 이용가능여부_해외겸용_본인\n",
      "23 : 이용가능여부_해외겸용_신용_본인\n",
      "24 : 최종카드발급경과월\n"
     ]
    }
   ],
   "source": [
    "for idx, val in enumerate(df.columns) :\n",
    "    print(f'{idx} : {val}')"
   ]
  },
  {
   "cell_type": "markdown",
   "id": "d5530202-05f2-4632-9d4d-a031ea613047",
   "metadata": {},
   "source": [
    "### 고객의 분류하는 기준이 되는 변수 찾기"
   ]
  },
  {
   "cell_type": "markdown",
   "id": "e0c9645d-7f79-4ee8-b79e-9b853c1b126a",
   "metadata": {},
   "source": [
    "#### 1.회원여부_이용가능\n",
    "- 분실/연체/한도 소진 등의 이유로 블랙리스트로 등재되지 않은 회원인지 여부를 나타내는 데이터"
   ]
  },
  {
   "cell_type": "code",
   "execution_count": 68,
   "id": "df28d17e-5860-4f99-b659-f006c41a4fc3",
   "metadata": {},
   "outputs": [
    {
     "data": {
      "text/plain": [
       "회원여부_이용가능\n",
       "1    0.946937\n",
       "0    0.053062\n",
       "Name: proportion, dtype: float64"
      ]
     },
     "execution_count": 68,
     "metadata": {},
     "output_type": "execute_result"
    }
   ],
   "source": [
    "# 회원여부_이용가능의 분포를 확인한다.\n",
    "df['회원여부_이용가능'].value_counts(normalize = True)"
   ]
  },
  {
   "cell_type": "code",
   "execution_count": 71,
   "id": "402f1dea-53f0-44fd-9f4e-08f01d0817ab",
   "metadata": {},
   "outputs": [
    {
     "data": {
      "text/plain": [
       "Segment\n",
       "E    0.961178\n",
       "D    0.031048\n",
       "C    0.007774\n",
       "Name: proportion, dtype: float64"
      ]
     },
     "execution_count": 71,
     "metadata": {},
     "output_type": "execute_result"
    }
   ],
   "source": [
    "# 블랙리스트로 등재된 회원의 세그먼트 비율을 확인해 본다.\n",
    "df.loc[df['회원여부_이용가능'] == 0, 'Segment'].value_counts(normalize = True)"
   ]
  },
  {
   "cell_type": "code",
   "execution_count": 87,
   "id": "e13897f4-e2bd-4fb9-b0f1-47f392d1bc5a",
   "metadata": {},
   "outputs": [
    {
     "data": {
      "image/png": "[encoded data removed]",
      "text/plain": [
       "<Figure size 200x300 with 1 Axes>"
      ]
     },
     "metadata": {},
     "output_type": "display_data"
    }
   ],
   "source": [
    "plt.figure(figsize = (2, 3))\n",
    "\n",
    "segment_ratio = df.loc[df['회원여부_이용가능'] == 0, 'Segment'].value_counts(normalize=True)\n",
    "segment_ratio.plot(kind='bar')\n",
    "\n",
    "plt.title('블랙리스트 회원의 Segment 비율', pad = 20)\n",
    "plt.ylabel('비율')\n",
    "plt.xlabel('Segment')\n",
    "plt.xticks(rotation = 0)\n",
    "plt.ylim(0, 1)\n",
    "plt.show()"
   ]
  },
  {
   "cell_type": "markdown",
   "id": "33fb9fc2-4f0b-4031-963a-48c779c601ed",
   "metadata": {},
   "source": [
    "- 블랙리스트로 등재된 회원은 대부분 E 유형의 고객이다."
   ]
  },
  {
   "cell_type": "markdown",
   "id": "cb073663-c385-4570-a7ca-b443d6aa439d",
   "metadata": {},
   "source": [
    "#### 2.회원여부_이용가능_CA\n",
    "- 분실/연체/한도 소진 등의 이유로 현급 서비스 이용이 가능한 고객인지 여부를 확인하는 데이터"
   ]
  },
  {
   "cell_type": "code",
   "execution_count": 88,
   "id": "a8e267b5-7d2b-40d6-beaa-bfbf68e9a7f7",
   "metadata": {},
   "outputs": [
    {
     "data": {
      "text/plain": [
       "회원여부_이용가능_CA\n",
       "1    348455\n",
       "0     51545\n",
       "Name: count, dtype: int64"
      ]
     },
     "execution_count": 88,
     "metadata": {},
     "output_type": "execute_result"
    }
   ],
   "source": [
    "df['회원여부_이용가능_CA'].value_counts()"
   ]
  },
  {
   "cell_type": "code",
   "execution_count": 82,
   "id": "2a2e7f72-cd45-4c74-9083-4be410bf8dd6",
   "metadata": {},
   "outputs": [
    {
     "data": {
      "text/plain": [
       "Segment\n",
       "E    0.903250\n",
       "D    0.073392\n",
       "C    0.023300\n",
       "A    0.000039\n",
       "B    0.000019\n",
       "Name: proportion, dtype: float64"
      ]
     },
     "execution_count": 82,
     "metadata": {},
     "output_type": "execute_result"
    }
   ],
   "source": [
    "# 현금 서비스가 불가능한 회원의 Segment 비율을 확인해 본다.\n",
    "df.loc[df['회원여부_이용가능_CA'] == 0, 'Segment'].value_counts(normalize = True)"
   ]
  },
  {
   "cell_type": "code",
   "execution_count": 86,
   "id": "b5699124-06f5-4939-b6ae-e1991ce11cc7",
   "metadata": {},
   "outputs": [
    {
     "data": {
      "image/png": "[encoded data removed]",
      "text/plain": [
       "<Figure size 200x300 with 1 Axes>"
      ]
     },
     "metadata": {},
     "output_type": "display_data"
    }
   ],
   "source": [
    "plt.figure(figsize = (2, 3))\n",
    "\n",
    "segment_ratio = df.loc[df['회원여부_이용가능_CA'] == 0, 'Segment'].value_counts(normalize=True)\n",
    "segment_ratio.plot(kind='bar')\n",
    "\n",
    "plt.title('현금 서비스 이용이 불가능한 회원의 Segment 비율', pad = 20)\n",
    "plt.ylabel('비율')\n",
    "plt.xlabel('Segment')\n",
    "plt.xticks(rotation = 0)\n",
    "plt.ylim(0, 1)\n",
    "plt.show()"
   ]
  },
  {
   "cell_type": "markdown",
   "id": "a59abba3-cce7-457a-bdbf-e9c53c9705e4",
   "metadata": {},
   "source": [
    "#### 3.소지카드수_유효_신용"
   ]
  },
  {
   "cell_type": "code",
   "execution_count": 89,
   "id": "ae554e30-c541-4ca1-ade4-64b3fc9695de",
   "metadata": {},
   "outputs": [
    {
     "data": {
      "text/plain": [
       "소지카드수_유효_신용\n",
       "1    302723\n",
       "2     65465\n",
       "3     20961\n",
       "0     10825\n",
       "4        26\n",
       "Name: count, dtype: int64"
      ]
     },
     "execution_count": 89,
     "metadata": {},
     "output_type": "execute_result"
    }
   ],
   "source": [
    "df['소지카드수_유효_신용'].value_counts()"
   ]
  },
  {
   "cell_type": "markdown",
   "id": "788a7be8-1f6c-49c6-9538-ae5fcd6dc58f",
   "metadata": {},
   "source": [
    "#### 4.소지카드수_이용가능_신용"
   ]
  },
  {
   "cell_type": "code",
   "execution_count": 90,
   "id": "25833c19-10df-4e29-be6e-e38e5776697a",
   "metadata": {},
   "outputs": [
    {
     "data": {
      "text/plain": [
       "소지카드수_이용가능_신용\n",
       "1    284318\n",
       "2     61727\n",
       "0     36984\n",
       "3     16971\n",
       "Name: count, dtype: int64"
      ]
     },
     "execution_count": 90,
     "metadata": {},
     "output_type": "execute_result"
    }
   ],
   "source": [
    "df['소지카드수_이용가능_신용'].value_counts()"
   ]
  },
  {
   "cell_type": "code",
   "execution_count": 93,
   "id": "f726a766-0cc4-43d8-bb74-47d064c5091d",
   "metadata": {},
   "outputs": [
    {
     "data": {
      "text/plain": [
       "0.908325"
      ]
     },
     "execution_count": 93,
     "metadata": {},
     "output_type": "execute_result"
    }
   ],
   "source": [
    "sum(df['소지카드수_유효_신용'] == df['소지카드수_이용가능_신용']) / df.shape[0]"
   ]
  },
  {
   "cell_type": "markdown",
   "id": "a5e89d29-1541-4c58-a28a-4f20a860eeab",
   "metadata": {},
   "source": [
    "- 두 칼럼을 비교했을 때 91% 정도가 일치한다.\n",
    "- 두 칼럼의 차이를 필터링 하여 특정 Segment에 편향되어 있는지 확인해 본다."
   ]
  },
  {
   "cell_type": "code",
   "execution_count": 106,
   "id": "a62605e6-cc12-44b7-b4d3-e6bf0b7eb3e4",
   "metadata": {},
   "outputs": [
    {
     "data": {
      "text/plain": [
       "Segment\n",
       "E    0.828743\n",
       "D    0.121980\n",
       "C    0.048868\n",
       "A    0.000355\n",
       "B    0.000055\n",
       "Name: proportion, dtype: float64"
      ]
     },
     "execution_count": 106,
     "metadata": {},
     "output_type": "execute_result"
    }
   ],
   "source": [
    "# 차이가 있는 경우만\n",
    "diff_df = df.loc[df['소지카드수_유효_신용'] != df['소지카드수_이용가능_신용']]\n",
    "\n",
    "# Segment별 비율\n",
    "diff_df['Segment'].value_counts(normalize=True)"
   ]
  },
  {
   "cell_type": "code",
   "execution_count": null,
   "id": "8616651a-927b-4497-ac11-f381fdc275b2",
   "metadata": {},
   "outputs": [],
   "source": []
  }
 ],
 "metadata": {
  "kernelspec": {
   "display_name": "Python (gpu_env)",
   "language": "python",
   "name": "gpu_env"
  },
  "language_info": {
   "codemirror_mode": {
    "name": "ipython",
    "version": 3
   },
   "file_extension": ".py",
   "mimetype": "text/x-python",
   "name": "python",
   "nbconvert_exporter": "python",
   "pygments_lexer": "ipython3",
   "version": "3.10.18"
  }
 },
 "nbformat": 4,
 "nbformat_minor": 5
}
