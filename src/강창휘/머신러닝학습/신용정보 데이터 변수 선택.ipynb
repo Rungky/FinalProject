{
 "cells": [
  {
   "cell_type": "code",
   "execution_count": 1,
   "id": "0709943a-eccb-4704-9bd8-8a38db44e433",
   "metadata": {},
   "outputs": [],
   "source": [
    "import pandas as pd\n",
    "import numpy as np\n",
    "import matplotlib.pyplot as plt\n",
    "import seaborn as sns\n",
    "import gc\n",
    "\n",
    "# 경고 메시지가 뜨지 않게 설정\n",
    "import warnings \n",
    "warnings.filterwarnings('ignore')\n",
    "\n",
    "# 그래프 설정\n",
    "sns.set()\n",
    "\n",
    "# 그래프 기본 설정\n",
    "plt.rcParams['font.family'] = 'Malgun Gothic'\n",
    "# plt.rcParams['font.family'] = 'AppleGothic'\n",
    "plt.rcParams['figure.figsize'] = 12, 6\n",
    "plt.rcParams['font.size'] = 14\n",
    "plt.rcParams['axes.unicode_minus'] = False\n",
    "\n",
    "# 인코딩\n",
    "from sklearn.preprocessing import OneHotEncoder, LabelEncoder\n",
    "\n",
    "# 변수선택\n",
    "from sklearn.model_selection import cross_val_score, train_test_split\n",
    "\n",
    "# 검정\n",
    "from scipy import stats\n",
    "# 로지스틱 모델 만들기\n",
    "from statsmodels.formula.api import logit\n",
    "\n",
    "# 다중공선성 확인\n",
    "from statsmodels.stats.outliers_influence import variance_inflation_factor\n",
    "import statsmodels.api as sm\n",
    "\n",
    "from xgboost import XGBClassifier\n",
    "from lightgbm import LGBMClassifier \n",
    "from catboost import CatBoostClassifier"
   ]
  },
  {
   "cell_type": "code",
   "execution_count": 2,
   "id": "d07b2a15-6b23-42b7-99cc-5386c28fbf23",
   "metadata": {},
   "outputs": [],
   "source": [
    "df = pd.read_csv('data/신용정보_전처리.csv')"
   ]
  },
  {
   "cell_type": "code",
   "execution_count": 3,
   "id": "5ade4a52-cd17-4430-b597-83bfc87b6c0c",
   "metadata": {},
   "outputs": [
    {
     "data": {
      "text/html": [
       "<div>\n",
       "<style scoped>\n",
       "    .dataframe tbody tr th:only-of-type {\n",
       "        vertical-align: middle;\n",
       "    }\n",
       "\n",
       "    .dataframe tbody tr th {\n",
       "        vertical-align: top;\n",
       "    }\n",
       "\n",
       "    .dataframe thead th {\n",
       "        text-align: right;\n",
       "    }\n",
       "</style>\n",
       "<table border=\"1\" class=\"dataframe\">\n",
       "  <thead>\n",
       "    <tr style=\"text-align: right;\">\n",
       "      <th></th>\n",
       "      <th>ID</th>\n",
       "      <th>한도증액횟수_R12M</th>\n",
       "      <th>카드론동의여부</th>\n",
       "      <th>RV전환가능여부</th>\n",
       "      <th>한도심사요청건수</th>\n",
       "    </tr>\n",
       "  </thead>\n",
       "  <tbody>\n",
       "    <tr>\n",
       "      <th>0</th>\n",
       "      <td>TRAIN_000000</td>\n",
       "      <td>0회</td>\n",
       "      <td>Y</td>\n",
       "      <td>N</td>\n",
       "      <td>0회</td>\n",
       "    </tr>\n",
       "    <tr>\n",
       "      <th>1</th>\n",
       "      <td>TRAIN_000001</td>\n",
       "      <td>0회</td>\n",
       "      <td>Y</td>\n",
       "      <td>Z</td>\n",
       "      <td>0회</td>\n",
       "    </tr>\n",
       "    <tr>\n",
       "      <th>2</th>\n",
       "      <td>TRAIN_000002</td>\n",
       "      <td>0회</td>\n",
       "      <td>Y</td>\n",
       "      <td>N</td>\n",
       "      <td>0회</td>\n",
       "    </tr>\n",
       "    <tr>\n",
       "      <th>3</th>\n",
       "      <td>TRAIN_000003</td>\n",
       "      <td>0회</td>\n",
       "      <td>Y</td>\n",
       "      <td>N</td>\n",
       "      <td>0회</td>\n",
       "    </tr>\n",
       "    <tr>\n",
       "      <th>4</th>\n",
       "      <td>TRAIN_000004</td>\n",
       "      <td>0회</td>\n",
       "      <td>Y</td>\n",
       "      <td>Z</td>\n",
       "      <td>0회</td>\n",
       "    </tr>\n",
       "    <tr>\n",
       "      <th>...</th>\n",
       "      <td>...</td>\n",
       "      <td>...</td>\n",
       "      <td>...</td>\n",
       "      <td>...</td>\n",
       "      <td>...</td>\n",
       "    </tr>\n",
       "    <tr>\n",
       "      <th>2999995</th>\n",
       "      <td>TEST_99995</td>\n",
       "      <td>0회</td>\n",
       "      <td>Y</td>\n",
       "      <td>Z</td>\n",
       "      <td>0회</td>\n",
       "    </tr>\n",
       "    <tr>\n",
       "      <th>2999996</th>\n",
       "      <td>TEST_99996</td>\n",
       "      <td>0회</td>\n",
       "      <td>Y</td>\n",
       "      <td>Z</td>\n",
       "      <td>0회</td>\n",
       "    </tr>\n",
       "    <tr>\n",
       "      <th>2999997</th>\n",
       "      <td>TEST_99997</td>\n",
       "      <td>0회</td>\n",
       "      <td>Y</td>\n",
       "      <td>Z</td>\n",
       "      <td>0회</td>\n",
       "    </tr>\n",
       "    <tr>\n",
       "      <th>2999998</th>\n",
       "      <td>TEST_99998</td>\n",
       "      <td>0회</td>\n",
       "      <td>Y</td>\n",
       "      <td>Z</td>\n",
       "      <td>0회</td>\n",
       "    </tr>\n",
       "    <tr>\n",
       "      <th>2999999</th>\n",
       "      <td>TEST_99999</td>\n",
       "      <td>0회</td>\n",
       "      <td>Y</td>\n",
       "      <td>Z</td>\n",
       "      <td>0회</td>\n",
       "    </tr>\n",
       "  </tbody>\n",
       "</table>\n",
       "<p>3000000 rows × 5 columns</p>\n",
       "</div>"
      ],
      "text/plain": [
       "                   ID 한도증액횟수_R12M 카드론동의여부 RV전환가능여부 한도심사요청건수\n",
       "0        TRAIN_000000          0회       Y        N       0회\n",
       "1        TRAIN_000001          0회       Y        Z       0회\n",
       "2        TRAIN_000002          0회       Y        N       0회\n",
       "3        TRAIN_000003          0회       Y        N       0회\n",
       "4        TRAIN_000004          0회       Y        Z       0회\n",
       "...               ...         ...     ...      ...      ...\n",
       "2999995    TEST_99995          0회       Y        Z       0회\n",
       "2999996    TEST_99996          0회       Y        Z       0회\n",
       "2999997    TEST_99997          0회       Y        Z       0회\n",
       "2999998    TEST_99998          0회       Y        Z       0회\n",
       "2999999    TEST_99999          0회       Y        Z       0회\n",
       "\n",
       "[3000000 rows x 5 columns]"
      ]
     },
     "execution_count": 3,
     "metadata": {},
     "output_type": "execute_result"
    }
   ],
   "source": [
    "df.select_dtypes(include = ['object', 'category'])"
   ]
  },
  {
   "cell_type": "code",
   "execution_count": 4,
   "id": "a6ea419b-5b25-4944-99f6-a46eb773cf82",
   "metadata": {},
   "outputs": [],
   "source": [
    "cat_cols = list(df.select_dtypes(include = ['object', 'category']).loc[:,'한도증액횟수_R12M':].columns)"
   ]
  },
  {
   "cell_type": "code",
   "execution_count": 5,
   "id": "98e2e120-ed5c-42ac-bef8-aab5233f8c71",
   "metadata": {},
   "outputs": [],
   "source": [
    "for col in cat_cols :\n",
    "    le = LabelEncoder()\n",
    "    df[col] = le.fit_transform(df[col])"
   ]
  },
  {
   "cell_type": "code",
   "execution_count": 6,
   "id": "bb1a5f05-ad26-4141-bc49-878c4497a71c",
   "metadata": {},
   "outputs": [],
   "source": [
    "df_segment = pd.read_csv('data/회원정보_전처리.csv', usecols = ['Segment'])\n",
    "df = pd.concat([df, df_segment['Segment']], axis = 1)"
   ]
  },
  {
   "cell_type": "code",
   "execution_count": 7,
   "id": "9a04b71a-e892-4ee0-9bad-bdb0ef0f982d",
   "metadata": {},
   "outputs": [],
   "source": [
    "train = df.loc[df['Segment'].notna()]\n",
    "test = df.loc[df['Segment'].isna()]"
   ]
  },
  {
   "cell_type": "code",
   "execution_count": 8,
   "id": "a4fa73e5-2c6e-4ec6-be9a-e1b00c2c137a",
   "metadata": {},
   "outputs": [],
   "source": [
    "train.drop('ID', axis = 1, inplace = True)\n",
    "test.drop('ID', axis = 1, inplace = True)"
   ]
  },
  {
   "cell_type": "code",
   "execution_count": 9,
   "id": "708f7d17-e2f7-4f96-bf11-23632d7aa9c0",
   "metadata": {},
   "outputs": [],
   "source": [
    "y_train = train.pop('Segment')"
   ]
  },
  {
   "cell_type": "code",
   "execution_count": 10,
   "id": "404f80a3-d491-472a-96d9-ee24498072a7",
   "metadata": {},
   "outputs": [],
   "source": [
    "# target 변수 인코딩\n",
    "le = LabelEncoder()\n",
    "y_train = le.fit_transform(y_train)"
   ]
  },
  {
   "cell_type": "code",
   "execution_count": 11,
   "id": "85dda37b-307f-4a80-a99a-322a6969af70",
   "metadata": {},
   "outputs": [],
   "source": [
    "test.drop('Segment', axis = 1, inplace = True)"
   ]
  },
  {
   "cell_type": "code",
   "execution_count": 12,
   "id": "24197394-36bc-48b1-831f-4e9b5cd6b6b4",
   "metadata": {},
   "outputs": [],
   "source": [
    "x_tr, x_val, y_tr, y_val = train_test_split(train,\n",
    "                                            y_train,\n",
    "                                            stratify = y_train,\n",
    "                                            test_size = 0.25,\n",
    "                                           random_state = 10)"
   ]
  },
  {
   "cell_type": "code",
   "execution_count": 13,
   "id": "e2db7246-b51d-4bf2-abe3-cafa9788001a",
   "metadata": {},
   "outputs": [
    {
     "name": "stdout",
     "output_type": "stream",
     "text": [
      "(1800000, 39) (600000, 39) (1800000,) (600000,)\n"
     ]
    }
   ],
   "source": [
    "print(x_tr.shape, x_val.shape, y_tr.shape, y_val.shape)"
   ]
  },
  {
   "cell_type": "code",
   "execution_count": 14,
   "id": "ea866e1a-0262-4d47-a81b-52fae906614e",
   "metadata": {
    "scrolled": true
   },
   "outputs": [
    {
     "data": {
      "text/plain": [
       "array([0.00894951, 0.01991502, 0.10668384, 0.01627161, 0.04564415,\n",
       "       0.0893188 , 0.07883863, 0.01042493, 0.0175675 , 0.0318308 ,\n",
       "       0.01648631, 0.02969253, 0.00967176, 0.02125982, 0.00123216,\n",
       "       0.03726348, 0.0234516 , 0.01595568, 0.0424957 , 0.03229212,\n",
       "       0.00627919, 0.02903566, 0.08608183, 0.01141839, 0.01121546,\n",
       "       0.01413328, 0.01671662, 0.0809307 , 0.0622232 , 0.00285833,\n",
       "       0.00836025, 0.        , 0.00283686, 0.        , 0.        ,\n",
       "       0.        , 0.        , 0.        , 0.01266431], dtype=float32)"
      ]
     },
     "execution_count": 14,
     "metadata": {},
     "output_type": "execute_result"
    }
   ],
   "source": [
    "model = XGBClassifier(\n",
    "    task_type='GPU', \n",
    "    devices='0'\n",
    ")\n",
    "\n",
    "model.fit(train, y_train)\n",
    "model.feature_importances_"
   ]
  },
  {
   "cell_type": "code",
   "execution_count": 15,
   "id": "a06366e9-1837-4811-a454-855df52b1452",
   "metadata": {},
   "outputs": [],
   "source": [
    "select_feature = pd.DataFrame({\n",
    "    '변수' : list(x_tr.columns),\n",
    "    'Feature_Importances' : model.feature_importances_\n",
    "})"
   ]
  },
  {
   "cell_type": "code",
   "execution_count": 16,
   "id": "113aa3b5-aa73-4ebf-8890-973e0b050cf9",
   "metadata": {},
   "outputs": [],
   "source": [
    "select_features = list(select_feature.loc[select_feature['Feature_Importances'] >= 0.01, '변수'].values)"
   ]
  },
  {
   "cell_type": "code",
   "execution_count": 17,
   "id": "2cc8168f-4e2f-468c-a353-17823d568998",
   "metadata": {},
   "outputs": [],
   "source": [
    "select_features.append('ID')"
   ]
  },
  {
   "cell_type": "code",
   "execution_count": 18,
   "id": "efa6da91-6c7a-4865-af07-6dcd62c6b412",
   "metadata": {},
   "outputs": [],
   "source": [
    "select_features.append('기준년월')"
   ]
  },
  {
   "cell_type": "code",
   "execution_count": 22,
   "id": "6c9515b1-9060-4e6e-8949-6de84189bd74",
   "metadata": {},
   "outputs": [],
   "source": [
    "df = df[select_features].loc[df['기준년월'] == 12]"
   ]
  },
  {
   "cell_type": "code",
   "execution_count": 23,
   "id": "783e6636-e9ce-484e-ae6d-027c65437f22",
   "metadata": {},
   "outputs": [],
   "source": [
    "df.drop('기준년월', axis = 1, inplace = True)"
   ]
  },
  {
   "cell_type": "code",
   "execution_count": 24,
   "id": "b9108e7a-24df-4f1a-9cef-2fd62fe690b3",
   "metadata": {},
   "outputs": [],
   "source": [
    "df.to_csv('신용정보12월_feat_select.csv', index = False)"
   ]
  },
  {
   "cell_type": "code",
   "execution_count": null,
   "id": "d344eb59-927d-40f1-b385-431f90ae8ce6",
   "metadata": {},
   "outputs": [],
   "source": []
  },
  {
   "cell_type": "code",
   "execution_count": null,
   "id": "7de875c7-a390-4031-908b-34526bc2a2e2",
   "metadata": {},
   "outputs": [],
   "source": []
  },
  {
   "cell_type": "code",
   "execution_count": null,
   "id": "e6afe5f2-3b4e-467e-90cf-acfcb1847f10",
   "metadata": {},
   "outputs": [],
   "source": []
  },
  {
   "cell_type": "code",
   "execution_count": null,
   "id": "898f341d-0081-4ddb-be50-24c8150a1772",
   "metadata": {},
   "outputs": [],
   "source": []
  },
  {
   "cell_type": "code",
   "execution_count": null,
   "id": "855273a4-27ff-4737-86b8-dd884fefffb2",
   "metadata": {},
   "outputs": [],
   "source": []
  },
  {
   "cell_type": "code",
   "execution_count": null,
   "id": "ccf833d2-18e8-4b29-961c-545a507d01ab",
   "metadata": {},
   "outputs": [],
   "source": []
  },
  {
   "cell_type": "code",
   "execution_count": 30,
   "id": "67541393-db37-49d7-894b-89e0c055c494",
   "metadata": {
    "scrolled": true
   },
   "outputs": [],
   "source": [
    "select_features = pd.DataFrame({\n",
    "    '변수' : list(train.columns),\n",
    "    'Feature_Importances' : list(model.feature_importances_)\n",
    "}).sort_values('Feature_Importances', ascending = False).head(30)"
   ]
  },
  {
   "cell_type": "code",
   "execution_count": 32,
   "id": "82d586f4-4ee6-4880-a566-a2a568a0d6c4",
   "metadata": {},
   "outputs": [
    {
     "data": {
      "text/plain": [
       "99.99944327488363"
      ]
     },
     "execution_count": 32,
     "metadata": {},
     "output_type": "execute_result"
    }
   ],
   "source": [
    "select_features['Feature_Importances'].sum()"
   ]
  },
  {
   "cell_type": "code",
   "execution_count": 33,
   "id": "21610d54-3fa3-427a-9999-ec69884ec6e4",
   "metadata": {},
   "outputs": [
    {
     "data": {
      "text/html": [
       "<div>\n",
       "<style scoped>\n",
       "    .dataframe tbody tr th:only-of-type {\n",
       "        vertical-align: middle;\n",
       "    }\n",
       "\n",
       "    .dataframe tbody tr th {\n",
       "        vertical-align: top;\n",
       "    }\n",
       "\n",
       "    .dataframe thead th {\n",
       "        text-align: right;\n",
       "    }\n",
       "</style>\n",
       "<table border=\"1\" class=\"dataframe\">\n",
       "  <thead>\n",
       "    <tr style=\"text-align: right;\">\n",
       "      <th></th>\n",
       "      <th>변수</th>\n",
       "      <th>Feature_Importances</th>\n",
       "    </tr>\n",
       "  </thead>\n",
       "  <tbody>\n",
       "    <tr>\n",
       "      <th>5</th>\n",
       "      <td>월상환론한도금액</td>\n",
       "      <td>18.619551</td>\n",
       "    </tr>\n",
       "    <tr>\n",
       "      <th>2</th>\n",
       "      <td>카드이용한도금액</td>\n",
       "      <td>8.631094</td>\n",
       "    </tr>\n",
       "    <tr>\n",
       "      <th>6</th>\n",
       "      <td>CA이자율_할인전</td>\n",
       "      <td>7.765943</td>\n",
       "    </tr>\n",
       "    <tr>\n",
       "      <th>9</th>\n",
       "      <td>RV현금서비스이자율_할인전</td>\n",
       "      <td>7.015985</td>\n",
       "    </tr>\n",
       "    <tr>\n",
       "      <th>4</th>\n",
       "      <td>일시상환론한도금액</td>\n",
       "      <td>6.054063</td>\n",
       "    </tr>\n",
       "    <tr>\n",
       "      <th>1</th>\n",
       "      <td>최초한도금액</td>\n",
       "      <td>4.949352</td>\n",
       "    </tr>\n",
       "    <tr>\n",
       "      <th>27</th>\n",
       "      <td>카드이용한도금액_B1M</td>\n",
       "      <td>4.724356</td>\n",
       "    </tr>\n",
       "    <tr>\n",
       "      <th>21</th>\n",
       "      <td>상향가능한도금액</td>\n",
       "      <td>4.668782</td>\n",
       "    </tr>\n",
       "    <tr>\n",
       "      <th>3</th>\n",
       "      <td>CA한도금액</td>\n",
       "      <td>4.592900</td>\n",
       "    </tr>\n",
       "    <tr>\n",
       "      <th>28</th>\n",
       "      <td>카드이용한도금액_B2M</td>\n",
       "      <td>4.587558</td>\n",
       "    </tr>\n",
       "    <tr>\n",
       "      <th>8</th>\n",
       "      <td>RV일시불이자율_할인전</td>\n",
       "      <td>4.573767</td>\n",
       "    </tr>\n",
       "    <tr>\n",
       "      <th>7</th>\n",
       "      <td>CL이자율_할인전</td>\n",
       "      <td>4.509747</td>\n",
       "    </tr>\n",
       "    <tr>\n",
       "      <th>10</th>\n",
       "      <td>RV약정청구율</td>\n",
       "      <td>3.148372</td>\n",
       "    </tr>\n",
       "    <tr>\n",
       "      <th>15</th>\n",
       "      <td>강제한도감액횟수_R12M</td>\n",
       "      <td>2.755167</td>\n",
       "    </tr>\n",
       "    <tr>\n",
       "      <th>11</th>\n",
       "      <td>RV최소결제비율</td>\n",
       "      <td>2.504520</td>\n",
       "    </tr>\n",
       "    <tr>\n",
       "      <th>22</th>\n",
       "      <td>상향가능CA한도금액</td>\n",
       "      <td>2.375873</td>\n",
       "    </tr>\n",
       "    <tr>\n",
       "      <th>0</th>\n",
       "      <td>기준년월</td>\n",
       "      <td>1.369394</td>\n",
       "    </tr>\n",
       "    <tr>\n",
       "      <th>16</th>\n",
       "      <td>강제한도감액금액_R12M</td>\n",
       "      <td>1.051215</td>\n",
       "    </tr>\n",
       "    <tr>\n",
       "      <th>18</th>\n",
       "      <td>한도증액횟수_R12M</td>\n",
       "      <td>1.042017</td>\n",
       "    </tr>\n",
       "    <tr>\n",
       "      <th>23</th>\n",
       "      <td>카드론동의여부</td>\n",
       "      <td>0.903090</td>\n",
       "    </tr>\n",
       "    <tr>\n",
       "      <th>24</th>\n",
       "      <td>월상환론상향가능한도금액</td>\n",
       "      <td>0.864203</td>\n",
       "    </tr>\n",
       "    <tr>\n",
       "      <th>25</th>\n",
       "      <td>RV전환가능여부</td>\n",
       "      <td>0.814436</td>\n",
       "    </tr>\n",
       "    <tr>\n",
       "      <th>19</th>\n",
       "      <td>한도증액금액_R12M</td>\n",
       "      <td>0.742591</td>\n",
       "    </tr>\n",
       "    <tr>\n",
       "      <th>20</th>\n",
       "      <td>한도증액후경과월</td>\n",
       "      <td>0.634815</td>\n",
       "    </tr>\n",
       "    <tr>\n",
       "      <th>26</th>\n",
       "      <td>일시불ONLY전환가능여부</td>\n",
       "      <td>0.547503</td>\n",
       "    </tr>\n",
       "    <tr>\n",
       "      <th>17</th>\n",
       "      <td>강제한도감액후경과월</td>\n",
       "      <td>0.458370</td>\n",
       "    </tr>\n",
       "    <tr>\n",
       "      <th>13</th>\n",
       "      <td>자발한도감액금액_R12M</td>\n",
       "      <td>0.076808</td>\n",
       "    </tr>\n",
       "    <tr>\n",
       "      <th>30</th>\n",
       "      <td>연체감액여부_R3M</td>\n",
       "      <td>0.014673</td>\n",
       "    </tr>\n",
       "    <tr>\n",
       "      <th>12</th>\n",
       "      <td>자발한도감액횟수_R12M</td>\n",
       "      <td>0.002431</td>\n",
       "    </tr>\n",
       "    <tr>\n",
       "      <th>14</th>\n",
       "      <td>자발한도감액후경과월</td>\n",
       "      <td>0.000866</td>\n",
       "    </tr>\n",
       "  </tbody>\n",
       "</table>\n",
       "</div>"
      ],
      "text/plain": [
       "                변수  Feature_Importances\n",
       "5         월상환론한도금액            18.619551\n",
       "2         카드이용한도금액             8.631094\n",
       "6        CA이자율_할인전             7.765943\n",
       "9   RV현금서비스이자율_할인전             7.015985\n",
       "4        일시상환론한도금액             6.054063\n",
       "1           최초한도금액             4.949352\n",
       "27    카드이용한도금액_B1M             4.724356\n",
       "21        상향가능한도금액             4.668782\n",
       "3           CA한도금액             4.592900\n",
       "28    카드이용한도금액_B2M             4.587558\n",
       "8     RV일시불이자율_할인전             4.573767\n",
       "7        CL이자율_할인전             4.509747\n",
       "10         RV약정청구율             3.148372\n",
       "15   강제한도감액횟수_R12M             2.755167\n",
       "11        RV최소결제비율             2.504520\n",
       "22      상향가능CA한도금액             2.375873\n",
       "0             기준년월             1.369394\n",
       "16   강제한도감액금액_R12M             1.051215\n",
       "18     한도증액횟수_R12M             1.042017\n",
       "23         카드론동의여부             0.903090\n",
       "24    월상환론상향가능한도금액             0.864203\n",
       "25        RV전환가능여부             0.814436\n",
       "19     한도증액금액_R12M             0.742591\n",
       "20        한도증액후경과월             0.634815\n",
       "26   일시불ONLY전환가능여부             0.547503\n",
       "17      강제한도감액후경과월             0.458370\n",
       "13   자발한도감액금액_R12M             0.076808\n",
       "30      연체감액여부_R3M             0.014673\n",
       "12   자발한도감액횟수_R12M             0.002431\n",
       "14      자발한도감액후경과월             0.000866"
      ]
     },
     "execution_count": 33,
     "metadata": {},
     "output_type": "execute_result"
    }
   ],
   "source": [
    "select_features"
   ]
  },
  {
   "cell_type": "code",
   "execution_count": null,
   "id": "b7a472f8-9962-4b0d-8d5b-08454b1cb718",
   "metadata": {},
   "outputs": [],
   "source": []
  }
 ],
 "metadata": {
  "kernelspec": {
   "display_name": "Python (gpu_env)",
   "language": "python",
   "name": "gpu_env"
  },
  "language_info": {
   "codemirror_mode": {
    "name": "ipython",
    "version": 3
   },
   "file_extension": ".py",
   "mimetype": "text/x-python",
   "name": "python",
   "nbconvert_exporter": "python",
   "pygments_lexer": "ipython3",
   "version": "3.10.18"
  }
 },
 "nbformat": 4,
 "nbformat_minor": 5
}
