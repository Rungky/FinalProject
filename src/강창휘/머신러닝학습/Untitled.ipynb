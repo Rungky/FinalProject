{
 "cells": [
  {
   "cell_type": "code",
   "execution_count": 1,
   "id": "4a9fd724-91b4-478d-bb92-83d2cde4acd7",
   "metadata": {},
   "outputs": [],
   "source": [
    "import pandas as pd\n",
    "import numpy as np\n",
    "import matplotlib.pyplot as plt\n",
    "import seaborn as sns\n",
    "import gc\n",
    "\n",
    "# 경고 메시지가 뜨지 않게 설정\n",
    "import warnings \n",
    "warnings.filterwarnings('ignore')\n",
    "\n",
    "# 그래프 설정\n",
    "sns.set()\n",
    "\n",
    "# 그래프 기본 설정\n",
    "plt.rcParams['font.family'] = 'Malgun Gothic'\n",
    "# plt.rcParams['font.family'] = 'AppleGothic'\n",
    "plt.rcParams['figure.figsize'] = 12, 6\n",
    "plt.rcParams['font.size'] = 14\n",
    "plt.rcParams['axes.unicode_minus'] = False\n",
    "\n",
    "# 인코딩\n",
    "from sklearn.preprocessing import OneHotEncoder, LabelEncoder\n",
    "\n",
    "# 변수선택\n",
    "from sklearn.model_selection import cross_val_score, train_test_split\n",
    "\n",
    "# 검정\n",
    "from scipy import stats\n",
    "# 로지스틱 모델 만들기\n",
    "from statsmodels.formula.api import logit\n",
    "\n",
    "# 다중공선성 확인\n",
    "from statsmodels.stats.outliers_influence import variance_inflation_factor\n",
    "import statsmodels.api as sm\n",
    "\n",
    "from xgboost import XGBClassifier\n",
    "from lightgbm import LGBMClassifier \n",
    "from catboost import CatBoostClassifier"
   ]
  },
  {
   "cell_type": "code",
   "execution_count": 3,
   "id": "b7c3c7fd-ce14-40d8-89c5-241887371317",
   "metadata": {},
   "outputs": [],
   "source": [
    "df_train = pd.read_csv('merged_2018_train.csv')\n",
    "df_test = pd.read_csv('merged_2018_train.csv') "
   ]
  },
  {
   "cell_type": "code",
   "execution_count": 17,
   "id": "5db90f92-83fc-42d8-b883-73dbebfe61fc",
   "metadata": {},
   "outputs": [
    {
     "name": "stdout",
     "output_type": "stream",
     "text": [
      "(400000, 793) (400000, 793)\n"
     ]
    }
   ],
   "source": [
    "print(df_train.shape, df_test.shape)"
   ]
  },
  {
   "cell_type": "code",
   "execution_count": 8,
   "id": "2985a8e0-fc70-487b-b3de-0c8ff07c6e65",
   "metadata": {},
   "outputs": [],
   "source": [
    "error_df = df_train.select_dtypes(include = ['category', 'object'])"
   ]
  },
  {
   "cell_type": "code",
   "execution_count": 9,
   "id": "55f597a0-9746-49f5-bea9-1cdb8918f2c0",
   "metadata": {},
   "outputs": [
    {
     "data": {
      "text/plain": [
       "기준년월             object\n",
       "ID               object\n",
       "Segment          object\n",
       "최종카드론_신청경로코드     object\n",
       "최종이용일자_기본_dt     object\n",
       "최종이용일자_신판_dt     object\n",
       "최종이용일자_CA_dt     object\n",
       "최종이용일자_카드론_dt    object\n",
       "최종이용일자_체크_dt     object\n",
       "최종이용일자_일시불_dt    object\n",
       "최종이용일자_할부_dt     object\n",
       "최종카드론_대출일자_dt    object\n",
       "연체일자_B0M         object\n",
       "OS구분코드           object\n",
       "dtype: object"
      ]
     },
     "execution_count": 9,
     "metadata": {},
     "output_type": "execute_result"
    }
   ],
   "source": [
    "error_df.dtypes"
   ]
  },
  {
   "cell_type": "code",
   "execution_count": 18,
   "id": "1521532c-8114-4c0c-b1dc-9c2aa417c6dd",
   "metadata": {},
   "outputs": [
    {
     "data": {
      "text/plain": [
       "['기준년월',\n",
       " 'ID',\n",
       " 'Segment',\n",
       " '최종카드론_신청경로코드',\n",
       " '최종이용일자_기본_dt',\n",
       " '최종이용일자_신판_dt',\n",
       " '최종이용일자_CA_dt',\n",
       " '최종이용일자_카드론_dt',\n",
       " '최종이용일자_체크_dt',\n",
       " '최종이용일자_일시불_dt',\n",
       " '최종이용일자_할부_dt',\n",
       " '최종카드론_대출일자_dt',\n",
       " '연체일자_B0M',\n",
       " 'OS구분코드']"
      ]
     },
     "execution_count": 18,
     "metadata": {},
     "output_type": "execute_result"
    }
   ],
   "source": [
    "list(error_df.columns)"
   ]
  },
  {
   "cell_type": "code",
   "execution_count": 26,
   "id": "00703122-d1cf-450c-bd2d-8b09be56ae78",
   "metadata": {},
   "outputs": [
    {
     "data": {
      "text/plain": [
       "OS구분코드\n",
       "NaN        0.680652\n",
       "Android    0.247645\n",
       "IOS        0.071703\n",
       "Name: proportion, dtype: float64"
      ]
     },
     "execution_count": 26,
     "metadata": {},
     "output_type": "execute_result"
    }
   ],
   "source": [
    "df_train['OS구분코드'].value_counts(normalize = True, dropna = False)"
   ]
  },
  {
   "cell_type": "code",
   "execution_count": 24,
   "id": "5303c545-610d-459a-af3e-1c35eb681db8",
   "metadata": {},
   "outputs": [
    {
     "data": {
      "text/plain": [
       "최종카드론_신청경로코드\n",
       "NaN    0.815490\n",
       "8      0.097665\n",
       "7      0.056043\n",
       "1      0.020837\n",
       "D      0.006573\n",
       "2      0.003393\n",
       "Name: proportion, dtype: float64"
      ]
     },
     "execution_count": 24,
     "metadata": {},
     "output_type": "execute_result"
    }
   ],
   "source": [
    "df_train['최종카드론_신청경로코드'].value_counts(normalize = True, dropna = False)"
   ]
  },
  {
   "cell_type": "code",
   "execution_count": 13,
   "id": "0fae79c1-4f58-45a4-aaaf-33c6d4ecc350",
   "metadata": {},
   "outputs": [],
   "source": [
    "# 결측치를 확인한다.\n",
    "na_box = []\n",
    "\n",
    "for idx, val in df_train.isna().sum().items() :\n",
    "    # print(f'{idx}의 결측치 : {val}')\n",
    "    if val > 0 :\n",
    "        na_box.append(idx)"
   ]
  },
  {
   "cell_type": "code",
   "execution_count": 14,
   "id": "5fd71512-026f-4213-9d54-a4c5ad412782",
   "metadata": {},
   "outputs": [
    {
     "data": {
      "text/plain": [
       "['최종카드론_금융상환방식코드',\n",
       " '최종카드론_신청경로코드',\n",
       " '최종이용일자_기본_dt',\n",
       " '최종이용일자_신판_dt',\n",
       " '최종이용일자_CA_dt',\n",
       " '최종이용일자_카드론_dt',\n",
       " '최종이용일자_체크_dt',\n",
       " '최종이용일자_일시불_dt',\n",
       " '최종이용일자_할부_dt',\n",
       " '최종카드론_대출일자_dt',\n",
       " '연체일자_B0M',\n",
       " 'OS구분코드']"
      ]
     },
     "execution_count": 14,
     "metadata": {},
     "output_type": "execute_result"
    }
   ],
   "source": [
    "na_box"
   ]
  },
  {
   "cell_type": "code",
   "execution_count": 15,
   "id": "613f5ffa-2a74-4208-b2e3-d49de5d11a0e",
   "metadata": {},
   "outputs": [],
   "source": [
    "# 결측치를 확인한다.\n",
    "na_box = []\n",
    "\n",
    "for idx, val in df_test.isna().sum().items() :\n",
    "    # print(f'{idx}의 결측치 : {val}')\n",
    "    if val > 0 :\n",
    "        na_box.append(idx)"
   ]
  },
  {
   "cell_type": "code",
   "execution_count": null,
   "id": "1a3275b0-02af-42a5-aae1-557245a71edc",
   "metadata": {},
   "outputs": [],
   "source": []
  }
 ],
 "metadata": {
  "kernelspec": {
   "display_name": "Python (gpu_env)",
   "language": "python",
   "name": "gpu_env"
  },
  "language_info": {
   "codemirror_mode": {
    "name": "ipython",
    "version": 3
   },
   "file_extension": ".py",
   "mimetype": "text/x-python",
   "name": "python",
   "nbconvert_exporter": "python",
   "pygments_lexer": "ipython3",
   "version": "3.10.18"
  }
 },
 "nbformat": 4,
 "nbformat_minor": 5
}
