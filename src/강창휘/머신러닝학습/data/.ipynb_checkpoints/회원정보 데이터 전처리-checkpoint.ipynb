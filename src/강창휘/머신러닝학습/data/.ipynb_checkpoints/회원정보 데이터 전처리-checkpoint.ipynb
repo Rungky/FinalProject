{
 "cells": [
  {
   "cell_type": "code",
   "execution_count": 1,
   "id": "e31f5d46-270c-4cc0-bcd0-6d7f2e3663cc",
   "metadata": {},
   "outputs": [],
   "source": [
    "import pandas as pd\n",
    "import numpy as np\n",
    "import matplotlib.pyplot as plt\n",
    "import seaborn as sns\n",
    "import gc\n",
    "\n",
    "# 경고 메시지가 뜨지 않게 설정\n",
    "import warnings \n",
    "warnings.filterwarnings('ignore')\n",
    "\n",
    "# 그래프 설정\n",
    "sns.set()\n",
    "\n",
    "# 그래프 기본 설정\n",
    "plt.rcParams['font.family'] = 'Malgun Gothic'\n",
    "# plt.rcParams['font.family'] = 'AppleGothic'\n",
    "plt.rcParams['figure.figsize'] = 12, 6\n",
    "plt.rcParams['font.size'] = 14\n",
    "plt.rcParams['axes.unicode_minus'] = False\n",
    "\n",
    "# 인코딩\n",
    "from sklearn.preprocessing import OneHotEncoder, LabelEncoder\n",
    "\n",
    "# 검정\n",
    "from scipy import stats\n",
    "# 로지스틱 모델 만들기\n",
    "from statsmodels.formula.api import logit\n",
    "\n",
    "# 다중공선성 확인\n",
    "from statsmodels.stats.outliers_influence import variance_inflation_factor\n",
    "import statsmodels.api as sm"
   ]
  },
  {
   "cell_type": "code",
   "execution_count": 2,
   "id": "a8bc12e2-f403-48dd-983a-c73459790033",
   "metadata": {
    "scrolled": true
   },
   "outputs": [
    {
     "ename": "FileNotFoundError",
     "evalue": "[Errno 2] No such file or directory: 'open/concat/2018_회원정보.parquet'",
     "output_type": "error",
     "traceback": [
      "\u001b[1;31m---------------------------------------------------------------------------\u001b[0m",
      "\u001b[1;31mFileNotFoundError\u001b[0m                         Traceback (most recent call last)",
      "Cell \u001b[1;32mIn[2], line 1\u001b[0m\n\u001b[1;32m----> 1\u001b[0m df \u001b[38;5;241m=\u001b[39m \u001b[43mpd\u001b[49m\u001b[38;5;241;43m.\u001b[39;49m\u001b[43mread_parquet\u001b[49m\u001b[43m(\u001b[49m\u001b[38;5;124;43m'\u001b[39;49m\u001b[38;5;124;43mopen/concat/2018_회원정보.parquet\u001b[39;49m\u001b[38;5;124;43m'\u001b[39;49m\u001b[43m)\u001b[49m\n",
      "File \u001b[1;32m~\\anaconda3\\envs\\gpu_env\\lib\\site-packages\\pandas\\io\\parquet.py:669\u001b[0m, in \u001b[0;36mread_parquet\u001b[1;34m(path, engine, columns, storage_options, use_nullable_dtypes, dtype_backend, filesystem, filters, **kwargs)\u001b[0m\n\u001b[0;32m    666\u001b[0m     use_nullable_dtypes \u001b[38;5;241m=\u001b[39m \u001b[38;5;28;01mFalse\u001b[39;00m\n\u001b[0;32m    667\u001b[0m check_dtype_backend(dtype_backend)\n\u001b[1;32m--> 669\u001b[0m \u001b[38;5;28;01mreturn\u001b[39;00m impl\u001b[38;5;241m.\u001b[39mread(\n\u001b[0;32m    670\u001b[0m     path,\n\u001b[0;32m    671\u001b[0m     columns\u001b[38;5;241m=\u001b[39mcolumns,\n\u001b[0;32m    672\u001b[0m     filters\u001b[38;5;241m=\u001b[39mfilters,\n\u001b[0;32m    673\u001b[0m     storage_options\u001b[38;5;241m=\u001b[39mstorage_options,\n\u001b[0;32m    674\u001b[0m     use_nullable_dtypes\u001b[38;5;241m=\u001b[39muse_nullable_dtypes,\n\u001b[0;32m    675\u001b[0m     dtype_backend\u001b[38;5;241m=\u001b[39mdtype_backend,\n\u001b[0;32m    676\u001b[0m     filesystem\u001b[38;5;241m=\u001b[39mfilesystem,\n\u001b[0;32m    677\u001b[0m     \u001b[38;5;241m*\u001b[39m\u001b[38;5;241m*\u001b[39mkwargs,\n\u001b[0;32m    678\u001b[0m )\n",
      "File \u001b[1;32m~\\anaconda3\\envs\\gpu_env\\lib\\site-packages\\pandas\\io\\parquet.py:258\u001b[0m, in \u001b[0;36mPyArrowImpl.read\u001b[1;34m(self, path, columns, filters, use_nullable_dtypes, dtype_backend, storage_options, filesystem, **kwargs)\u001b[0m\n\u001b[0;32m    256\u001b[0m \u001b[38;5;28;01mif\u001b[39;00m manager \u001b[38;5;241m==\u001b[39m \u001b[38;5;124m\"\u001b[39m\u001b[38;5;124marray\u001b[39m\u001b[38;5;124m\"\u001b[39m:\n\u001b[0;32m    257\u001b[0m     to_pandas_kwargs[\u001b[38;5;124m\"\u001b[39m\u001b[38;5;124msplit_blocks\u001b[39m\u001b[38;5;124m\"\u001b[39m] \u001b[38;5;241m=\u001b[39m \u001b[38;5;28;01mTrue\u001b[39;00m\n\u001b[1;32m--> 258\u001b[0m path_or_handle, handles, filesystem \u001b[38;5;241m=\u001b[39m \u001b[43m_get_path_or_handle\u001b[49m\u001b[43m(\u001b[49m\n\u001b[0;32m    259\u001b[0m \u001b[43m    \u001b[49m\u001b[43mpath\u001b[49m\u001b[43m,\u001b[49m\n\u001b[0;32m    260\u001b[0m \u001b[43m    \u001b[49m\u001b[43mfilesystem\u001b[49m\u001b[43m,\u001b[49m\n\u001b[0;32m    261\u001b[0m \u001b[43m    \u001b[49m\u001b[43mstorage_options\u001b[49m\u001b[38;5;241;43m=\u001b[39;49m\u001b[43mstorage_options\u001b[49m\u001b[43m,\u001b[49m\n\u001b[0;32m    262\u001b[0m \u001b[43m    \u001b[49m\u001b[43mmode\u001b[49m\u001b[38;5;241;43m=\u001b[39;49m\u001b[38;5;124;43m\"\u001b[39;49m\u001b[38;5;124;43mrb\u001b[39;49m\u001b[38;5;124;43m\"\u001b[39;49m\u001b[43m,\u001b[49m\n\u001b[0;32m    263\u001b[0m \u001b[43m\u001b[49m\u001b[43m)\u001b[49m\n\u001b[0;32m    264\u001b[0m \u001b[38;5;28;01mtry\u001b[39;00m:\n\u001b[0;32m    265\u001b[0m     pa_table \u001b[38;5;241m=\u001b[39m \u001b[38;5;28mself\u001b[39m\u001b[38;5;241m.\u001b[39mapi\u001b[38;5;241m.\u001b[39mparquet\u001b[38;5;241m.\u001b[39mread_table(\n\u001b[0;32m    266\u001b[0m         path_or_handle,\n\u001b[0;32m    267\u001b[0m         columns\u001b[38;5;241m=\u001b[39mcolumns,\n\u001b[1;32m   (...)\u001b[0m\n\u001b[0;32m    270\u001b[0m         \u001b[38;5;241m*\u001b[39m\u001b[38;5;241m*\u001b[39mkwargs,\n\u001b[0;32m    271\u001b[0m     )\n",
      "File \u001b[1;32m~\\anaconda3\\envs\\gpu_env\\lib\\site-packages\\pandas\\io\\parquet.py:141\u001b[0m, in \u001b[0;36m_get_path_or_handle\u001b[1;34m(path, fs, storage_options, mode, is_dir)\u001b[0m\n\u001b[0;32m    131\u001b[0m handles \u001b[38;5;241m=\u001b[39m \u001b[38;5;28;01mNone\u001b[39;00m\n\u001b[0;32m    132\u001b[0m \u001b[38;5;28;01mif\u001b[39;00m (\n\u001b[0;32m    133\u001b[0m     \u001b[38;5;129;01mnot\u001b[39;00m fs\n\u001b[0;32m    134\u001b[0m     \u001b[38;5;129;01mand\u001b[39;00m \u001b[38;5;129;01mnot\u001b[39;00m is_dir\n\u001b[1;32m   (...)\u001b[0m\n\u001b[0;32m    139\u001b[0m     \u001b[38;5;66;03m# fsspec resources can also point to directories\u001b[39;00m\n\u001b[0;32m    140\u001b[0m     \u001b[38;5;66;03m# this branch is used for example when reading from non-fsspec URLs\u001b[39;00m\n\u001b[1;32m--> 141\u001b[0m     handles \u001b[38;5;241m=\u001b[39m \u001b[43mget_handle\u001b[49m\u001b[43m(\u001b[49m\n\u001b[0;32m    142\u001b[0m \u001b[43m        \u001b[49m\u001b[43mpath_or_handle\u001b[49m\u001b[43m,\u001b[49m\u001b[43m \u001b[49m\u001b[43mmode\u001b[49m\u001b[43m,\u001b[49m\u001b[43m \u001b[49m\u001b[43mis_text\u001b[49m\u001b[38;5;241;43m=\u001b[39;49m\u001b[38;5;28;43;01mFalse\u001b[39;49;00m\u001b[43m,\u001b[49m\u001b[43m \u001b[49m\u001b[43mstorage_options\u001b[49m\u001b[38;5;241;43m=\u001b[39;49m\u001b[43mstorage_options\u001b[49m\n\u001b[0;32m    143\u001b[0m \u001b[43m    \u001b[49m\u001b[43m)\u001b[49m\n\u001b[0;32m    144\u001b[0m     fs \u001b[38;5;241m=\u001b[39m \u001b[38;5;28;01mNone\u001b[39;00m\n\u001b[0;32m    145\u001b[0m     path_or_handle \u001b[38;5;241m=\u001b[39m handles\u001b[38;5;241m.\u001b[39mhandle\n",
      "File \u001b[1;32m~\\anaconda3\\envs\\gpu_env\\lib\\site-packages\\pandas\\io\\common.py:882\u001b[0m, in \u001b[0;36mget_handle\u001b[1;34m(path_or_buf, mode, encoding, compression, memory_map, is_text, errors, storage_options)\u001b[0m\n\u001b[0;32m    873\u001b[0m         handle \u001b[38;5;241m=\u001b[39m \u001b[38;5;28mopen\u001b[39m(\n\u001b[0;32m    874\u001b[0m             handle,\n\u001b[0;32m    875\u001b[0m             ioargs\u001b[38;5;241m.\u001b[39mmode,\n\u001b[1;32m   (...)\u001b[0m\n\u001b[0;32m    878\u001b[0m             newline\u001b[38;5;241m=\u001b[39m\u001b[38;5;124m\"\u001b[39m\u001b[38;5;124m\"\u001b[39m,\n\u001b[0;32m    879\u001b[0m         )\n\u001b[0;32m    880\u001b[0m     \u001b[38;5;28;01melse\u001b[39;00m:\n\u001b[0;32m    881\u001b[0m         \u001b[38;5;66;03m# Binary mode\u001b[39;00m\n\u001b[1;32m--> 882\u001b[0m         handle \u001b[38;5;241m=\u001b[39m \u001b[38;5;28;43mopen\u001b[39;49m\u001b[43m(\u001b[49m\u001b[43mhandle\u001b[49m\u001b[43m,\u001b[49m\u001b[43m \u001b[49m\u001b[43mioargs\u001b[49m\u001b[38;5;241;43m.\u001b[39;49m\u001b[43mmode\u001b[49m\u001b[43m)\u001b[49m\n\u001b[0;32m    883\u001b[0m     handles\u001b[38;5;241m.\u001b[39mappend(handle)\n\u001b[0;32m    885\u001b[0m \u001b[38;5;66;03m# Convert BytesIO or file objects passed with an encoding\u001b[39;00m\n",
      "\u001b[1;31mFileNotFoundError\u001b[0m: [Errno 2] No such file or directory: 'open/concat/2018_회원정보.parquet'"
     ]
    }
   ],
   "source": [
    "df = pd.read_parquet('open/concat/2018_회원정보.parquet')"
   ]
  },
  {
   "cell_type": "code",
   "execution_count": null,
   "id": "6ceba920-4a7c-4fef-9897-29ea9a4fd2e2",
   "metadata": {
    "scrolled": true
   },
   "outputs": [],
   "source": [
    "df"
   ]
  },
  {
   "cell_type": "markdown",
   "id": "68df34bf-cc61-4320-9d25-00f303d72b2a",
   "metadata": {},
   "source": [
    "### 의미없는 컬럼 제거"
   ]
  },
  {
   "cell_type": "code",
   "execution_count": null,
   "id": "81ae86d0-4aac-4f8f-a6a3-1b78c2d778e7",
   "metadata": {},
   "outputs": [],
   "source": [
    "import statsmodels\n",
    "print(statsmodels.__version__)"
   ]
  },
  {
   "cell_type": "code",
   "execution_count": null,
   "id": "6175ba7c-6499-4ade-bbe9-e623fb4c6a30",
   "metadata": {},
   "outputs": [],
   "source": []
  },
  {
   "cell_type": "code",
   "execution_count": null,
   "id": "a8516ee0-c2d6-482e-bd5b-3439bc879029",
   "metadata": {},
   "outputs": [],
   "source": []
  },
  {
   "cell_type": "code",
   "execution_count": null,
   "id": "fbb51dad-90fa-4e4a-8b98-cb954afc0b93",
   "metadata": {},
   "outputs": [],
   "source": [
    "# 데이터의 도수의 종류가 1개인 데이터를 변수에 담는다.\n",
    "cols_same_value = df.columns[df.nunique() == 1]"
   ]
  },
  {
   "cell_type": "code",
   "execution_count": null,
   "id": "e9124ee9-b5b0-4449-afcf-c92b5f5970e8",
   "metadata": {},
   "outputs": [],
   "source": [
    "df.drop(list(cols_same_value), axis = 1, inplace = True)"
   ]
  },
  {
   "cell_type": "markdown",
   "id": "d8aa04c7-96a3-417e-baaf-90c62b74f4d6",
   "metadata": {},
   "source": [
    "### 결측치를 가진 컬럼 리스트에 담기"
   ]
  },
  {
   "cell_type": "code",
   "execution_count": null,
   "id": "8cf1b03b-1b7e-4464-aa84-3af4e63faf5e",
   "metadata": {
    "scrolled": true
   },
   "outputs": [],
   "source": [
    "na_box = []\n",
    "\n",
    "for idx, val in df.isna().sum().items() :\n",
    "    # print(f'{idx}의 결측치 : {val}')\n",
    "    if val > 0 :\n",
    "        na_box.append(idx)"
   ]
  },
  {
   "cell_type": "code",
   "execution_count": null,
   "id": "b82988fa-5d07-45e1-9305-4b0759fa04d6",
   "metadata": {
    "scrolled": true
   },
   "outputs": [],
   "source": [
    "na_box"
   ]
  },
  {
   "cell_type": "markdown",
   "id": "a90f7d87-646c-4f29-92de-2678ca365414",
   "metadata": {},
   "source": [
    "- test 데이터의 Segment는 모두 결측치로 되어있다.\n",
    "- 다른 칼럼의 경우 결측치 비율에 따라 처리한다."
   ]
  },
  {
   "cell_type": "code",
   "execution_count": null,
   "id": "636dafab-d5b1-44cc-a7d1-682fcabb9b11",
   "metadata": {},
   "outputs": [],
   "source": [
    "df[na_box].isna().sum() / df.shape[0]"
   ]
  },
  {
   "cell_type": "markdown",
   "id": "7a7dc18b-11af-4c7a-86a3-d9e223a40a96",
   "metadata": {},
   "source": [
    "### 결측 데이터 처리"
   ]
  },
  {
   "cell_type": "markdown",
   "id": "c32d1426-f136-4ac3-9799-e19b334b3f20",
   "metadata": {},
   "source": [
    "1. 가입통신회사코드"
   ]
  },
  {
   "cell_type": "code",
   "execution_count": null,
   "id": "d297fd1f-5a4c-4f28-8365-a2bbfa9c950e",
   "metadata": {},
   "outputs": [],
   "source": [
    "df['가입통신회사코드'].value_counts(normalize = True, dropna = False)"
   ]
  },
  {
   "cell_type": "code",
   "execution_count": null,
   "id": "2a7f83cd-7f9f-415c-a65e-e4b21874f15a",
   "metadata": {},
   "outputs": [],
   "source": [
    "# 최빈값 대체\n",
    "df.fillna({'가입통신회사코드' : df['가입통신회사코드'].mode()[0]}, inplace = True)"
   ]
  },
  {
   "cell_type": "code",
   "execution_count": null,
   "id": "e4e19139-644c-4cab-a0c2-4cb0f5ad365a",
   "metadata": {},
   "outputs": [],
   "source": [
    "df['가입통신회사코드'].isna().sum()"
   ]
  },
  {
   "cell_type": "markdown",
   "id": "527a6235-fb4b-420a-aa37-018ee3462d37",
   "metadata": {},
   "source": [
    "2. 직장시도명"
   ]
  },
  {
   "cell_type": "code",
   "execution_count": null,
   "id": "16cc9760-f039-49ba-a003-64d5e9b884d8",
   "metadata": {},
   "outputs": [],
   "source": [
    "df['직장시도명'].value_counts(normalize = True, dropna = False)"
   ]
  },
  {
   "cell_type": "code",
   "execution_count": null,
   "id": "02d01a61-a9b8-4e27-a875-68f807f01aa7",
   "metadata": {},
   "outputs": [],
   "source": [
    "# 직장시도명과 거주시도명을 비교해 본다.\n",
    "a1 = df.loc[(df['직장시도명'].notna()) & (df['직장시도명'] == df['거주시도명'])].shape[0]\n",
    "print(round(a1 / sum(df['직장시도명'].notna()), 3))"
   ]
  },
  {
   "cell_type": "markdown",
   "id": "302c02c5-9ac8-422a-8923-2c28b91e2aa1",
   "metadata": {},
   "source": [
    "- 직장시도명 컬럼이 결측치가 아닌 데이터 중 96.4% 정도가 일치한다.\n",
    "- 직장시도명 컬럼은 삭제한다."
   ]
  },
  {
   "cell_type": "code",
   "execution_count": null,
   "id": "c66de0a0-a4bb-495a-92fb-17202c4298d5",
   "metadata": {},
   "outputs": [],
   "source": [
    "df.drop('직장시도명', axis = 1, inplace = True)"
   ]
  },
  {
   "cell_type": "markdown",
   "id": "8dc29f47-e92a-437c-bf98-3ad178af14a9",
   "metadata": {},
   "source": [
    "3. _1순위신용체크구분\n",
    "- 해당 컬럼의 결측치는 미비한 수준이니 대표값으로 단순대체한다."
   ]
  },
  {
   "cell_type": "code",
   "execution_count": null,
   "id": "e1f782db-f47d-4209-b28d-7d743f91ae1a",
   "metadata": {},
   "outputs": [],
   "source": [
    "df['_1순위신용체크구분'].value_counts()"
   ]
  },
  {
   "cell_type": "code",
   "execution_count": null,
   "id": "162a8b02-077e-4d7b-a537-0f138d9e1b96",
   "metadata": {},
   "outputs": [],
   "source": [
    "df.fillna({'_1순위신용체크구분' : df['_1순위신용체크구분'].mode()[0]}, inplace = True)"
   ]
  },
  {
   "cell_type": "code",
   "execution_count": null,
   "id": "25f5f4ef-17bb-4812-bfef-2b79a2a2e216",
   "metadata": {},
   "outputs": [],
   "source": [
    "df['_1순위신용체크구분'].isna().sum()"
   ]
  },
  {
   "cell_type": "markdown",
   "id": "988fa807-d61a-4182-9ea5-a64e7f375ebf",
   "metadata": {},
   "source": [
    "4. _2순위신용체크구분"
   ]
  },
  {
   "cell_type": "code",
   "execution_count": null,
   "id": "c88b8ac4-6606-4d66-99e0-12f39f8c4a91",
   "metadata": {},
   "outputs": [],
   "source": [
    "df['_2순위신용체크구분'].value_counts(normalize = True, dropna = False)"
   ]
  },
  {
   "cell_type": "code",
   "execution_count": null,
   "id": "beaec66b-7dd9-4fea-b56b-9e2bca298157",
   "metadata": {},
   "outputs": [],
   "source": [
    "a1 = sum((df['_2순위신용체크구분'].notna()) & (df['_2순위신용체크구분'] == df['_1순위신용체크구분']))\n",
    "print(a1 / sum(df['_2순위신용체크구분'].notna()))"
   ]
  },
  {
   "cell_type": "code",
   "execution_count": null,
   "id": "4e88de2a-e007-401a-bc03-5f7dd588973f",
   "metadata": {},
   "outputs": [],
   "source": [
    "ct1 = pd.crosstab(df.loc[df['_2순위신용체크구분'].notna(), '_2순위신용체크구분'],\n",
    "                 df.loc[df['_2순위신용체크구분'].notna(), '_1순위신용체크구분'],\n",
    "                 normalize = 'index',\n",
    "                 margins = True)\n",
    "\n",
    "sns.heatmap(ct1, annot = True, fmt = '.2%', cmap = 'Blues')\n",
    "plt.show()"
   ]
  },
  {
   "cell_type": "markdown",
   "id": "f4b4dd7d-253c-4aec-846a-151966393ab6",
   "metadata": {},
   "source": [
    "- 데이터의 분포에서 결측치의 비율이 가장 크다.\n",
    "- 두 분포의 비율이 비슷하다.\n",
    "- _2순위신용체크구분은 삭제한다."
   ]
  },
  {
   "cell_type": "code",
   "execution_count": null,
   "id": "e3ae659d-f68d-454e-8c58-94caaa626ead",
   "metadata": {},
   "outputs": [],
   "source": [
    "df.drop('_2순위신용체크구분', axis = 1, inplace = True)"
   ]
  },
  {
   "cell_type": "code",
   "execution_count": null,
   "id": "906bf408-be7e-4234-9607-64022463983c",
   "metadata": {},
   "outputs": [],
   "source": [
    "na_box = []\n",
    "\n",
    "for idx, val in df.isna().sum().items() :\n",
    "    # print(f'{idx}의 결측치 : {val}')\n",
    "    if val > 0 :\n",
    "        na_box.append(idx)"
   ]
  },
  {
   "cell_type": "code",
   "execution_count": null,
   "id": "0d0782af-2c5f-47d9-ab46-e0fc78c458fe",
   "metadata": {},
   "outputs": [],
   "source": [
    "na_box"
   ]
  },
  {
   "cell_type": "code",
   "execution_count": null,
   "id": "7b2db839-8697-43c4-89bb-aa95cf270b22",
   "metadata": {},
   "outputs": [],
   "source": [
    "df[na_box]"
   ]
  },
  {
   "cell_type": "code",
   "execution_count": null,
   "id": "aeef8317-0e91-48b4-844d-20759157d584",
   "metadata": {},
   "outputs": [],
   "source": [
    "cat_cols = ['연령', '가입통신회사코드', '거주시도명', '_1순위신용체크구분', '연회비발생카드수_B0M', 'Life_Stage']\n",
    "for col in cat_cols :\n",
    "    le = LabelEncoder()\n",
    "    df[col] = le.fit_transform(df[col])"
   ]
  },
  {
   "cell_type": "code",
   "execution_count": null,
   "id": "a4a0e213-671a-4662-bf58-adc9091324fd",
   "metadata": {
    "scrolled": true
   },
   "outputs": [],
   "source": [
    "df.info()"
   ]
  },
  {
   "cell_type": "code",
   "execution_count": null,
   "id": "5f73a588-9a0c-4630-a4db-3e5a1994121f",
   "metadata": {},
   "outputs": [],
   "source": [
    "df.to_csv('data/회원정보_전처리(fin).csv', index = False)"
   ]
  },
  {
   "cell_type": "code",
   "execution_count": null,
   "id": "996a9138-2559-4ec5-8023-38e1f67d3e06",
   "metadata": {},
   "outputs": [],
   "source": []
  }
 ],
 "metadata": {
  "kernelspec": {
   "display_name": "Python (gpu_env)",
   "language": "python",
   "name": "gpu_env"
  },
  "language_info": {
   "codemirror_mode": {
    "name": "ipython",
    "version": 3
   },
   "file_extension": ".py",
   "mimetype": "text/x-python",
   "name": "python",
   "nbconvert_exporter": "python",
   "pygments_lexer": "ipython3",
   "version": "3.10.18"
  }
 },
 "nbformat": 4,
 "nbformat_minor": 5
}
