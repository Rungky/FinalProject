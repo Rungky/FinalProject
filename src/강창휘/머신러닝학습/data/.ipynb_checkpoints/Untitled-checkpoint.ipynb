{
 "cells": [
  {
   "cell_type": "code",
   "execution_count": 46,
   "id": "a73e51e7-82db-44a3-8c35-8fb79650888d",
   "metadata": {},
   "outputs": [],
   "source": [
    "import pandas as pd\n",
    "from sklearn.model_selection import train_test_split\n",
    "from xgboost import XGBClassifier\n",
    "from sklearn.preprocessing import LabelEncoder\n",
    "\n",
    "# 교차 검증\n",
    "from sklearn.model_selection import cross_val_score\n",
    "from sklearn.model_selection import cross_validate\n",
    "from sklearn.model_selection import KFold\n",
    "from sklearn.model_selection import StratifiedKFold\n",
    "\n",
    "import warnings \n",
    "warnings.filterwarnings('ignore')\n",
    "\n",
    "from sklearn.metrics import confusion_matrix"
   ]
  },
  {
   "cell_type": "code",
   "execution_count": 27,
   "id": "c3bd5204-73af-4564-864a-b90b8a1bef38",
   "metadata": {},
   "outputs": [],
   "source": [
    "train = pd.read_csv('selected_features.csv')\n",
    "test = pd.read_csv('selected_features.csv')"
   ]
  },
  {
   "cell_type": "code",
   "execution_count": 28,
   "id": "7198526a-95bb-4c9a-b581-4a4cbe7cb379",
   "metadata": {},
   "outputs": [],
   "source": [
    "# 교차검증 횟수\n",
    "cv_count = 10\n",
    "# 교차 검증\n",
    "kfold = KFold(n_splits=cv_count, shuffle=True, random_state=1)"
   ]
  },
  {
   "cell_type": "code",
   "execution_count": 29,
   "id": "ac97a134-8d3c-4c7b-9b64-a8a9ef8d0590",
   "metadata": {},
   "outputs": [],
   "source": [
    "train_id = train.pop('ID')\n",
    "y_train = train.pop('Segment')"
   ]
  },
  {
   "cell_type": "code",
   "execution_count": 30,
   "id": "5e389aa7-c4f2-4853-9f93-e40e25cbccf6",
   "metadata": {},
   "outputs": [],
   "source": [
    "le = LabelEncoder()\n",
    "y_train_enc = le.fit_transform(y_train)"
   ]
  },
  {
   "cell_type": "code",
   "execution_count": 32,
   "id": "1a3d84f0-1d46-43f4-b200-45b83ca378d1",
   "metadata": {},
   "outputs": [
    {
     "name": "stdout",
     "output_type": "stream",
     "text": [
      "[3 4 2 ... 2 4 4]\n"
     ]
    },
    {
     "data": {
      "text/plain": [
       "array(['D', 'E', 'C', ..., 'C', 'E', 'E'], dtype=object)"
      ]
     },
     "execution_count": 32,
     "metadata": {},
     "output_type": "execute_result"
    }
   ],
   "source": [
    "print(y_train_enc)\n",
    "le.inverse_transform(y_train_enc)"
   ]
  },
  {
   "cell_type": "code",
   "execution_count": 33,
   "id": "bc475c2b-944d-4fc5-85a3-ac56557b2f45",
   "metadata": {},
   "outputs": [],
   "source": [
    "x_tr, x_val, y_tr, y_val = train_test_split(train, y_train_enc, stratify = y_train_enc, test_size = 0.25, random_state = 10)"
   ]
  },
  {
   "cell_type": "code",
   "execution_count": 38,
   "id": "3e332e54-48a3-48a2-b48d-29402004cc32",
   "metadata": {
    "scrolled": true
   },
   "outputs": [],
   "source": [
    "xgb = XGBClassifier(verbose = -1, silent = True, tree_method = 'gpu_hist', predictor = 'gpu_predictor')\n",
    "xgb.fit(x_tr, y_tr)\n",
    "pred1 = xgb.predict(x_val)"
   ]
  },
  {
   "cell_type": "code",
   "execution_count": 43,
   "id": "481a1a9e-5850-4958-a231-574cc1197d35",
   "metadata": {},
   "outputs": [],
   "source": [
    "pred_df = pd.DataFrame({'pred' : pred1, 'true' : y_val})"
   ]
  },
  {
   "cell_type": "code",
   "execution_count": 44,
   "id": "c54971b7-4268-4407-9da0-e18789de396f",
   "metadata": {},
   "outputs": [
    {
     "data": {
      "text/html": [
       "<div>\n",
       "<style scoped>\n",
       "    .dataframe tbody tr th:only-of-type {\n",
       "        vertical-align: middle;\n",
       "    }\n",
       "\n",
       "    .dataframe tbody tr th {\n",
       "        vertical-align: top;\n",
       "    }\n",
       "\n",
       "    .dataframe thead th {\n",
       "        text-align: right;\n",
       "    }\n",
       "</style>\n",
       "<table border=\"1\" class=\"dataframe\">\n",
       "  <thead>\n",
       "    <tr style=\"text-align: right;\">\n",
       "      <th></th>\n",
       "      <th>pred</th>\n",
       "      <th>true</th>\n",
       "    </tr>\n",
       "  </thead>\n",
       "  <tbody>\n",
       "    <tr>\n",
       "      <th>0</th>\n",
       "      <td>4</td>\n",
       "      <td>4</td>\n",
       "    </tr>\n",
       "    <tr>\n",
       "      <th>1</th>\n",
       "      <td>4</td>\n",
       "      <td>4</td>\n",
       "    </tr>\n",
       "    <tr>\n",
       "      <th>2</th>\n",
       "      <td>4</td>\n",
       "      <td>4</td>\n",
       "    </tr>\n",
       "    <tr>\n",
       "      <th>3</th>\n",
       "      <td>4</td>\n",
       "      <td>4</td>\n",
       "    </tr>\n",
       "    <tr>\n",
       "      <th>4</th>\n",
       "      <td>4</td>\n",
       "      <td>4</td>\n",
       "    </tr>\n",
       "    <tr>\n",
       "      <th>...</th>\n",
       "      <td>...</td>\n",
       "      <td>...</td>\n",
       "    </tr>\n",
       "    <tr>\n",
       "      <th>99995</th>\n",
       "      <td>4</td>\n",
       "      <td>4</td>\n",
       "    </tr>\n",
       "    <tr>\n",
       "      <th>99996</th>\n",
       "      <td>4</td>\n",
       "      <td>2</td>\n",
       "    </tr>\n",
       "    <tr>\n",
       "      <th>99997</th>\n",
       "      <td>4</td>\n",
       "      <td>4</td>\n",
       "    </tr>\n",
       "    <tr>\n",
       "      <th>99998</th>\n",
       "      <td>4</td>\n",
       "      <td>4</td>\n",
       "    </tr>\n",
       "    <tr>\n",
       "      <th>99999</th>\n",
       "      <td>4</td>\n",
       "      <td>4</td>\n",
       "    </tr>\n",
       "  </tbody>\n",
       "</table>\n",
       "<p>100000 rows × 2 columns</p>\n",
       "</div>"
      ],
      "text/plain": [
       "       pred  true\n",
       "0         4     4\n",
       "1         4     4\n",
       "2         4     4\n",
       "3         4     4\n",
       "4         4     4\n",
       "...     ...   ...\n",
       "99995     4     4\n",
       "99996     4     2\n",
       "99997     4     4\n",
       "99998     4     4\n",
       "99999     4     4\n",
       "\n",
       "[100000 rows x 2 columns]"
      ]
     },
     "execution_count": 44,
     "metadata": {},
     "output_type": "execute_result"
    }
   ],
   "source": [
    "pred_df"
   ]
  },
  {
   "cell_type": "code",
   "execution_count": 45,
   "id": "195c55b3-a6bb-401c-b05c-33aa276f8d1f",
   "metadata": {},
   "outputs": [
    {
     "data": {
      "image/png": "[encoded data removed]",
      "text/plain": [
       "<Figure size 400x400 with 2 Axes>"
      ]
     },
     "metadata": {},
     "output_type": "display_data"
    }
   ],
   "source": [
    "from sklearn.metrics import confusion_matrix\n",
    "import seaborn as sns\n",
    "import matplotlib.pyplot as plt\n",
    "\n",
    "# 예시 데이터: 실제 값과 예측 값\n",
    "y_true = y_val\n",
    "y_pred = pred1\n",
    "\n",
    "# 혼동 행렬 계산\n",
    "cm = confusion_matrix(y_true, y_pred)\n",
    "\n",
    "# 시각화\n",
    "plt.figure(figsize=(4, 4))\n",
    "sns.heatmap(cm, annot=True, fmt='d', cmap='Blues')\n",
    "plt.xlabel('Predicted')\n",
    "plt.ylabel('Actual')\n",
    "plt.title('Confusion Matrix')\n",
    "plt.tight_layout()\n",
    "plt.show()\n"
   ]
  },
  {
   "cell_type": "code",
   "execution_count": null,
   "id": "383f245f-0b08-43d5-abe0-52bf4e0b845f",
   "metadata": {},
   "outputs": [],
   "source": []
  },
  {
   "cell_type": "code",
   "execution_count": null,
   "id": "792b62fc-1e6f-40ae-88e0-3f976fc7b349",
   "metadata": {},
   "outputs": [],
   "source": [
    "params = {\n",
    "    'booster' : ['gbtree', 'gblinear'],\n",
    "    'n_estimators' : [50, 100, 150, 200, 250, 300],\n",
    "    'learning_rate' : [0.0001, 0.001, 0.01, 0.1, 1, 0, 10, 100, 1000, 10000]\n",
    "}\n",
    "xgb = XGBClassifier(verbose = -1, silent = True, tree_method = 'gpu_hist', predictor = 'gpu_predictor')\n",
    "r1 = cross_val_score(xgb, x_tr, y_tr, scoring = 'accuracy', cv = kfold)\n",
    "print(r1.mean())"
   ]
  }
 ],
 "metadata": {
  "kernelspec": {
   "display_name": "Python (gpu_env)",
   "language": "python",
   "name": "gpu_env"
  },
  "language_info": {
   "codemirror_mode": {
    "name": "ipython",
    "version": 3
   },
   "file_extension": ".py",
   "mimetype": "text/x-python",
   "name": "python",
   "nbconvert_exporter": "python",
   "pygments_lexer": "ipython3",
   "version": "3.10.18"
  }
 },
 "nbformat": 4,
 "nbformat_minor": 5
}
