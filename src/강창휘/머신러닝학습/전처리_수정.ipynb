{
 "cells": [
  {
   "cell_type": "code",
   "execution_count": 56,
   "id": "4a9fd724-91b4-478d-bb92-83d2cde4acd7",
   "metadata": {},
   "outputs": [],
   "source": [
    "import pandas as pd\n",
    "import numpy as np\n",
    "import matplotlib.pyplot as plt\n",
    "import seaborn as sns\n",
    "import gc\n",
    "\n",
    "# 경고 메시지가 뜨지 않게 설정\n",
    "import warnings \n",
    "warnings.filterwarnings('ignore')\n",
    "\n",
    "# 그래프 설정\n",
    "sns.set()\n",
    "\n",
    "# 그래프 기본 설정\n",
    "plt.rcParams['font.family'] = 'Malgun Gothic'\n",
    "# plt.rcParams['font.family'] = 'AppleGothic'\n",
    "plt.rcParams['figure.figsize'] = 12, 6\n",
    "plt.rcParams['font.size'] = 14\n",
    "plt.rcParams['axes.unicode_minus'] = False\n",
    "\n",
    "# 인코딩\n",
    "from sklearn.preprocessing import OneHotEncoder, LabelEncoder\n",
    "\n",
    "# 변수선택\n",
    "from sklearn.model_selection import cross_val_score, train_test_split\n",
    "\n",
    "# 검정\n",
    "from scipy import stats\n",
    "# 로지스틱 모델 만들기\n",
    "from statsmodels.formula.api import logit\n",
    "\n",
    "# 다중공선성 확인\n",
    "from statsmodels.stats.outliers_influence import variance_inflation_factor\n",
    "import statsmodels.api as sm\n",
    "\n",
    "from xgboost import XGBClassifier\n",
    "from lightgbm import LGBMClassifier \n",
    "from catboost import CatBoostClassifier"
   ]
  },
  {
   "cell_type": "code",
   "execution_count": 2,
   "id": "1a3275b0-02af-42a5-aae1-557245a71edc",
   "metadata": {},
   "outputs": [],
   "source": [
    "df1 = pd.read_csv('회원정보_preprocessing.csv')"
   ]
  },
  {
   "cell_type": "code",
   "execution_count": 3,
   "id": "1c05928f-f4f9-4748-9d21-a6f538ab7e11",
   "metadata": {},
   "outputs": [],
   "source": [
    "df_Segment = df1['Segment']"
   ]
  },
  {
   "cell_type": "code",
   "execution_count": 4,
   "id": "f0e11886-501d-4535-b058-3bc538e8af15",
   "metadata": {},
   "outputs": [],
   "source": [
    "df1 = df1.loc[df1['기준년월'] == 201812]"
   ]
  },
  {
   "cell_type": "code",
   "execution_count": 6,
   "id": "827ee4f9-cc2f-469a-aac8-0980d44663dd",
   "metadata": {},
   "outputs": [],
   "source": [
    "df1.drop('기준년월', axis = 1, inplace = True)"
   ]
  },
  {
   "cell_type": "code",
   "execution_count": 7,
   "id": "a2fe5dc3-0be0-4c70-b6dc-dc95b552e454",
   "metadata": {},
   "outputs": [],
   "source": [
    "df1.to_csv('회원정보_preprocessing_fin.csv', index = False)"
   ]
  },
  {
   "cell_type": "code",
   "execution_count": 8,
   "id": "98d4e859-169a-4c22-8fca-0f00d19c820a",
   "metadata": {},
   "outputs": [],
   "source": [
    "df2 = pd.read_csv('신용정보_preprocessing.csv')"
   ]
  },
  {
   "cell_type": "code",
   "execution_count": 9,
   "id": "35a8257e-f987-4346-80c5-3cb6e4e58cdb",
   "metadata": {},
   "outputs": [],
   "source": [
    "df2['기준년월'] = df2['기준년월'] + 201800"
   ]
  },
  {
   "cell_type": "code",
   "execution_count": 10,
   "id": "beceef01-454c-4261-ac4a-fe13c34aaa99",
   "metadata": {},
   "outputs": [],
   "source": [
    "df2['Segment'] = df_Segment "
   ]
  },
  {
   "cell_type": "code",
   "execution_count": 26,
   "id": "05818ce2-48e3-4efd-9bbf-fe27bf5ef9a2",
   "metadata": {},
   "outputs": [],
   "source": [
    "df2.drop('rv최초시작후경과일', axis =1, inplace = True)"
   ]
  },
  {
   "cell_type": "code",
   "execution_count": 54,
   "id": "985eca95-c927-433b-9734-c40a45d1cbff",
   "metadata": {},
   "outputs": [],
   "source": [
    "# 데이터의 도수의 종류가 1개인 데이터를 변수에 담는다.\n",
    "cols_same_value = df2.columns[df2.nunique() == 1]"
   ]
  },
  {
   "cell_type": "code",
   "execution_count": 33,
   "id": "0685c76d-8f74-4ade-95bd-642c20772e4a",
   "metadata": {},
   "outputs": [],
   "source": [
    "df2.drop(list(drop_list), axis = 1, inplace = True)"
   ]
  },
  {
   "cell_type": "code",
   "execution_count": 11,
   "id": "aa6d2b62-1570-4cb8-b29a-4f51da9b488e",
   "metadata": {},
   "outputs": [],
   "source": [
    "df2 = df2.loc[df2['기준년월'] == 201812]"
   ]
  },
  {
   "cell_type": "code",
   "execution_count": 12,
   "id": "85bda174-7913-4b12-9ee5-e79096ce9eef",
   "metadata": {},
   "outputs": [],
   "source": [
    "df2.drop(['기준년월', 'Segment'], axis = 1, inplace = True)"
   ]
  },
  {
   "cell_type": "code",
   "execution_count": 13,
   "id": "5a77af26-d7e2-441f-a8d1-1da79b01a79c",
   "metadata": {},
   "outputs": [],
   "source": [
    "df2.to_csv('신용정보_preprocessing_fin.csv', index = False)"
   ]
  },
  {
   "cell_type": "code",
   "execution_count": 14,
   "id": "d0dfe35c-d15a-4efd-bf73-051dda45e66f",
   "metadata": {},
   "outputs": [],
   "source": [
    "df3 = pd.read_csv('성과정보_preprocessing.csv')"
   ]
  },
  {
   "cell_type": "code",
   "execution_count": 15,
   "id": "37698b5e-c530-4c51-a272-faae7ba4b45a",
   "metadata": {},
   "outputs": [],
   "source": [
    "df3['Segment'] = df_Segment"
   ]
  },
  {
   "cell_type": "code",
   "execution_count": 16,
   "id": "20a6668d-8a93-4afe-ba6c-35fbab6f7881",
   "metadata": {},
   "outputs": [],
   "source": [
    "df3 = df3.loc[df3['기준년월'] == 201812]"
   ]
  },
  {
   "cell_type": "code",
   "execution_count": 17,
   "id": "4d007eef-68a8-411c-8056-7a4fb8df241a",
   "metadata": {},
   "outputs": [],
   "source": [
    "df3.drop(['기준년월', 'Segment'], axis = 1, inplace = True)"
   ]
  },
  {
   "cell_type": "code",
   "execution_count": 18,
   "id": "2fa9472b-14f0-4aa0-912f-b10757ae420d",
   "metadata": {},
   "outputs": [],
   "source": [
    "df3.to_csv('성과정보_preprocessing_fin.csv', index = False)"
   ]
  },
  {
   "cell_type": "code",
   "execution_count": 32,
   "id": "19a68248-24ee-4ce8-8474-6ed6fa914000",
   "metadata": {},
   "outputs": [],
   "source": [
    "drop_list = cols_same_value"
   ]
  },
  {
   "cell_type": "code",
   "execution_count": 35,
   "id": "05c4b853-23f3-4418-9c8f-27757a545f07",
   "metadata": {},
   "outputs": [],
   "source": [
    "df2.to_csv('신용정보_preprocessing_fin.csv', index = False)"
   ]
  },
  {
   "cell_type": "code",
   "execution_count": 57,
   "id": "e222334a-eb62-4f44-b0b7-8b031b87b707",
   "metadata": {},
   "outputs": [],
   "source": [
    "a = pd.read_csv('회원정보_preprocessing_fin.csv')"
   ]
  },
  {
   "cell_type": "code",
   "execution_count": 58,
   "id": "3529679b-bd90-494c-9550-08651c2ff278",
   "metadata": {},
   "outputs": [],
   "source": [
    "b = pd.read_csv('신용정보_preprocessing_fin.csv')"
   ]
  },
  {
   "cell_type": "code",
   "execution_count": 59,
   "id": "dfda34e9-9217-4261-900e-54ac8b3ae7af",
   "metadata": {},
   "outputs": [],
   "source": [
    "c = pd.read_csv('성과정보_preprocessing_fin.csv')"
   ]
  },
  {
   "cell_type": "code",
   "execution_count": 63,
   "id": "20693ba3-ee2e-4233-9f66-f6050fc4c3ad",
   "metadata": {},
   "outputs": [
    {
     "name": "stdout",
     "output_type": "stream",
     "text": [
      "100000\n",
      "0\n",
      "0\n"
     ]
    }
   ],
   "source": [
    "print(a.isna().sum().sum())\n",
    "print(b.isna().sum().sum())\n",
    "print(c.isna().sum().sum())"
   ]
  }
 ],
 "metadata": {
  "kernelspec": {
   "display_name": "Python (gpu_env)",
   "language": "python",
   "name": "gpu_env"
  },
  "language_info": {
   "codemirror_mode": {
    "name": "ipython",
    "version": 3
   },
   "file_extension": ".py",
   "mimetype": "text/x-python",
   "name": "python",
   "nbconvert_exporter": "python",
   "pygments_lexer": "ipython3",
   "version": "3.10.18"
  }
 },
 "nbformat": 4,
 "nbformat_minor": 5
}
