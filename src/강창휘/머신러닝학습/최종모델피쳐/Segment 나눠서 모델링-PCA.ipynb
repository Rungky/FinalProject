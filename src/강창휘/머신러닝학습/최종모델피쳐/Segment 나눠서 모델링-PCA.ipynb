{
 "cells": [
  {
   "cell_type": "code",
   "execution_count": 11,
   "id": "a87f9480-208e-43b8-805b-d345f63f50e5",
   "metadata": {},
   "outputs": [],
   "source": [
    "import pandas as pd\n",
    "import numpy as np\n",
    "from sklearn.model_selection import train_test_split, StratifiedKFold, cross_val_predict\n",
    "from lightgbm import LGBMClassifier\n",
    "from sklearn.metrics import confusion_matrix, classification_report\n",
    "\n",
    "# 그래프 설정\n",
    "import seaborn as sns\n",
    "import matplotlib.pyplot as plt\n",
    "sns.set()\n",
    "\n",
    "# 그래프 기본 설정\n",
    "plt.rcParams['font.family'] = 'Malgun Gothic'\n",
    "# plt.rcParams['font.family'] = 'AppleGothic'\n",
    "plt.rcParams['figure.figsize'] = 12, 6\n",
    "plt.rcParams['font.size'] = 14\n",
    "plt.rcParams['axes.unicode_minus'] = False\n",
    "\n",
    "# 경고 메시지 억제\n",
    "import warnings\n",
    "warnings.filterwarnings('ignore')  "
   ]
  },
  {
   "cell_type": "code",
   "execution_count": 2,
   "id": "3fc1cf04-73b6-43e1-85d7-78b43ba09cfe",
   "metadata": {},
   "outputs": [],
   "source": [
    "# 데이터 로드 및 ID 제거\n",
    "df = pd.read_csv('final_features.csv')\n",
    "df.drop('ID', axis = 1, inplace = True)\n",
    "X = df.copy()\n",
    "y = X.pop('Segment')\n",
    "\n",
    "# E vs not-E 이진 타깃 생성\n",
    "y_e = (y == 'E').astype(int)\n",
    "\n",
    "# 학습/검증 분할 (20% 검증, E 분포 유지)\n",
    "X_train, X_val, y_train_e, y_val_e, y_train, y_val = train_test_split(\n",
    "    X, y_e, y, test_size=0.25, random_state=42, stratify=y_e\n",
    ")"
   ]
  },
  {
   "cell_type": "code",
   "execution_count": 3,
   "id": "36f2ee5c-5cb5-4388-b214-e2a68551292a",
   "metadata": {},
   "outputs": [
    {
     "name": "stdout",
     "output_type": "stream",
     "text": [
      "=== 모델1: E vs not-E ===\n",
      "[[13533  6382]\n",
      " [ 3327 76758]]\n",
      "              precision    recall  f1-score   support\n",
      "\n",
      "       not-E       0.80      0.68      0.74     19915\n",
      "           E       0.92      0.96      0.94     80085\n",
      "\n",
      "    accuracy                           0.90    100000\n",
      "   macro avg       0.86      0.82      0.84    100000\n",
      "weighted avg       0.90      0.90      0.90    100000\n",
      "\n"
     ]
    }
   ],
   "source": [
    "# 1. 모델1: E vs not-E 분류\n",
    "model1 = LGBMClassifier(verbose=-1, random_state = 42)\n",
    "\n",
    "# E vs not-E\n",
    "model1.fit(X_train, y_train_e)\n",
    "\n",
    "# 검증셋 E vs not-E\n",
    "y1_pred = model1.predict(X_val)\n",
    "\n",
    "print(\"=== 모델1: E vs not-E ===\")\n",
    "print(confusion_matrix(y_val_e, y1_pred))\n",
    "print(classification_report(y_val_e, y1_pred, target_names=['not-E','E']))\n",
    "\n",
    "# 검증셋 DataFrame 및 pred1 추가\n",
    "df_val = pd.DataFrame(X_val, columns=X.columns)\n",
    "df_val['true_seg'] = y_val.values\n",
    "df_val['pred1']    = y1_pred"
   ]
  },
  {
   "cell_type": "code",
   "execution_count": 4,
   "id": "7f6b0d5f-61f3-4186-b507-b5c5fcb5f68f",
   "metadata": {},
   "outputs": [
    {
     "name": "stdout",
     "output_type": "stream",
     "text": [
      "\n",
      "=== 모델2: A/B vs C/D ===\n",
      "[[16768    46]\n",
      " [   37     9]]\n",
      "              precision    recall  f1-score   support\n",
      "\n",
      "         C/D       1.00      1.00      1.00     16814\n",
      "         A/B       0.16      0.20      0.18        46\n",
      "\n",
      "    accuracy                           1.00     16860\n",
      "   macro avg       0.58      0.60      0.59     16860\n",
      "weighted avg       1.00      1.00      1.00     16860\n",
      "\n"
     ]
    }
   ],
   "source": [
    "# pred1 == 0 (not-E) 데이터\n",
    "df_val_notE = df_val[df_val['pred1'] == 0].reset_index(drop=True)\n",
    "X_val_notE  = df_val_notE[X.columns]\n",
    "\n",
    "# A/B vs C/D 레이블 (A,B→1 / C,D→0)\n",
    "y2_true = df_val_notE['true_seg'].apply(lambda s: 1 if s in ['A','B'] else 0)\n",
    "\n",
    "# 학습셋 not-E 샘플 및 A/B vs C/D 타깃\n",
    "mask_train_notE = (y_train_e == 0)\n",
    "X_train_notE    = X_train[mask_train_notE]\n",
    "y_train_notE    = y_train[mask_train_notE].apply(lambda s: 1 if s in ['A','B'] else 0)\n",
    "\n",
    "# XGBoost 분류기 \n",
    "model2 = LGBMClassifier(random_state=42, verbose=-1)\n",
    "\n",
    "# A/B vs C/D\n",
    "model2.fit(X_train_notE, y_train_notE)\n",
    "\n",
    "# 검증셋 A/B vs C/D\n",
    "y2_pred = model2.predict(X_val_notE)\n",
    "\n",
    "print(\"\\n=== 모델2: A/B vs C/D ===\")\n",
    "print(confusion_matrix(y2_true, y2_pred))\n",
    "print(classification_report(y2_true, y2_pred, target_names=['C/D','A/B']))\n",
    "\n",
    "# pred2 컬럼\n",
    "df_val_notE['pred2'] = y2_pred"
   ]
  },
  {
   "cell_type": "markdown",
   "id": "0a3153e2-75b4-49ce-b14f-3fae7a76511d",
   "metadata": {},
   "source": [
    "#### 모델2가 “A/B”로 예측한 6개 샘플에 대해서만 모델3을 돌려본 것"
   ]
  },
  {
   "cell_type": "code",
   "execution_count": 5,
   "id": "38f7e743-b214-4ec1-a5f1-ca44d8d68c39",
   "metadata": {},
   "outputs": [
    {
     "name": "stdout",
     "output_type": "stream",
     "text": [
      "\n",
      "=== 모델3: A vs B ===\n",
      "[[53  2]\n",
      " [ 0  0]]\n",
      "              precision    recall  f1-score   support\n",
      "\n",
      "           A       1.00      0.96      0.98        55\n",
      "           B       0.00      0.00      0.00         0\n",
      "\n",
      "    accuracy                           0.96        55\n",
      "   macro avg       0.50      0.48      0.49        55\n",
      "weighted avg       1.00      0.96      0.98        55\n",
      "\n"
     ]
    }
   ],
   "source": [
    "# 모델3: A vs B 분류\n",
    "# pred2 == 1 (A/B로 예측된) 데이터\n",
    "df_val_AB = df_val_notE[df_val_notE['pred2'] == 1].reset_index(drop=True)\n",
    "X_val_AB  = df_val_AB[X.columns]\n",
    "\n",
    "# A vs B 레이블 (B→1 / A→0)\n",
    "y3_true = df_val_AB['true_seg'].apply(lambda s: 1 if s == 'B' else 0)\n",
    "\n",
    "# 학습셋 A/B 샘플 및 A vs B 타깃\n",
    "mask_train_AB = mask_train_notE & (y_train.isin(['A','B']))\n",
    "X_train_AB    = X_train[mask_train_AB]\n",
    "y_train_AB    = y_train[mask_train_AB].apply(lambda s: 1 if s == 'B' else 0)\n",
    "\n",
    "# XGBoost 분류기 \n",
    "model3 = LGBMClassifier(random_state=42, verbose=-1)\n",
    "\n",
    "# A vs B\n",
    "model3.fit(X_train_AB, y_train_AB)\n",
    "\n",
    "# 검증셋 A vs B\n",
    "y3_pred = model3.predict(X_val_AB)\n",
    "\n",
    "print(\"\\n=== 모델3: A vs B ===\")\n",
    "print(confusion_matrix(y3_true, y3_pred))\n",
    "print(classification_report(y3_true, y3_pred, labels=[0,1], target_names=['A','B']))"
   ]
  },
  {
   "cell_type": "markdown",
   "id": "2ecb1a3e-fc22-4933-9885-38fa86659b8a",
   "metadata": {},
   "source": [
    "#### 진짜 A/B인 37개 샘플에 대해서만 모델3을 돌려본 것"
   ]
  },
  {
   "cell_type": "code",
   "execution_count": 6,
   "id": "f891cc97-71af-4ae3-aac4-604ccf7ba3cc",
   "metadata": {},
   "outputs": [
    {
     "name": "stdout",
     "output_type": "stream",
     "text": [
      "[[39  0]\n",
      " [ 6  1]]\n",
      "              precision    recall  f1-score   support\n",
      "\n",
      "           A       0.87      1.00      0.93        39\n",
      "           B       1.00      0.14      0.25         7\n",
      "\n",
      "    accuracy                           0.87        46\n",
      "   macro avg       0.93      0.57      0.59        46\n",
      "weighted avg       0.89      0.87      0.83        46\n",
      "\n"
     ]
    }
   ],
   "source": [
    "# 실제 A/B 전체를 추출\n",
    "df_val_trueAB = df_val_notE[df_val_notE['true_seg'].isin(['A','B'])]\n",
    "\n",
    "X_val_trueAB = df_val_trueAB[X.columns]\n",
    "y3_true_all  = df_val_trueAB['true_seg'].apply(lambda s: 1 if s == 'B' else 0)\n",
    "\n",
    "# model3에 전체 A/B 데이터로 평가\n",
    "y3_pred_all = model3.predict(X_val_trueAB)\n",
    "\n",
    "print(confusion_matrix(y3_true_all, y3_pred_all))\n",
    "print(classification_report(y3_true_all, y3_pred_all, labels=[0,1], target_names=['A','B']))"
   ]
  },
  {
   "cell_type": "markdown",
   "id": "36ff8300-1743-4cf1-849f-199f1cdc52dd",
   "metadata": {},
   "source": [
    "#### 모델2가 “C/D”로 예측한 6개 샘플에 대해서만 모델4를 돌려본 것"
   ]
  },
  {
   "cell_type": "code",
   "execution_count": 7,
   "id": "269ff32b-9124-4434-bec5-0fcdc35eef16",
   "metadata": {},
   "outputs": [
    {
     "name": "stdout",
     "output_type": "stream",
     "text": [
      "\n",
      "=== 모델4: C vs D ===\n",
      "[[2840 5091]\n",
      " [ 887 7987]]\n",
      "              precision    recall  f1-score   support\n",
      "\n",
      "           C       0.76      0.36      0.49      7931\n",
      "           D       0.61      0.90      0.73      8874\n",
      "\n",
      "    accuracy                           0.64     16805\n",
      "   macro avg       0.69      0.63      0.61     16805\n",
      "weighted avg       0.68      0.64      0.61     16805\n",
      "\n"
     ]
    }
   ],
   "source": [
    "# 4. 모델4: C vs D 분류\n",
    "# pred2 == 0 (C/D로 예측된) 데이터\n",
    "df_val_CD = df_val_notE[df_val_notE['pred2'] == 0].reset_index(drop=True)\n",
    "X_val_CD  = df_val_CD[X.columns]\n",
    "\n",
    "# C vs D 레이블 (D→1 / C→0)\n",
    "y4_true = df_val_CD['true_seg'].apply(lambda s: 1 if s == 'D' else 0)\n",
    "\n",
    "# 학습셋 C/D 샘플 및 C vs D 타깃\n",
    "mask_train_CD = mask_train_notE & (y_train.isin(['C','D']))\n",
    "X_train_CD    = X_train[mask_train_CD]\n",
    "y_train_CD    = y_train[mask_train_CD].apply(lambda s: 1 if s == 'D' else 0)\n",
    "\n",
    "# XGBoost 분류기 \n",
    "model4 = LGBMClassifier(random_state=42, verbose=-1)\n",
    "\n",
    "# C vs D\n",
    "model4.fit(X_train_CD, y_train_CD)\n",
    "\n",
    "# 검증셋 C vs D\n",
    "y4_pred = model4.predict(X_val_CD)\n",
    "\n",
    "print(\"\\n=== 모델4: C vs D ===\")\n",
    "print(confusion_matrix(y4_true, y4_pred))\n",
    "print(classification_report(y4_true, y4_pred, target_names=['C','D']))"
   ]
  },
  {
   "cell_type": "markdown",
   "id": "d14bf6ec-180a-4a5f-9339-6d461cd9c7ba",
   "metadata": {},
   "source": [
    "#### 진짜 C/D 인 샘플에 대해서만 모델4를 돌려본 것"
   ]
  },
  {
   "cell_type": "code",
   "execution_count": 8,
   "id": "c6e781ec-a6b3-4284-ae52-cd9f190b7e13",
   "metadata": {},
   "outputs": [
    {
     "name": "stdout",
     "output_type": "stream",
     "text": [
      "=== 모델4 standalone: 실제 C/D 전체 평가 ===\n",
      "[[2614 1995]\n",
      " [ 891 7987]]\n",
      "              precision    recall  f1-score   support\n",
      "\n",
      "           C       0.75      0.57      0.64      4609\n",
      "           D       0.80      0.90      0.85      8878\n",
      "\n",
      "    accuracy                           0.79     13487\n",
      "   macro avg       0.77      0.73      0.75     13487\n",
      "weighted avg       0.78      0.79      0.78     13487\n",
      "\n"
     ]
    }
   ],
   "source": [
    "# 실제 C/D 레이블인 모든 검증셋 샘플\n",
    "df_val_trueCD = df_val_notE[df_val_notE['true_seg'].isin(['C','D'])].reset_index(drop=True)\n",
    "X_val_trueCD  = df_val_trueCD[X.columns]\n",
    "\n",
    "# C vs D 레이블 (D→1 / C→0)\n",
    "y4_true_all   = df_val_trueCD['true_seg'].apply(lambda s: 1 if s == 'D' else 0)\n",
    "\n",
    "# model4로 전체 C/D 샘플 예측\n",
    "y4_pred_all   = model4.predict(X_val_trueCD)\n",
    "\n",
    "# 결과 출력\n",
    "print(\"=== 모델4 standalone: 실제 C/D 전체 평가 ===\")\n",
    "print(confusion_matrix(y4_true_all, y4_pred_all))\n",
    "print(classification_report(y4_true_all, y4_pred_all, labels=[0,1], target_names=['C','D']))"
   ]
  },
  {
   "cell_type": "code",
   "execution_count": 12,
   "id": "11c30e25-bf5d-4a60-afdb-0ee78fcfaffb",
   "metadata": {},
   "outputs": [
    {
     "name": "stdout",
     "output_type": "stream",
     "text": [
      "=== ✅ 최종 모델 통합 성능 평가 (A/B/C/D/E) ===\n",
      "              precision    recall  f1-score   support\n",
      "\n",
      "           A       0.17      0.23      0.20        39\n",
      "           B       0.00      0.00      0.00         7\n",
      "           C       0.69      0.48      0.57      5336\n",
      "           D       0.61      0.55      0.58     14533\n",
      "           E       0.92      0.96      0.94     80085\n",
      "\n",
      "    accuracy                           0.87    100000\n",
      "   macro avg       0.48      0.44      0.46    100000\n",
      "weighted avg       0.87      0.87      0.87    100000\n",
      "\n"
     ]
    },
    {
     "data": {
      "image/png": "[encoded data removed]",
      "text/plain": [
       "<Figure size 600x500 with 2 Axes>"
      ]
     },
     "metadata": {},
     "output_type": "display_data"
    }
   ],
   "source": [
    "from sklearn.metrics import classification_report, confusion_matrix, ConfusionMatrixDisplay\n",
    "import matplotlib.pyplot as plt\n",
    "import numpy as np\n",
    "import pandas as pd\n",
    "\n",
    "# 최종 예측된 세그먼트 구성\n",
    "\n",
    "# 1. E로 예측된 고객\n",
    "df_pred_E = df_val[df_val['pred1'] == 1].copy()\n",
    "df_pred_E['final_pred'] = 'E'\n",
    "\n",
    "# 2. A/B로 예측된 고객\n",
    "df_pred_AB = df_val_notE[df_val_notE['pred2'] == 1].copy()\n",
    "df_pred_AB['final_pred'] = np.where(y3_pred == 1, 'B', 'A')\n",
    "\n",
    "# 3. C/D로 예측된 고객\n",
    "df_pred_CD = df_val_notE[df_val_notE['pred2'] == 0].copy()\n",
    "df_pred_CD['final_pred'] = np.where(y4_pred == 1, 'D', 'C')\n",
    "\n",
    "# 4. 통합\n",
    "df_val_all = pd.concat([df_pred_E, df_pred_AB, df_pred_CD], axis=0).reset_index(drop=True)\n",
    "\n",
    "# 평가\n",
    "y_true_final = df_val_all['true_seg']\n",
    "y_pred_final = df_val_all['final_pred']\n",
    "\n",
    "print(\"=== ✅ 최종 모델 통합 성능 평가 (A/B/C/D/E) ===\")\n",
    "print(classification_report(y_true_final, y_pred_final, labels=['A','B','C','D','E']))\n",
    "\n",
    "# 혼돈행렬 출력\n",
    "labels = ['A', 'B', 'C', 'D', 'E']\n",
    "cm = confusion_matrix(y_true_final, y_pred_final, labels=labels)\n",
    "disp = ConfusionMatrixDisplay(confusion_matrix=cm, display_labels=labels)\n",
    "\n",
    "fig, ax = plt.subplots(figsize=(6, 5))\n",
    "disp.plot(ax=ax, cmap='Blues', values_format='d')\n",
    "plt.title(\"최종 모델 혼돈행렬 (A/B/C/D/E)\")\n",
    "plt.tight_layout()\n",
    "plt.show()"
   ]
  },
  {
   "cell_type": "code",
   "execution_count": null,
   "id": "a39a02a5-ee38-4b2f-92ca-72b98290751c",
   "metadata": {},
   "outputs": [],
   "source": []
  },
  {
   "cell_type": "code",
   "execution_count": null,
   "id": "1e6e9bbc-7dcb-43e9-8466-b7cf26933313",
   "metadata": {},
   "outputs": [],
   "source": []
  }
 ],
 "metadata": {
  "kernelspec": {
   "display_name": "Python 3 (ipykernel)",
   "language": "python",
   "name": "python3"
  },
  "language_info": {
   "codemirror_mode": {
    "name": "ipython",
    "version": 3
   },
   "file_extension": ".py",
   "mimetype": "text/x-python",
   "name": "python",
   "nbconvert_exporter": "python",
   "pygments_lexer": "ipython3",
   "version": "3.10.18"
  }
 },
 "nbformat": 4,
 "nbformat_minor": 5
}
