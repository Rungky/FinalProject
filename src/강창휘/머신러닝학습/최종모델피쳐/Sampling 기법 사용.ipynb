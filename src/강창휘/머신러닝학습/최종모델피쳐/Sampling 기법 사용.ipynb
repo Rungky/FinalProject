{
 "cells": [
  {
   "cell_type": "code",
   "execution_count": 12,
   "id": "6f0c413c-9ae2-432b-8ae2-393516a2142e",
   "metadata": {},
   "outputs": [],
   "source": [
    "from sklearn.model_selection import train_test_split\n",
    "from sklearn.preprocessing import LabelEncoder\n",
    "from sklearn.metrics import classification_report, confusion_matrix, ConfusionMatrixDisplay\n",
    "from sklearn.utils.class_weight import compute_class_weight\n",
    "from imblearn.over_sampling import SMOTE\n",
    "from lightgbm import LGBMClassifier\n",
    "import pandas as pd\n",
    "import numpy as np\n",
    "import warnings\n",
    "warnings.filterwarnings('ignore')"
   ]
  },
  {
   "cell_type": "code",
   "execution_count": null,
   "id": "302c8f0c-b097-43a3-a622-10510eba3074",
   "metadata": {},
   "outputs": [],
   "source": [
    "# 데이터 로드 및 ID 제거\n",
    "df_final = pd.read_csv('final_features.csv')\n",
    "df_final.drop('ID', axis = 1, inplace = True)\n",
    "\n",
    "# 0. 데이터 준비\n",
    "X = df_final.drop(columns=['Segment']).copy()\n",
    "y = df_final['Segment'].copy()\n",
    "\n",
    "encoder = LabelEncoder()\n",
    "y_enc = encoder.fit_transform(y)\n",
    "label_map = {cls: idx for idx, cls in enumerate(encoder.classes_)}\n",
    "inv_map = {v: k for k, v in label_map.items()}\n",
    "\n",
    "X_train, X_val, y_train, y_val = train_test_split(\n",
    "    X, y_enc, test_size=0.2, stratify=y_enc, random_state=42\n",
    ")"
   ]
  },
  {
   "cell_type": "code",
   "execution_count": 5,
   "id": "75394be1-b724-41dc-8a87-b62e0f45dbd4",
   "metadata": {},
   "outputs": [],
   "source": [
    "# Model 1: E vs not-E\n",
    "# ----------------------------\n",
    "y_train_e = (y_train == label_map['E']).astype(int)\n",
    "y_val_e   = (y_val == label_map['E']).astype(int)\n",
    "\n",
    "X_train1, y_train1 = SMOTE(random_state=42).fit_resample(X_train, y_train_e)\n",
    "\n",
    "weights1 = compute_class_weight(class_weight='balanced', classes=np.array([0, 1]), y=y_train1)\n",
    "class_weights1 = {0: weights1[0], 1: weights1[1]}\n",
    "\n",
    "model1 = LGBMClassifier(\n",
    "    random_state=42,\n",
    "    verbose=-1,\n",
    "    class_weight=class_weights1\n",
    ")\n",
    "model1.fit(X_train1, y_train1)\n",
    "pred1 = model1.predict(X_val)"
   ]
  },
  {
   "cell_type": "code",
   "execution_count": 6,
   "id": "634a0533-722e-41dd-954c-757e1f1007f2",
   "metadata": {},
   "outputs": [],
   "source": [
    "# Model 2: A/B vs C/D\n",
    "# (이전에 분기된 데이터셋 필요, 여기에선 가정)\n",
    "# X_train2, y_train2_bin, X_val2, y_val2 준비 필요\n",
    "\n",
    "# E가 아닌 데이터만 선택\n",
    "mask_abcd = y_train != label_map['E']\n",
    "\n",
    "# 입력값 (특성)\n",
    "X_train2 = X_train[mask_abcd]\n",
    "\n",
    "# 출력값 (이진 분류: A/B → 1, C/D → 0)\n",
    "y_train2 = y_train[mask_abcd]\n",
    "\n",
    "# A/B vs C/D로 이진 레이블 생성\n",
    "y_train2_bin = np.where(np.isin(y_train2, [label_map['A'], label_map['B']]), 1, 0)\n",
    "\n",
    "# 검증 데이터도 같은 방식으로 나눔\n",
    "mask_abcd_val = y_val != label_map['E']\n",
    "X_val2 = X_val[mask_abcd_val]\n",
    "y_val2 = y_val[mask_abcd_val]\n",
    "\n",
    "\n",
    "X_train2_sm, y_train2_sm = SMOTE(random_state=42).fit_resample(X_train2, y_train2_bin)\n",
    "\n",
    "model2 = LGBMClassifier(\n",
    "    random_state=42,\n",
    "    verbose=-1\n",
    ")\n",
    "model2.fit(X_train2_sm, y_train2_sm)\n",
    "pred2 = model2.predict(X_val2)"
   ]
  },
  {
   "cell_type": "code",
   "execution_count": 8,
   "id": "fd68838b-aea5-45dd-8a58-3c7b30657374",
   "metadata": {},
   "outputs": [],
   "source": [
    "# Model 3: A vs B (Rule-based)\n",
    "\n",
    "# Model 2 예측 결과 중 A/B로 분류된 샘플 (pred2 == 1)\n",
    "mask_ab = pred2 == 1\n",
    "\n",
    "# 해당 인덱스를 X_val2, y_val2에서 추출\n",
    "X_val3 = X_val2[mask_ab]\n",
    "y_val3 = y_val2[mask_ab]\n",
    "\n",
    "\n",
    "feature_name = '포인트_적립포인트_R3M'\n",
    "\n",
    "if feature_name not in X_val3.columns:\n",
    "    raise ValueError(f\"{feature_name} 컬럼이 존재하지 않습니다. Rule을 다른 컬럼으로 바꿔주세요.\")\n",
    "\n",
    "pred3 = (X_val3[feature_name] > 10).astype(int).values"
   ]
  },
  {
   "cell_type": "code",
   "execution_count": 9,
   "id": "20f1f394-d075-420b-8d41-daeb95c77838",
   "metadata": {},
   "outputs": [],
   "source": [
    "# Model 4: C vs D\n",
    "mask_train_cd = np.isin(y_train, [label_map['C'], label_map['D']])\n",
    "X_train4 = X_train[mask_train_cd]\n",
    "y_train4 = (y_train[mask_train_cd] == label_map['D']).astype(int)\n",
    "\n",
    "mask_val_cd = pred2 == 0\n",
    "X_val4 = X_val2[mask_val_cd]\n",
    "y_val4 = y_val2[mask_val_cd]\n",
    "y_val4_bin = (y_val4 == label_map['D']).astype(int)\n",
    "\n",
    "X_train4_sm, y_train4_sm = SMOTE(random_state=42).fit_resample(X_train4, y_train4)\n",
    "\n",
    "weights4 = compute_class_weight(class_weight='balanced', classes=np.array([0, 1]), y=y_train4_sm)\n",
    "class_weights4 = {0: weights4[0], 1: weights4[1]}\n",
    "\n",
    "model4 = LGBMClassifier(\n",
    "    random_state=42,\n",
    "    verbose=-1,\n",
    "    class_weight=class_weights4\n",
    ")\n",
    "model4.fit(X_train4_sm, y_train4_sm)\n",
    "pred4 = model4.predict(X_val4)"
   ]
  },
  {
   "cell_type": "code",
   "execution_count": 10,
   "id": "2f7f11ba-e9ee-47f0-bef1-a312f0034ce7",
   "metadata": {},
   "outputs": [],
   "source": [
    "# 최종 예측 통합\n",
    "\n",
    "final_preds = []\n",
    "true_labels = []\n",
    "ab_idx = 0\n",
    "cd_idx = 0\n",
    "\n",
    "for i in range(len(X_val)):\n",
    "    if pred1[i] == 1:\n",
    "        final_preds.append(label_map['E'])\n",
    "    else:\n",
    "        if pred2[ab_idx + cd_idx] == 1:\n",
    "            final_preds.append(label_map['B'] if pred3[ab_idx] == 1 else label_map['A'])\n",
    "            ab_idx += 1\n",
    "        else:\n",
    "            final_preds.append(label_map['D'] if pred4[cd_idx] == 1 else label_map['C'])\n",
    "            cd_idx += 1\n",
    "    true_labels.append(y_val[i])"
   ]
  },
  {
   "cell_type": "code",
   "execution_count": 13,
   "id": "c7336173-29e6-4cf1-aff2-134b60efb22a",
   "metadata": {},
   "outputs": [
    {
     "name": "stdout",
     "output_type": "stream",
     "text": [
      "=== 최종 다단계 모델 성능 ===\n",
      "              precision    recall  f1-score   support\n",
      "\n",
      "           A       0.00      0.00      0.00        32\n",
      "           B       0.00      0.00      0.00         5\n",
      "           C       0.27      0.17      0.21      4253\n",
      "           D       0.51      0.52      0.52     11642\n",
      "           E       0.93      0.95      0.94     64068\n",
      "\n",
      "    accuracy                           0.84     80000\n",
      "   macro avg       0.34      0.33      0.33     80000\n",
      "weighted avg       0.83      0.84      0.84     80000\n",
      "\n"
     ]
    },
    {
     "data": {
      "text/plain": [
       "<sklearn.metrics._plot.confusion_matrix.ConfusionMatrixDisplay at 0x16e6209ae60>"
      ]
     },
     "execution_count": 13,
     "metadata": {},
     "output_type": "execute_result"
    },
    {
     "data": {
      "image/png": "[encoded data removed]",
      "text/plain": [
       "<Figure size 640x480 with 2 Axes>"
      ]
     },
     "metadata": {},
     "output_type": "display_data"
    }
   ],
   "source": [
    "# 성능 평가\n",
    "\n",
    "print(\"=== 최종 다단계 모델 성능 ===\")\n",
    "print(classification_report(true_labels, final_preds, target_names=encoder.classes_))\n",
    "\n",
    "cm = confusion_matrix(true_labels, final_preds, labels=range(len(encoder.classes_)))\n",
    "ConfusionMatrixDisplay(cm, display_labels=encoder.classes_).plot(cmap='Blues')"
   ]
  },
  {
   "cell_type": "code",
   "execution_count": null,
   "id": "77d12a48-8a9d-4b71-954e-0e13f65e4841",
   "metadata": {},
   "outputs": [],
   "source": []
  }
 ],
 "metadata": {
  "kernelspec": {
   "display_name": "Python (gpu_env)",
   "language": "python",
   "name": "gpu_env"
  },
  "language_info": {
   "codemirror_mode": {
    "name": "ipython",
    "version": 3
   },
   "file_extension": ".py",
   "mimetype": "text/x-python",
   "name": "python",
   "nbconvert_exporter": "python",
   "pygments_lexer": "ipython3",
   "version": "3.10.18"
  }
 },
 "nbformat": 4,
 "nbformat_minor": 5
}
