{
 "cells": [
  {
   "cell_type": "code",
   "execution_count": 62,
   "id": "e31f5d46-270c-4cc0-bcd0-6d7f2e3663cc",
   "metadata": {},
   "outputs": [],
   "source": [
    "import pandas as pd\n",
    "import numpy as np\n",
    "import matplotlib.pyplot as plt\n",
    "import seaborn as sns\n",
    "import gc\n",
    "\n",
    "# 경고 메시지가 뜨지 않게 설정\n",
    "import warnings \n",
    "warnings.filterwarnings('ignore')\n",
    "\n",
    "# 그래프 설정\n",
    "sns.set()\n",
    "\n",
    "# 그래프 기본 설정\n",
    "plt.rcParams['font.family'] = 'Malgun Gothic'\n",
    "# plt.rcParams['font.family'] = 'AppleGothic'\n",
    "plt.rcParams['figure.figsize'] = 12, 6\n",
    "plt.rcParams['font.size'] = 14\n",
    "plt.rcParams['axes.unicode_minus'] = False\n",
    "\n",
    "# 인코딩\n",
    "from sklearn.preprocessing import OneHotEncoder, LabelEncoder\n",
    "\n",
    "# 검정\n",
    "from scipy import stats\n",
    "# 로지스틱 모델 만들기\n",
    "from statsmodels.formula.api import logit\n",
    "\n",
    "# 다중공선성 확인\n",
    "from statsmodels.stats.outliers_influence import variance_inflation_factor\n",
    "import statsmodels.api as sm"
   ]
  },
  {
   "cell_type": "code",
   "execution_count": 2,
   "id": "a8bc12e2-f403-48dd-983a-c73459790033",
   "metadata": {
    "scrolled": true
   },
   "outputs": [],
   "source": [
    "df = pd.read_parquet('open/concat/2018_회원정보.parquet')"
   ]
  },
  {
   "cell_type": "code",
   "execution_count": 3,
   "id": "6ceba920-4a7c-4fef-9897-29ea9a4fd2e2",
   "metadata": {
    "scrolled": true
   },
   "outputs": [
    {
     "data": {
      "text/html": [
       "<div>\n",
       "<style scoped>\n",
       "    .dataframe tbody tr th:only-of-type {\n",
       "        vertical-align: middle;\n",
       "    }\n",
       "\n",
       "    .dataframe tbody tr th {\n",
       "        vertical-align: top;\n",
       "    }\n",
       "\n",
       "    .dataframe thead th {\n",
       "        text-align: right;\n",
       "    }\n",
       "</style>\n",
       "<table border=\"1\" class=\"dataframe\">\n",
       "  <thead>\n",
       "    <tr style=\"text-align: right;\">\n",
       "      <th></th>\n",
       "      <th>기준년월</th>\n",
       "      <th>ID</th>\n",
       "      <th>남녀구분코드</th>\n",
       "      <th>연령</th>\n",
       "      <th>Segment</th>\n",
       "      <th>회원여부_이용가능</th>\n",
       "      <th>회원여부_이용가능_CA</th>\n",
       "      <th>회원여부_이용가능_카드론</th>\n",
       "      <th>소지여부_신용</th>\n",
       "      <th>소지카드수_유효_신용</th>\n",
       "      <th>...</th>\n",
       "      <th>할인금액_제휴연회비_B0M</th>\n",
       "      <th>청구금액_기본연회비_B0M</th>\n",
       "      <th>청구금액_제휴연회비_B0M</th>\n",
       "      <th>상품관련면제카드수_B0M</th>\n",
       "      <th>임직원면제카드수_B0M</th>\n",
       "      <th>우수회원면제카드수_B0M</th>\n",
       "      <th>기타면제카드수_B0M</th>\n",
       "      <th>카드신청건수</th>\n",
       "      <th>Life_Stage</th>\n",
       "      <th>최종카드발급경과월</th>\n",
       "    </tr>\n",
       "  </thead>\n",
       "  <tbody>\n",
       "    <tr>\n",
       "      <th>0</th>\n",
       "      <td>201807</td>\n",
       "      <td>TRAIN_000000</td>\n",
       "      <td>2</td>\n",
       "      <td>40대</td>\n",
       "      <td>D</td>\n",
       "      <td>1</td>\n",
       "      <td>1</td>\n",
       "      <td>0</td>\n",
       "      <td>1</td>\n",
       "      <td>1</td>\n",
       "      <td>...</td>\n",
       "      <td>0</td>\n",
       "      <td>0</td>\n",
       "      <td>0</td>\n",
       "      <td>0개</td>\n",
       "      <td>0개</td>\n",
       "      <td>0개</td>\n",
       "      <td>0개</td>\n",
       "      <td>0</td>\n",
       "      <td>자녀성장(2)</td>\n",
       "      <td>22</td>\n",
       "    </tr>\n",
       "    <tr>\n",
       "      <th>1</th>\n",
       "      <td>201807</td>\n",
       "      <td>TRAIN_000001</td>\n",
       "      <td>1</td>\n",
       "      <td>30대</td>\n",
       "      <td>E</td>\n",
       "      <td>1</td>\n",
       "      <td>1</td>\n",
       "      <td>1</td>\n",
       "      <td>1</td>\n",
       "      <td>1</td>\n",
       "      <td>...</td>\n",
       "      <td>0</td>\n",
       "      <td>0</td>\n",
       "      <td>0</td>\n",
       "      <td>0개</td>\n",
       "      <td>0개</td>\n",
       "      <td>0개</td>\n",
       "      <td>0개</td>\n",
       "      <td>0</td>\n",
       "      <td>자녀성장(1)</td>\n",
       "      <td>18</td>\n",
       "    </tr>\n",
       "    <tr>\n",
       "      <th>2</th>\n",
       "      <td>201807</td>\n",
       "      <td>TRAIN_000002</td>\n",
       "      <td>1</td>\n",
       "      <td>30대</td>\n",
       "      <td>C</td>\n",
       "      <td>1</td>\n",
       "      <td>1</td>\n",
       "      <td>0</td>\n",
       "      <td>1</td>\n",
       "      <td>1</td>\n",
       "      <td>...</td>\n",
       "      <td>0</td>\n",
       "      <td>0</td>\n",
       "      <td>0</td>\n",
       "      <td>0개</td>\n",
       "      <td>0개</td>\n",
       "      <td>0개</td>\n",
       "      <td>0개</td>\n",
       "      <td>0</td>\n",
       "      <td>자녀출산기</td>\n",
       "      <td>20</td>\n",
       "    </tr>\n",
       "    <tr>\n",
       "      <th>3</th>\n",
       "      <td>201807</td>\n",
       "      <td>TRAIN_000003</td>\n",
       "      <td>2</td>\n",
       "      <td>40대</td>\n",
       "      <td>D</td>\n",
       "      <td>1</td>\n",
       "      <td>1</td>\n",
       "      <td>0</td>\n",
       "      <td>1</td>\n",
       "      <td>2</td>\n",
       "      <td>...</td>\n",
       "      <td>0</td>\n",
       "      <td>0</td>\n",
       "      <td>0</td>\n",
       "      <td>0개</td>\n",
       "      <td>0개</td>\n",
       "      <td>0개</td>\n",
       "      <td>0개</td>\n",
       "      <td>1</td>\n",
       "      <td>자녀성장(2)</td>\n",
       "      <td>17</td>\n",
       "    </tr>\n",
       "    <tr>\n",
       "      <th>4</th>\n",
       "      <td>201807</td>\n",
       "      <td>TRAIN_000004</td>\n",
       "      <td>2</td>\n",
       "      <td>40대</td>\n",
       "      <td>E</td>\n",
       "      <td>1</td>\n",
       "      <td>1</td>\n",
       "      <td>1</td>\n",
       "      <td>1</td>\n",
       "      <td>1</td>\n",
       "      <td>...</td>\n",
       "      <td>0</td>\n",
       "      <td>0</td>\n",
       "      <td>0</td>\n",
       "      <td>0개</td>\n",
       "      <td>0개</td>\n",
       "      <td>0개</td>\n",
       "      <td>0개</td>\n",
       "      <td>1</td>\n",
       "      <td>자녀성장(1)</td>\n",
       "      <td>15</td>\n",
       "    </tr>\n",
       "    <tr>\n",
       "      <th>...</th>\n",
       "      <td>...</td>\n",
       "      <td>...</td>\n",
       "      <td>...</td>\n",
       "      <td>...</td>\n",
       "      <td>...</td>\n",
       "      <td>...</td>\n",
       "      <td>...</td>\n",
       "      <td>...</td>\n",
       "      <td>...</td>\n",
       "      <td>...</td>\n",
       "      <td>...</td>\n",
       "      <td>...</td>\n",
       "      <td>...</td>\n",
       "      <td>...</td>\n",
       "      <td>...</td>\n",
       "      <td>...</td>\n",
       "      <td>...</td>\n",
       "      <td>...</td>\n",
       "      <td>...</td>\n",
       "      <td>...</td>\n",
       "      <td>...</td>\n",
       "    </tr>\n",
       "    <tr>\n",
       "      <th>2999995</th>\n",
       "      <td>201812</td>\n",
       "      <td>TEST_99995</td>\n",
       "      <td>2</td>\n",
       "      <td>60대</td>\n",
       "      <td>None</td>\n",
       "      <td>0</td>\n",
       "      <td>0</td>\n",
       "      <td>0</td>\n",
       "      <td>0</td>\n",
       "      <td>0</td>\n",
       "      <td>...</td>\n",
       "      <td>0</td>\n",
       "      <td>0</td>\n",
       "      <td>0</td>\n",
       "      <td>0개</td>\n",
       "      <td>0개</td>\n",
       "      <td>0개</td>\n",
       "      <td>0개</td>\n",
       "      <td>0</td>\n",
       "      <td>노년생활</td>\n",
       "      <td>0</td>\n",
       "    </tr>\n",
       "    <tr>\n",
       "      <th>2999996</th>\n",
       "      <td>201812</td>\n",
       "      <td>TEST_99996</td>\n",
       "      <td>1</td>\n",
       "      <td>30대</td>\n",
       "      <td>None</td>\n",
       "      <td>1</td>\n",
       "      <td>1</td>\n",
       "      <td>1</td>\n",
       "      <td>1</td>\n",
       "      <td>1</td>\n",
       "      <td>...</td>\n",
       "      <td>0</td>\n",
       "      <td>0</td>\n",
       "      <td>0</td>\n",
       "      <td>0개</td>\n",
       "      <td>0개</td>\n",
       "      <td>0개</td>\n",
       "      <td>0개</td>\n",
       "      <td>0</td>\n",
       "      <td>자녀출산기</td>\n",
       "      <td>12</td>\n",
       "    </tr>\n",
       "    <tr>\n",
       "      <th>2999997</th>\n",
       "      <td>201812</td>\n",
       "      <td>TEST_99997</td>\n",
       "      <td>2</td>\n",
       "      <td>30대</td>\n",
       "      <td>None</td>\n",
       "      <td>1</td>\n",
       "      <td>1</td>\n",
       "      <td>1</td>\n",
       "      <td>1</td>\n",
       "      <td>1</td>\n",
       "      <td>...</td>\n",
       "      <td>0</td>\n",
       "      <td>0</td>\n",
       "      <td>0</td>\n",
       "      <td>0개</td>\n",
       "      <td>0개</td>\n",
       "      <td>0개</td>\n",
       "      <td>0개</td>\n",
       "      <td>0</td>\n",
       "      <td>자녀성장(1)</td>\n",
       "      <td>11</td>\n",
       "    </tr>\n",
       "    <tr>\n",
       "      <th>2999998</th>\n",
       "      <td>201812</td>\n",
       "      <td>TEST_99998</td>\n",
       "      <td>1</td>\n",
       "      <td>30대</td>\n",
       "      <td>None</td>\n",
       "      <td>1</td>\n",
       "      <td>1</td>\n",
       "      <td>1</td>\n",
       "      <td>1</td>\n",
       "      <td>3</td>\n",
       "      <td>...</td>\n",
       "      <td>0</td>\n",
       "      <td>0</td>\n",
       "      <td>0</td>\n",
       "      <td>0개</td>\n",
       "      <td>0개</td>\n",
       "      <td>0개</td>\n",
       "      <td>0개</td>\n",
       "      <td>0</td>\n",
       "      <td>가족구축기</td>\n",
       "      <td>1</td>\n",
       "    </tr>\n",
       "    <tr>\n",
       "      <th>2999999</th>\n",
       "      <td>201812</td>\n",
       "      <td>TEST_99999</td>\n",
       "      <td>1</td>\n",
       "      <td>30대</td>\n",
       "      <td>None</td>\n",
       "      <td>1</td>\n",
       "      <td>1</td>\n",
       "      <td>1</td>\n",
       "      <td>1</td>\n",
       "      <td>1</td>\n",
       "      <td>...</td>\n",
       "      <td>0</td>\n",
       "      <td>0</td>\n",
       "      <td>0</td>\n",
       "      <td>0개</td>\n",
       "      <td>0개</td>\n",
       "      <td>0개</td>\n",
       "      <td>0개</td>\n",
       "      <td>0</td>\n",
       "      <td>자녀출산기</td>\n",
       "      <td>20</td>\n",
       "    </tr>\n",
       "  </tbody>\n",
       "</table>\n",
       "<p>3000000 rows × 78 columns</p>\n",
       "</div>"
      ],
      "text/plain": [
       "           기준년월            ID  남녀구분코드   연령 Segment  회원여부_이용가능  회원여부_이용가능_CA  \\\n",
       "0        201807  TRAIN_000000       2  40대       D          1             1   \n",
       "1        201807  TRAIN_000001       1  30대       E          1             1   \n",
       "2        201807  TRAIN_000002       1  30대       C          1             1   \n",
       "3        201807  TRAIN_000003       2  40대       D          1             1   \n",
       "4        201807  TRAIN_000004       2  40대       E          1             1   \n",
       "...         ...           ...     ...  ...     ...        ...           ...   \n",
       "2999995  201812    TEST_99995       2  60대    None          0             0   \n",
       "2999996  201812    TEST_99996       1  30대    None          1             1   \n",
       "2999997  201812    TEST_99997       2  30대    None          1             1   \n",
       "2999998  201812    TEST_99998       1  30대    None          1             1   \n",
       "2999999  201812    TEST_99999       1  30대    None          1             1   \n",
       "\n",
       "         회원여부_이용가능_카드론  소지여부_신용  소지카드수_유효_신용  ...  할인금액_제휴연회비_B0M  \\\n",
       "0                    0        1            1  ...               0   \n",
       "1                    1        1            1  ...               0   \n",
       "2                    0        1            1  ...               0   \n",
       "3                    0        1            2  ...               0   \n",
       "4                    1        1            1  ...               0   \n",
       "...                ...      ...          ...  ...             ...   \n",
       "2999995              0        0            0  ...               0   \n",
       "2999996              1        1            1  ...               0   \n",
       "2999997              1        1            1  ...               0   \n",
       "2999998              1        1            3  ...               0   \n",
       "2999999              1        1            1  ...               0   \n",
       "\n",
       "         청구금액_기본연회비_B0M  청구금액_제휴연회비_B0M  상품관련면제카드수_B0M  임직원면제카드수_B0M  \\\n",
       "0                     0               0             0개            0개   \n",
       "1                     0               0             0개            0개   \n",
       "2                     0               0             0개            0개   \n",
       "3                     0               0             0개            0개   \n",
       "4                     0               0             0개            0개   \n",
       "...                 ...             ...            ...           ...   \n",
       "2999995               0               0             0개            0개   \n",
       "2999996               0               0             0개            0개   \n",
       "2999997               0               0             0개            0개   \n",
       "2999998               0               0             0개            0개   \n",
       "2999999               0               0             0개            0개   \n",
       "\n",
       "         우수회원면제카드수_B0M  기타면제카드수_B0M  카드신청건수  Life_Stage  최종카드발급경과월  \n",
       "0                   0개           0개       0     자녀성장(2)         22  \n",
       "1                   0개           0개       0     자녀성장(1)         18  \n",
       "2                   0개           0개       0       자녀출산기         20  \n",
       "3                   0개           0개       1     자녀성장(2)         17  \n",
       "4                   0개           0개       1     자녀성장(1)         15  \n",
       "...                ...          ...     ...         ...        ...  \n",
       "2999995             0개           0개       0        노년생활          0  \n",
       "2999996             0개           0개       0       자녀출산기         12  \n",
       "2999997             0개           0개       0     자녀성장(1)         11  \n",
       "2999998             0개           0개       0       가족구축기          1  \n",
       "2999999             0개           0개       0       자녀출산기         20  \n",
       "\n",
       "[3000000 rows x 78 columns]"
      ]
     },
     "execution_count": 3,
     "metadata": {},
     "output_type": "execute_result"
    }
   ],
   "source": [
    "df"
   ]
  },
  {
   "cell_type": "markdown",
   "id": "68df34bf-cc61-4320-9d25-00f303d72b2a",
   "metadata": {},
   "source": [
    "### 의미없는 컬럼 제거"
   ]
  },
  {
   "cell_type": "code",
   "execution_count": 61,
   "id": "81ae86d0-4aac-4f8f-a6a3-1b78c2d778e7",
   "metadata": {},
   "outputs": [
    {
     "name": "stdout",
     "output_type": "stream",
     "text": [
      "0.14.4\n"
     ]
    }
   ],
   "source": [
    "import statsmodels\n",
    "print(statsmodels.__version__)"
   ]
  },
  {
   "cell_type": "code",
   "execution_count": null,
   "id": "6175ba7c-6499-4ade-bbe9-e623fb4c6a30",
   "metadata": {},
   "outputs": [],
   "source": []
  },
  {
   "cell_type": "code",
   "execution_count": null,
   "id": "a8516ee0-c2d6-482e-bd5b-3439bc879029",
   "metadata": {},
   "outputs": [],
   "source": []
  },
  {
   "cell_type": "code",
   "execution_count": 4,
   "id": "fbb51dad-90fa-4e4a-8b98-cb954afc0b93",
   "metadata": {},
   "outputs": [],
   "source": [
    "# 데이터의 도수의 종류가 1개인 데이터를 변수에 담는다.\n",
    "cols_same_value = df.columns[df.nunique() == 1]"
   ]
  },
  {
   "cell_type": "code",
   "execution_count": 5,
   "id": "e9124ee9-b5b0-4449-afcf-c92b5f5970e8",
   "metadata": {},
   "outputs": [],
   "source": [
    "df.drop(list(cols_same_value), axis = 1, inplace = True)"
   ]
  },
  {
   "cell_type": "markdown",
   "id": "d8aa04c7-96a3-417e-baaf-90c62b74f4d6",
   "metadata": {},
   "source": [
    "### 결측치를 가진 컬럼 리스트에 담기"
   ]
  },
  {
   "cell_type": "code",
   "execution_count": 6,
   "id": "8cf1b03b-1b7e-4464-aa84-3af4e63faf5e",
   "metadata": {
    "scrolled": true
   },
   "outputs": [],
   "source": [
    "na_box = []\n",
    "\n",
    "for idx, val in df.isna().sum().items() :\n",
    "    # print(f'{idx}의 결측치 : {val}')\n",
    "    if val > 0 :\n",
    "        na_box.append(idx)"
   ]
  },
  {
   "cell_type": "code",
   "execution_count": 7,
   "id": "b82988fa-5d07-45e1-9305-4b0759fa04d6",
   "metadata": {
    "scrolled": true
   },
   "outputs": [
    {
     "data": {
      "text/plain": [
       "['Segment',\n",
       " '가입통신회사코드',\n",
       " '직장시도명',\n",
       " '_1순위신용체크구분',\n",
       " '_2순위신용체크구분',\n",
       " '최종유효년월_신용_이용가능',\n",
       " '최종유효년월_신용_이용',\n",
       " '최종카드발급일자']"
      ]
     },
     "execution_count": 7,
     "metadata": {},
     "output_type": "execute_result"
    }
   ],
   "source": [
    "na_box"
   ]
  },
  {
   "cell_type": "markdown",
   "id": "a90f7d87-646c-4f29-92de-2678ca365414",
   "metadata": {},
   "source": [
    "- test 데이터의 Segment는 모두 결측치로 되어있다.\n",
    "- 다른 칼럼의 경우 결측치 비율에 따라 처리한다."
   ]
  },
  {
   "cell_type": "code",
   "execution_count": 8,
   "id": "636dafab-d5b1-44cc-a7d1-682fcabb9b11",
   "metadata": {},
   "outputs": [
    {
     "data": {
      "text/plain": [
       "Segment           0.200000\n",
       "가입통신회사코드          0.161551\n",
       "직장시도명             0.102401\n",
       "_1순위신용체크구분        0.011727\n",
       "_2순위신용체크구분        0.399334\n",
       "최종유효년월_신용_이용가능    0.087865\n",
       "최종유효년월_신용_이용      0.223016\n",
       "최종카드발급일자          0.017606\n",
       "dtype: float64"
      ]
     },
     "execution_count": 8,
     "metadata": {},
     "output_type": "execute_result"
    }
   ],
   "source": [
    "df[na_box].isna().sum() / df.shape[0]"
   ]
  },
  {
   "cell_type": "markdown",
   "id": "7a7dc18b-11af-4c7a-86a3-d9e223a40a96",
   "metadata": {},
   "source": [
    "### 결측 데이터 처리"
   ]
  },
  {
   "cell_type": "markdown",
   "id": "c32d1426-f136-4ac3-9799-e19b334b3f20",
   "metadata": {},
   "source": [
    "1. 가입통신회사코드"
   ]
  },
  {
   "cell_type": "code",
   "execution_count": 9,
   "id": "d297fd1f-5a4c-4f28-8365-a2bbfa9c950e",
   "metadata": {},
   "outputs": [
    {
     "data": {
      "text/plain": [
       "가입통신회사코드\n",
       "S사      0.414263\n",
       "K사      0.236048\n",
       "L사      0.188138\n",
       "None    0.161551\n",
       "Name: proportion, dtype: float64"
      ]
     },
     "execution_count": 9,
     "metadata": {},
     "output_type": "execute_result"
    }
   ],
   "source": [
    "df['가입통신회사코드'].value_counts(normalize = True, dropna = False)"
   ]
  },
  {
   "cell_type": "code",
   "execution_count": 12,
   "id": "2a7f83cd-7f9f-415c-a65e-e4b21874f15a",
   "metadata": {},
   "outputs": [],
   "source": [
    "# 최빈값 대체\n",
    "df.fillna({'가입통신회사코드' : df['가입통신회사코드'].mode()[0]}, inplace = True)"
   ]
  },
  {
   "cell_type": "code",
   "execution_count": 13,
   "id": "e4e19139-644c-4cab-a0c2-4cb0f5ad365a",
   "metadata": {},
   "outputs": [
    {
     "data": {
      "text/plain": [
       "0"
      ]
     },
     "execution_count": 13,
     "metadata": {},
     "output_type": "execute_result"
    }
   ],
   "source": [
    "df['가입통신회사코드'].isna().sum()"
   ]
  },
  {
   "cell_type": "markdown",
   "id": "527a6235-fb4b-420a-aa37-018ee3462d37",
   "metadata": {},
   "source": [
    "2. 직장시도명"
   ]
  },
  {
   "cell_type": "code",
   "execution_count": 16,
   "id": "16cc9760-f039-49ba-a003-64d5e9b884d8",
   "metadata": {},
   "outputs": [
    {
     "data": {
      "text/plain": [
       "직장시도명\n",
       "경기      0.249122\n",
       "서울      0.240303\n",
       "None    0.102401\n",
       "인천      0.061039\n",
       "부산      0.054921\n",
       "대전      0.050299\n",
       "충북      0.043271\n",
       "경남      0.039189\n",
       "경북      0.034727\n",
       "대구      0.031864\n",
       "울산      0.027486\n",
       "전남      0.022010\n",
       "광주      0.014270\n",
       "충남      0.011776\n",
       "전북      0.008534\n",
       "강원      0.006419\n",
       "세종      0.001298\n",
       "제주      0.001072\n",
       "Name: proportion, dtype: float64"
      ]
     },
     "execution_count": 16,
     "metadata": {},
     "output_type": "execute_result"
    }
   ],
   "source": [
    "df['직장시도명'].value_counts(normalize = True, dropna = False)"
   ]
  },
  {
   "cell_type": "code",
   "execution_count": 33,
   "id": "02d01a61-a9b8-4e27-a875-68f807f01aa7",
   "metadata": {},
   "outputs": [
    {
     "name": "stdout",
     "output_type": "stream",
     "text": [
      "0.964\n"
     ]
    }
   ],
   "source": [
    "# 직장시도명과 거주시도명을 비교해 본다.\n",
    "a1 = df.loc[(df['직장시도명'].notna()) & (df['직장시도명'] == df['거주시도명'])].shape[0]\n",
    "print(round(a1 / sum(df['직장시도명'].notna()), 3))"
   ]
  },
  {
   "cell_type": "markdown",
   "id": "302c02c5-9ac8-422a-8923-2c28b91e2aa1",
   "metadata": {},
   "source": [
    "- 직장시도명 컬럼이 결측치가 아닌 데이터 중 96.4% 정도가 일치한다.\n",
    "- 직장시도명 컬럼은 삭제한다."
   ]
  },
  {
   "cell_type": "code",
   "execution_count": 34,
   "id": "c66de0a0-a4bb-495a-92fb-17202c4298d5",
   "metadata": {},
   "outputs": [],
   "source": [
    "df.drop('직장시도명', axis = 1, inplace = True)"
   ]
  },
  {
   "cell_type": "markdown",
   "id": "8dc29f47-e92a-437c-bf98-3ad178af14a9",
   "metadata": {},
   "source": [
    "3. _1순위신용체크구분\n",
    "- 해당 컬럼의 결측치는 미비한 수준이니 대표값으로 단순대체한다."
   ]
  },
  {
   "cell_type": "code",
   "execution_count": 40,
   "id": "e1f782db-f47d-4209-b28d-7d743f91ae1a",
   "metadata": {},
   "outputs": [
    {
     "data": {
      "text/plain": [
       "_1순위신용체크구분\n",
       "신용    2868437\n",
       "체크      96382\n",
       "Name: count, dtype: int64"
      ]
     },
     "execution_count": 40,
     "metadata": {},
     "output_type": "execute_result"
    }
   ],
   "source": [
    "df['_1순위신용체크구분'].value_counts()"
   ]
  },
  {
   "cell_type": "code",
   "execution_count": 41,
   "id": "162a8b02-077e-4d7b-a537-0f138d9e1b96",
   "metadata": {},
   "outputs": [],
   "source": [
    "df.fillna({'_1순위신용체크구분' : df['_1순위신용체크구분'].mode()[0]}, inplace = True)"
   ]
  },
  {
   "cell_type": "code",
   "execution_count": 42,
   "id": "25f5f4ef-17bb-4812-bfef-2b79a2a2e216",
   "metadata": {},
   "outputs": [
    {
     "data": {
      "text/plain": [
       "0"
      ]
     },
     "execution_count": 42,
     "metadata": {},
     "output_type": "execute_result"
    }
   ],
   "source": [
    "df['_1순위신용체크구분'].isna().sum()"
   ]
  },
  {
   "cell_type": "markdown",
   "id": "988fa807-d61a-4182-9ea5-a64e7f375ebf",
   "metadata": {},
   "source": [
    "4. _2순위신용체크구분"
   ]
  },
  {
   "cell_type": "code",
   "execution_count": 44,
   "id": "c88b8ac4-6606-4d66-99e0-12f39f8c4a91",
   "metadata": {},
   "outputs": [
    {
     "data": {
      "text/plain": [
       "_2순위신용체크구분\n",
       "None    0.399334\n",
       "신용      0.363516\n",
       "체크      0.237150\n",
       "Name: proportion, dtype: float64"
      ]
     },
     "execution_count": 44,
     "metadata": {},
     "output_type": "execute_result"
    }
   ],
   "source": [
    "df['_2순위신용체크구분'].value_counts(normalize = True, dropna = False)"
   ]
  },
  {
   "cell_type": "code",
   "execution_count": 48,
   "id": "beaec66b-7dd9-4fea-b56b-9e2bca298157",
   "metadata": {},
   "outputs": [
    {
     "name": "stdout",
     "output_type": "stream",
     "text": [
      "0.5832162872635193\n"
     ]
    }
   ],
   "source": [
    "a1 = sum((df['_2순위신용체크구분'].notna()) & (df['_2순위신용체크구분'] == df['_1순위신용체크구분']))\n",
    "print(a1 / sum(df['_2순위신용체크구분'].notna()))"
   ]
  },
  {
   "cell_type": "code",
   "execution_count": 58,
   "id": "4e88de2a-e007-401a-bc03-5f7dd588973f",
   "metadata": {},
   "outputs": [
    {
     "data": {
      "image/png": "[encoded data removed]",
      "text/plain": [
       "<Figure size 1200x600 with 2 Axes>"
      ]
     },
     "metadata": {},
     "output_type": "display_data"
    }
   ],
   "source": [
    "ct1 = pd.crosstab(df.loc[df['_2순위신용체크구분'].notna(), '_2순위신용체크구분'],\n",
    "                 df.loc[df['_2순위신용체크구분'].notna(), '_1순위신용체크구분'],\n",
    "                 normalize = 'index',\n",
    "                 margins = True)\n",
    "\n",
    "sns.heatmap(ct1, annot = True, fmt = '.2%', cmap = 'Blues')\n",
    "plt.show()"
   ]
  },
  {
   "cell_type": "markdown",
   "id": "f4b4dd7d-253c-4aec-846a-151966393ab6",
   "metadata": {},
   "source": [
    "- 데이터의 분포에서 결측치의 비율이 가장 크다.\n",
    "- 두 분포의 비율이 비슷하다.\n",
    "- _2순위신용체크구분은 삭제한다."
   ]
  },
  {
   "cell_type": "code",
   "execution_count": 64,
   "id": "e3ae659d-f68d-454e-8c58-94caaa626ead",
   "metadata": {},
   "outputs": [],
   "source": [
    "df.drop('_2순위신용체크구분', axis = 1, inplace = True)"
   ]
  },
  {
   "cell_type": "code",
   "execution_count": 65,
   "id": "906bf408-be7e-4234-9607-64022463983c",
   "metadata": {},
   "outputs": [],
   "source": [
    "na_box = []\n",
    "\n",
    "for idx, val in df.isna().sum().items() :\n",
    "    # print(f'{idx}의 결측치 : {val}')\n",
    "    if val > 0 :\n",
    "        na_box.append(idx)"
   ]
  },
  {
   "cell_type": "code",
   "execution_count": 66,
   "id": "0d0782af-2c5f-47d9-ab46-e0fc78c458fe",
   "metadata": {},
   "outputs": [
    {
     "data": {
      "text/plain": [
       "['Segment', '최종유효년월_신용_이용가능', '최종유효년월_신용_이용', '최종카드발급일자']"
      ]
     },
     "execution_count": 66,
     "metadata": {},
     "output_type": "execute_result"
    }
   ],
   "source": [
    "na_box"
   ]
  },
  {
   "cell_type": "code",
   "execution_count": 67,
   "id": "7b2db839-8697-43c4-89bb-aa95cf270b22",
   "metadata": {},
   "outputs": [
    {
     "data": {
      "text/html": [
       "<div>\n",
       "<style scoped>\n",
       "    .dataframe tbody tr th:only-of-type {\n",
       "        vertical-align: middle;\n",
       "    }\n",
       "\n",
       "    .dataframe tbody tr th {\n",
       "        vertical-align: top;\n",
       "    }\n",
       "\n",
       "    .dataframe thead th {\n",
       "        text-align: right;\n",
       "    }\n",
       "</style>\n",
       "<table border=\"1\" class=\"dataframe\">\n",
       "  <thead>\n",
       "    <tr style=\"text-align: right;\">\n",
       "      <th></th>\n",
       "      <th>Segment</th>\n",
       "      <th>최종유효년월_신용_이용가능</th>\n",
       "      <th>최종유효년월_신용_이용</th>\n",
       "      <th>최종카드발급일자</th>\n",
       "    </tr>\n",
       "  </thead>\n",
       "  <tbody>\n",
       "    <tr>\n",
       "      <th>0</th>\n",
       "      <td>D</td>\n",
       "      <td>202110.0</td>\n",
       "      <td>202112.0</td>\n",
       "      <td>20160912.0</td>\n",
       "    </tr>\n",
       "    <tr>\n",
       "      <th>1</th>\n",
       "      <td>E</td>\n",
       "      <td>202112.0</td>\n",
       "      <td>202204.0</td>\n",
       "      <td>20170122.0</td>\n",
       "    </tr>\n",
       "    <tr>\n",
       "      <th>2</th>\n",
       "      <td>C</td>\n",
       "      <td>202111.0</td>\n",
       "      <td>202201.0</td>\n",
       "      <td>20161113.0</td>\n",
       "    </tr>\n",
       "    <tr>\n",
       "      <th>3</th>\n",
       "      <td>D</td>\n",
       "      <td>202201.0</td>\n",
       "      <td>202111.0</td>\n",
       "      <td>20170205.0</td>\n",
       "    </tr>\n",
       "    <tr>\n",
       "      <th>4</th>\n",
       "      <td>E</td>\n",
       "      <td>202201.0</td>\n",
       "      <td>NaN</td>\n",
       "      <td>20170409.0</td>\n",
       "    </tr>\n",
       "    <tr>\n",
       "      <th>...</th>\n",
       "      <td>...</td>\n",
       "      <td>...</td>\n",
       "      <td>...</td>\n",
       "      <td>...</td>\n",
       "    </tr>\n",
       "    <tr>\n",
       "      <th>2999995</th>\n",
       "      <td>None</td>\n",
       "      <td>NaN</td>\n",
       "      <td>NaN</td>\n",
       "      <td>NaN</td>\n",
       "    </tr>\n",
       "    <tr>\n",
       "      <th>2999996</th>\n",
       "      <td>None</td>\n",
       "      <td>202306.0</td>\n",
       "      <td>202304.0</td>\n",
       "      <td>20171203.0</td>\n",
       "    </tr>\n",
       "    <tr>\n",
       "      <th>2999997</th>\n",
       "      <td>None</td>\n",
       "      <td>202206.0</td>\n",
       "      <td>NaN</td>\n",
       "      <td>20180125.0</td>\n",
       "    </tr>\n",
       "    <tr>\n",
       "      <th>2999998</th>\n",
       "      <td>None</td>\n",
       "      <td>202402.0</td>\n",
       "      <td>202312.0</td>\n",
       "      <td>20181122.0</td>\n",
       "    </tr>\n",
       "    <tr>\n",
       "      <th>2999999</th>\n",
       "      <td>None</td>\n",
       "      <td>202208.0</td>\n",
       "      <td>202207.0</td>\n",
       "      <td>20170418.0</td>\n",
       "    </tr>\n",
       "  </tbody>\n",
       "</table>\n",
       "<p>3000000 rows × 4 columns</p>\n",
       "</div>"
      ],
      "text/plain": [
       "        Segment  최종유효년월_신용_이용가능  최종유효년월_신용_이용    최종카드발급일자\n",
       "0             D        202110.0      202112.0  20160912.0\n",
       "1             E        202112.0      202204.0  20170122.0\n",
       "2             C        202111.0      202201.0  20161113.0\n",
       "3             D        202201.0      202111.0  20170205.0\n",
       "4             E        202201.0           NaN  20170409.0\n",
       "...         ...             ...           ...         ...\n",
       "2999995    None             NaN           NaN         NaN\n",
       "2999996    None        202306.0      202304.0  20171203.0\n",
       "2999997    None        202206.0           NaN  20180125.0\n",
       "2999998    None        202402.0      202312.0  20181122.0\n",
       "2999999    None        202208.0      202207.0  20170418.0\n",
       "\n",
       "[3000000 rows x 4 columns]"
      ]
     },
     "execution_count": 67,
     "metadata": {},
     "output_type": "execute_result"
    }
   ],
   "source": [
    "df[na_box]"
   ]
  },
  {
   "cell_type": "code",
   "execution_count": 75,
   "id": "aeef8317-0e91-48b4-844d-20759157d584",
   "metadata": {},
   "outputs": [],
   "source": [
    "cat_cols = ['연령', '가입통신회사코드', '거주시도명', '_1순위신용체크구분', '연회비발생카드수_B0M', 'Life_Stage']\n",
    "for col in cat_cols :\n",
    "    le = LabelEncoder()\n",
    "    df[col] = le.fit_transform(df[col])"
   ]
  },
  {
   "cell_type": "code",
   "execution_count": 76,
   "id": "a4a0e213-671a-4662-bf58-adc9091324fd",
   "metadata": {
    "scrolled": true
   },
   "outputs": [
    {
     "name": "stdout",
     "output_type": "stream",
     "text": [
      "<class 'pandas.core.frame.DataFrame'>\n",
      "RangeIndex: 3000000 entries, 0 to 2999999\n",
      "Data columns (total 67 columns):\n",
      " #   Column              Dtype  \n",
      "---  ------              -----  \n",
      " 0   기준년월                int64  \n",
      " 1   ID                  object \n",
      " 2   남녀구분코드              int64  \n",
      " 3   연령                  int32  \n",
      " 4   Segment             object \n",
      " 5   회원여부_이용가능           int64  \n",
      " 6   회원여부_이용가능_CA        int64  \n",
      " 7   회원여부_이용가능_카드론       int64  \n",
      " 8   소지여부_신용             int64  \n",
      " 9   소지카드수_유효_신용         int64  \n",
      " 10  소지카드수_이용가능_신용       int64  \n",
      " 11  입회일자_신용             int64  \n",
      " 12  입회경과개월수_신용          int64  \n",
      " 13  회원여부_연체             int64  \n",
      " 14  이용거절여부_카드론          int64  \n",
      " 15  동의여부_한도증액안내         int64  \n",
      " 16  수신거부여부_TM           int64  \n",
      " 17  수신거부여부_DM           int64  \n",
      " 18  수신거부여부_메일           int64  \n",
      " 19  수신거부여부_SMS          int64  \n",
      " 20  가입통신회사코드            int32  \n",
      " 21  탈회횟수_누적             int64  \n",
      " 22  최종탈회후경과월            int64  \n",
      " 23  탈회횟수_발급6개월이내        int64  \n",
      " 24  탈회횟수_발급1년이내         int64  \n",
      " 25  거주시도명               int32  \n",
      " 26  마케팅동의여부             int64  \n",
      " 27  유효카드수_신용체크          int64  \n",
      " 28  유효카드수_신용            int64  \n",
      " 29  유효카드수_신용_가족         int64  \n",
      " 30  유효카드수_체크            int64  \n",
      " 31  유효카드수_체크_가족         int64  \n",
      " 32  이용가능카드수_신용체크        int64  \n",
      " 33  이용가능카드수_신용          int64  \n",
      " 34  이용가능카드수_신용_가족       int64  \n",
      " 35  이용가능카드수_체크          int64  \n",
      " 36  이용가능카드수_체크_가족       int64  \n",
      " 37  이용카드수_신용체크          int64  \n",
      " 38  이용카드수_신용            int64  \n",
      " 39  이용카드수_신용_가족         int64  \n",
      " 40  이용카드수_체크            int64  \n",
      " 41  이용금액_R3M_신용체크       int64  \n",
      " 42  이용금액_R3M_신용         int64  \n",
      " 43  이용금액_R3M_신용_가족      int64  \n",
      " 44  이용금액_R3M_체크         int64  \n",
      " 45  _1순위카드이용금액          int64  \n",
      " 46  _1순위카드이용건수          int64  \n",
      " 47  _1순위신용체크구분          int32  \n",
      " 48  _2순위카드이용금액          int64  \n",
      " 49  _2순위카드이용건수          int64  \n",
      " 50  최종유효년월_신용_이용가능      float64\n",
      " 51  최종유효년월_신용_이용        float64\n",
      " 52  최종카드발급일자            float64\n",
      " 53  보유여부_해외겸용_본인        int64  \n",
      " 54  이용가능여부_해외겸용_본인      int64  \n",
      " 55  이용여부_3M_해외겸용_본인     int64  \n",
      " 56  보유여부_해외겸용_신용_본인     int64  \n",
      " 57  이용가능여부_해외겸용_신용_본인   int64  \n",
      " 58  이용여부_3M_해외겸용_신용_본인  int64  \n",
      " 59  연회비발생카드수_B0M        int32  \n",
      " 60  기본연회비_B0M           int64  \n",
      " 61  제휴연회비_B0M           int64  \n",
      " 62  청구금액_기본연회비_B0M      int64  \n",
      " 63  청구금액_제휴연회비_B0M      int64  \n",
      " 64  카드신청건수              int64  \n",
      " 65  Life_Stage          int32  \n",
      " 66  최종카드발급경과월           int64  \n",
      "dtypes: float64(3), int32(6), int64(56), object(2)\n",
      "memory usage: 1.4+ GB\n"
     ]
    }
   ],
   "source": [
    "df.info()"
   ]
  },
  {
   "cell_type": "code",
   "execution_count": 77,
   "id": "5f73a588-9a0c-4630-a4db-3e5a1994121f",
   "metadata": {},
   "outputs": [],
   "source": [
    "df.to_csv('data/회원정보_전처리.csv', index = False)"
   ]
  },
  {
   "cell_type": "code",
   "execution_count": null,
   "id": "996a9138-2559-4ec5-8023-38e1f67d3e06",
   "metadata": {},
   "outputs": [],
   "source": []
  }
 ],
 "metadata": {
  "kernelspec": {
   "display_name": "Python (gpu_env)",
   "language": "python",
   "name": "gpu_env"
  },
  "language_info": {
   "codemirror_mode": {
    "name": "ipython",
    "version": 3
   },
   "file_extension": ".py",
   "mimetype": "text/x-python",
   "name": "python",
   "nbconvert_exporter": "python",
   "pygments_lexer": "ipython3",
   "version": "3.10.18"
  }
 },
 "nbformat": 4,
 "nbformat_minor": 5
}
