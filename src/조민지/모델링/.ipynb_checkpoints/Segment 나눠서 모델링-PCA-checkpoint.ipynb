{
 "cells": [
  {
   "cell_type": "code",
   "execution_count": 1,
   "id": "a87f9480-208e-43b8-805b-d345f63f50e5",
   "metadata": {},
   "outputs": [],
   "source": [
    "import pandas as pd\n",
    "import numpy as np\n",
    "from sklearn.model_selection      import train_test_split, StratifiedKFold, cross_val_predict\n",
    "from sklearn.preprocessing       import StandardScaler\n",
    "from sklearn.impute              import SimpleImputer\n",
    "from xgboost                     import XGBClassifier\n",
    "from sklearn.metrics             import confusion_matrix, classification_report\n",
    "from sklearn.pipeline            import Pipeline\n",
    "\n",
    "# 경고 메시지 억제\n",
    "import warnings\n",
    "warnings.filterwarnings('ignore')  "
   ]
  },
  {
   "cell_type": "code",
   "execution_count": 2,
   "id": "3fc1cf04-73b6-43e1-85d7-78b43ba09cfe",
   "metadata": {},
   "outputs": [],
   "source": [
    "# 데이터 로드 및 ID 제거\n",
    "df = pd.read_csv(\"pca_features_with_segment.csv\")\n",
    "X = df.drop(columns=['Segment'])\n",
    "y = df['Segment']\n",
    "\n",
    "# E vs not-E 이진 타깃 생성\n",
    "y_e = (y == 'E').astype(int)\n",
    "\n",
    "# 학습/검증 분할 (20% 검증, E 분포 유지)\n",
    "X_train, X_val, y_train_e, y_val_e, y_train, y_val = train_test_split(\n",
    "    X, y_e, y, test_size=0.2, random_state=42, stratify=y_e\n",
    ")\n",
    "\n",
    "# 스케일러 학습 및 변환\n",
    "scaler = StandardScaler()\n",
    "X_train_s = scaler.fit_transform(X_train)\n",
    "X_val_s   = scaler.transform(X_val)"
   ]
  },
  {
   "cell_type": "code",
   "execution_count": 3,
   "id": "36f2ee5c-5cb5-4388-b214-e2a68551292a",
   "metadata": {},
   "outputs": [
    {
     "name": "stdout",
     "output_type": "stream",
     "text": [
      "=== 모델1: E vs not-E ===\n",
      "[[10959  4973]\n",
      " [ 2771 61297]]\n",
      "              precision    recall  f1-score   support\n",
      "\n",
      "       not-E       0.80      0.69      0.74     15932\n",
      "           E       0.92      0.96      0.94     64068\n",
      "\n",
      "    accuracy                           0.90     80000\n",
      "   macro avg       0.86      0.82      0.84     80000\n",
      "weighted avg       0.90      0.90      0.90     80000\n",
      "\n"
     ]
    }
   ],
   "source": [
    "# 1. 모델1: E vs not-E 분류\n",
    "model1 = XGBClassifier(eval_metric='logloss', random_state=42, verbose=-1, verbosity=0, tree_method='gpu_hist', predictor = 'gpu_predictor')\n",
    "\n",
    "# E vs not-E\n",
    "model1.fit(X_train_s, y_train_e)\n",
    "\n",
    "# 검증셋 E vs not-E\n",
    "y1_pred = model1.predict(X_val_s)\n",
    "\n",
    "print(\"=== 모델1: E vs not-E ===\")\n",
    "print(confusion_matrix(y_val_e, y1_pred))\n",
    "print(classification_report(y_val_e, y1_pred, target_names=['not-E','E']))\n",
    "\n",
    "# 검증셋 DataFrame 및 pred1 추가\n",
    "df_val = pd.DataFrame(X_val_s, columns=X.columns)\n",
    "df_val['true_seg'] = y_val.values\n",
    "df_val['pred1']    = y1_pred"
   ]
  },
  {
   "cell_type": "code",
   "execution_count": 4,
   "id": "7f6b0d5f-61f3-4186-b507-b5c5fcb5f68f",
   "metadata": {},
   "outputs": [
    {
     "name": "stdout",
     "output_type": "stream",
     "text": [
      "\n",
      "=== 모델2: A/B vs C/D ===\n",
      "[[13691     2]\n",
      " [   33     4]]\n",
      "              precision    recall  f1-score   support\n",
      "\n",
      "         C/D       1.00      1.00      1.00     13693\n",
      "         A/B       0.67      0.11      0.19        37\n",
      "\n",
      "    accuracy                           1.00     13730\n",
      "   macro avg       0.83      0.55      0.59     13730\n",
      "weighted avg       1.00      1.00      1.00     13730\n",
      "\n"
     ]
    }
   ],
   "source": [
    "# 2. 모델2: A/B vs C/D 분류\n",
    "\n",
    "# pred1 == 0 (not-E) 데이터\n",
    "df_val_notE = df_val[df_val['pred1'] == 0].reset_index(drop=True)\n",
    "X_val_notE  = df_val_notE[X.columns]\n",
    "\n",
    "# A/B vs C/D 레이블 (A,B→1 / C,D→0)\n",
    "y2_true = df_val_notE['true_seg'].apply(lambda s: 1 if s in ['A','B'] else 0)\n",
    "\n",
    "# 학습셋 not-E 샘플 및 A/B vs C/D 타깃\n",
    "mask_train_notE = (y_train_e == 0)\n",
    "X_train_notE    = X_train_s[mask_train_notE]\n",
    "y_train_notE    = y_train[mask_train_notE].apply(lambda s: 1 if s in ['A','B'] else 0)\n",
    "\n",
    "# XGBoost 분류기 \n",
    "model2 = XGBClassifier(eval_metric='logloss', random_state=42, verbose=-1, verbosity=0, tree_method='gpu_hist', predictor = 'gpu_predictor')\n",
    "\n",
    "# A/B vs C/D\n",
    "model2.fit(X_train_notE, y_train_notE)\n",
    "\n",
    "# 검증셋 A/B vs C/D\n",
    "y2_pred = model2.predict(X_val_notE)\n",
    "\n",
    "print(\"\\n=== 모델2: A/B vs C/D ===\")\n",
    "print(confusion_matrix(y2_true, y2_pred))\n",
    "print(classification_report(y2_true, y2_pred, target_names=['C/D','A/B']))\n",
    "\n",
    "# pred2 컬럼\n",
    "df_val_notE['pred2'] = y2_pred"
   ]
  },
  {
   "cell_type": "markdown",
   "id": "0a3153e2-75b4-49ce-b14f-3fae7a76511d",
   "metadata": {},
   "source": [
    "#### 모델2가 “A/B”로 예측한 6개 샘플에 대해서만 모델3을 돌려본 것"
   ]
  },
  {
   "cell_type": "code",
   "execution_count": 5,
   "id": "38f7e743-b214-4ec1-a5f1-ca44d8d68c39",
   "metadata": {},
   "outputs": [
    {
     "name": "stdout",
     "output_type": "stream",
     "text": [
      "\n",
      "=== 모델3: A vs B ===\n",
      "[[6]]\n",
      "              precision    recall  f1-score   support\n",
      "\n",
      "           A       1.00      1.00      1.00         6\n",
      "           B       0.00      0.00      0.00         0\n",
      "\n",
      "    accuracy                           1.00         6\n",
      "   macro avg       0.50      0.50      0.50         6\n",
      "weighted avg       1.00      1.00      1.00         6\n",
      "\n"
     ]
    }
   ],
   "source": [
    "# 모델3: A vs B 분류\n",
    "# pred2 == 1 (A/B로 예측된) 데이터\n",
    "df_val_AB = df_val_notE[df_val_notE['pred2'] == 1].reset_index(drop=True)\n",
    "X_val_AB  = df_val_AB[X.columns]\n",
    "\n",
    "# A vs B 레이블 (B→1 / A→0)\n",
    "y3_true = df_val_AB['true_seg'].apply(lambda s: 1 if s == 'B' else 0)\n",
    "\n",
    "# 학습셋 A/B 샘플 및 A vs B 타깃\n",
    "mask_train_AB = mask_train_notE & (y_train.isin(['A','B']))\n",
    "X_train_AB    = X_train_s[mask_train_AB]\n",
    "y_train_AB    = y_train[mask_train_AB].apply(lambda s: 1 if s == 'B' else 0)\n",
    "\n",
    "# XGBoost 분류기 \n",
    "model3 = XGBClassifier(eval_metric='logloss', random_state=42, verbose=-1, verbosity=0, tree_method='gpu_hist', predictor = 'gpu_predictor')\n",
    "\n",
    "# A vs B\n",
    "model3.fit(X_train_AB, y_train_AB)\n",
    "\n",
    "# 검증셋 A vs B\n",
    "y3_pred = model3.predict(X_val_AB)\n",
    "\n",
    "print(\"\\n=== 모델3: A vs B ===\")\n",
    "print(confusion_matrix(y3_true, y3_pred))\n",
    "print(classification_report(y3_true, y3_pred, labels=[0,1], target_names=['A','B']))"
   ]
  },
  {
   "cell_type": "markdown",
   "id": "2ecb1a3e-fc22-4933-9885-38fa86659b8a",
   "metadata": {},
   "source": [
    "#### 진짜 A/B인 37개 샘플에 대해서만 모델3을 돌려본 것"
   ]
  },
  {
   "cell_type": "code",
   "execution_count": 6,
   "id": "f891cc97-71af-4ae3-aac4-604ccf7ba3cc",
   "metadata": {},
   "outputs": [
    {
     "name": "stdout",
     "output_type": "stream",
     "text": [
      "[[31  1]\n",
      " [ 4  1]]\n",
      "              precision    recall  f1-score   support\n",
      "\n",
      "           A       0.89      0.97      0.93        32\n",
      "           B       0.50      0.20      0.29         5\n",
      "\n",
      "    accuracy                           0.86        37\n",
      "   macro avg       0.69      0.58      0.61        37\n",
      "weighted avg       0.83      0.86      0.84        37\n",
      "\n"
     ]
    }
   ],
   "source": [
    "# 실제 A/B 전체를 추출\n",
    "df_val_trueAB = df_val_notE[df_val_notE['true_seg'].isin(['A','B'])]\n",
    "\n",
    "X_val_trueAB = df_val_trueAB[X.columns]\n",
    "y3_true_all  = df_val_trueAB['true_seg'].apply(lambda s: 1 if s == 'B' else 0)\n",
    "\n",
    "# model3에 전체 A/B 데이터로 평가\n",
    "y3_pred_all = model3.predict(X_val_trueAB)\n",
    "\n",
    "print(confusion_matrix(y3_true_all, y3_pred_all))\n",
    "print(classification_report(y3_true_all, y3_pred_all, labels=[0,1], target_names=['A','B']))"
   ]
  },
  {
   "cell_type": "markdown",
   "id": "36ff8300-1743-4cf1-849f-199f1cdc52dd",
   "metadata": {},
   "source": [
    "#### 모델2가 “C/D”로 예측한 6개 샘플에 대해서만 모델4를 돌려본 것"
   ]
  },
  {
   "cell_type": "code",
   "execution_count": 7,
   "id": "269ff32b-9124-4434-bec5-0fcdc35eef16",
   "metadata": {},
   "outputs": [
    {
     "name": "stdout",
     "output_type": "stream",
     "text": [
      "\n",
      "=== 모델4: C vs D ===\n",
      "[[2570 4020]\n",
      " [ 797 6337]]\n",
      "              precision    recall  f1-score   support\n",
      "\n",
      "           C       0.76      0.39      0.52      6590\n",
      "           D       0.61      0.89      0.72      7134\n",
      "\n",
      "    accuracy                           0.65     13724\n",
      "   macro avg       0.69      0.64      0.62     13724\n",
      "weighted avg       0.68      0.65      0.62     13724\n",
      "\n"
     ]
    }
   ],
   "source": [
    "# 4. 모델4: C vs D 분류\n",
    "# pred2 == 0 (C/D로 예측된) 데이터\n",
    "df_val_CD = df_val_notE[df_val_notE['pred2'] == 0].reset_index(drop=True)\n",
    "X_val_CD  = df_val_CD[X.columns]\n",
    "\n",
    "# C vs D 레이블 (D→1 / C→0)\n",
    "y4_true = df_val_CD['true_seg'].apply(lambda s: 1 if s == 'D' else 0)\n",
    "\n",
    "# 학습셋 C/D 샘플 및 C vs D 타깃\n",
    "mask_train_CD = mask_train_notE & (y_train.isin(['C','D']))\n",
    "X_train_CD    = X_train_s[mask_train_CD]\n",
    "y_train_CD    = y_train[mask_train_CD].apply(lambda s: 1 if s == 'D' else 0)\n",
    "\n",
    "# XGBoost 분류기 \n",
    "model4 = XGBClassifier(eval_metric='logloss', random_state=42, verbose=-1, verbosity=0, tree_method='gpu_hist', predictor = 'gpu_predictor')\n",
    "\n",
    "# C vs D\n",
    "model4.fit(X_train_CD, y_train_CD)\n",
    "\n",
    "# 검증셋 C vs D\n",
    "y4_pred = model4.predict(X_val_CD)\n",
    "\n",
    "print(\"\\n=== 모델4: C vs D ===\")\n",
    "print(confusion_matrix(y4_true, y4_pred))\n",
    "print(classification_report(y4_true, y4_pred, target_names=['C','D']))"
   ]
  },
  {
   "cell_type": "markdown",
   "id": "d14bf6ec-180a-4a5f-9339-6d461cd9c7ba",
   "metadata": {},
   "source": [
    "#### 진짜 C/D 인 샘플에 대해서만 모델4를 돌려본 것"
   ]
  },
  {
   "cell_type": "code",
   "execution_count": 8,
   "id": "c6e781ec-a6b3-4284-ae52-cd9f190b7e13",
   "metadata": {},
   "outputs": [
    {
     "name": "stdout",
     "output_type": "stream",
     "text": [
      "=== 모델4 standalone: 실제 C/D 전체 평가 ===\n",
      "[[2264 1523]\n",
      " [ 798 6337]]\n",
      "              precision    recall  f1-score   support\n",
      "\n",
      "           C       0.74      0.60      0.66      3787\n",
      "           D       0.81      0.89      0.85      7135\n",
      "\n",
      "    accuracy                           0.79     10922\n",
      "   macro avg       0.77      0.74      0.75     10922\n",
      "weighted avg       0.78      0.79      0.78     10922\n",
      "\n"
     ]
    }
   ],
   "source": [
    "# 실제 C/D 레이블인 모든 검증셋 샘플\n",
    "df_val_trueCD = df_val_notE[df_val_notE['true_seg'].isin(['C','D'])].reset_index(drop=True)\n",
    "X_val_trueCD  = df_val_trueCD[X.columns]\n",
    "\n",
    "# C vs D 레이블 (D→1 / C→0)\n",
    "y4_true_all   = df_val_trueCD['true_seg'].apply(lambda s: 1 if s == 'D' else 0)\n",
    "\n",
    "# model4로 전체 C/D 샘플 예측\n",
    "y4_pred_all   = model4.predict(X_val_trueCD)\n",
    "\n",
    "# 결과 출력\n",
    "print(\"=== 모델4 standalone: 실제 C/D 전체 평가 ===\")\n",
    "print(confusion_matrix(y4_true_all, y4_pred_all))\n",
    "print(classification_report(y4_true_all, y4_pred_all, labels=[0,1], target_names=['C','D']))"
   ]
  },
  {
   "cell_type": "markdown",
   "id": "5bd53639-750d-4204-9d6e-29547cd3e3aa",
   "metadata": {},
   "source": [
    "### 가중치 있는 버전"
   ]
  },
  {
   "cell_type": "code",
   "execution_count": 9,
   "id": "40569bb3-d64e-48a3-8da0-c94823515cd8",
   "metadata": {},
   "outputs": [],
   "source": [
    "# 데이터 로드 및 ID 제거\n",
    "df = pd.read_csv(\"pca_features_with_segment.csv\")\n",
    "X = df.drop(columns=['Segment'])\n",
    "y = df['Segment']\n",
    "\n",
    "# E vs not-E 이진 타깃 생성\n",
    "y_e = (y == 'E').astype(int)\n",
    "\n",
    "# 학습/검증 분할 (20% 검증, E 비율 유지)\n",
    "X_train, X_val, y_train_e, y_val_e, y_train, y_val = train_test_split(\n",
    "    X, y_e, y, test_size=0.2, random_state=42, stratify=y_e\n",
    ")\n",
    "\n",
    "# 스케일러 학습 및 변환\n",
    "scaler = StandardScaler()\n",
    "X_train_s = scaler.fit_transform(X_train)\n",
    "X_val_s   = scaler.transform(X_val)"
   ]
  },
  {
   "cell_type": "code",
   "execution_count": 10,
   "id": "24c32f27-deca-44eb-aa58-65e753d9d6b2",
   "metadata": {},
   "outputs": [
    {
     "name": "stdout",
     "output_type": "stream",
     "text": [
      "=== 모델1 (weighted): E vs not-E ===\n",
      "[[13597  2335]\n",
      " [ 7551 56517]]\n",
      "              precision    recall  f1-score   support\n",
      "\n",
      "       not-E       0.64      0.85      0.73     15932\n",
      "           E       0.96      0.88      0.92     64068\n",
      "\n",
      "    accuracy                           0.88     80000\n",
      "   macro avg       0.80      0.87      0.83     80000\n",
      "weighted avg       0.90      0.88      0.88     80000\n",
      "\n"
     ]
    }
   ],
   "source": [
    "# 1. 모델1: E vs not-E 분류 (가중치 있는)\n",
    "# pos/neg 비율로 weight 설정\n",
    "n_neg1 = (y_train_e == 0).sum()\n",
    "n_pos1 = (y_train_e == 1).sum()\n",
    "w1 = n_neg1 / n_pos1\n",
    "\n",
    "# XGBoost with weight\n",
    "model1_w = XGBClassifier(eval_metric='logloss', random_state=42, scale_pos_weight=w1, verbose=-1, verbosity=0, tree_method='gpu_hist', predictor = 'gpu_predictor')\n",
    "# 학습·예측\n",
    "model1_w.fit(X_train_s, y_train_e)\n",
    "y1_pred_w = model1_w.predict(X_val_s)\n",
    "\n",
    "print(\"=== 모델1 (weighted): E vs not-E ===\")\n",
    "print(confusion_matrix(y_val_e, y1_pred_w))\n",
    "print(classification_report(y_val_e, y1_pred_w, labels=[0,1], target_names=['not-E','E']))"
   ]
  },
  {
   "cell_type": "code",
   "execution_count": 11,
   "id": "6ec26323-7310-4c13-a49c-fc7ebdf18ea0",
   "metadata": {},
   "outputs": [
    {
     "name": "stdout",
     "output_type": "stream",
     "text": [
      "\n",
      "=== 모델2 (weighted): A/B vs C/D ===\n",
      "[[21095    16]\n",
      " [   27    10]]\n",
      "              precision    recall  f1-score   support\n",
      "\n",
      "         C/D       1.00      1.00      1.00     21111\n",
      "         A/B       0.38      0.27      0.32        37\n",
      "\n",
      "    accuracy                           1.00     21148\n",
      "   macro avg       0.69      0.63      0.66     21148\n",
      "weighted avg       1.00      1.00      1.00     21148\n",
      "\n"
     ]
    }
   ],
   "source": [
    "# 검증셋 DataFrame 및 pred1 추가\n",
    "df_val = pd.DataFrame(X_val_s, columns=X.columns)\n",
    "df_val['true_seg'] = y_val.values\n",
    "df_val['pred1']    = y1_pred_w\n",
    "\n",
    "# 2. 모델2: A/B vs C/D 분류\n",
    "df_val_notE = df_val[df_val['pred1']==0].reset_index(drop=True)\n",
    "X_val_notE  = df_val_notE[X.columns]\n",
    "y2_true     = df_val_notE['true_seg'].apply(lambda s: 1 if s in ['A','B'] else 0)\n",
    "\n",
    "mask_train_notE = (y_train_e == 0)\n",
    "X_train_notE    = X_train_s[mask_train_notE]\n",
    "y_train_notE    = y_train[mask_train_notE].apply(lambda s: 1 if s in ['A','B'] else 0)\n",
    "\n",
    "n_neg2 = (y_train_notE == 0).sum()\n",
    "n_pos2 = (y_train_notE == 1).sum()\n",
    "w2 = n_neg2 / n_pos2\n",
    "\n",
    "model2_w = XGBClassifier(eval_metric='logloss', random_state=42, scale_pos_weight=w2, verbose=-1, verbosity=0, tree_method='gpu_hist', predictor = 'gpu_predictor')\n",
    "model2_w.fit(X_train_notE, y_train_notE)\n",
    "y2_pred_w = model2_w.predict(X_val_notE)\n",
    "\n",
    "print(\"\\n=== 모델2 (weighted): A/B vs C/D ===\")\n",
    "print(confusion_matrix(y2_true, y2_pred_w))\n",
    "print(classification_report(y2_true, y2_pred_w, labels=[0,1], target_names=['C/D','A/B']))\n",
    "\n",
    "df_val_notE['pred2'] = y2_pred_w"
   ]
  },
  {
   "cell_type": "code",
   "execution_count": 12,
   "id": "624eee23-8919-4e22-9132-0bcdf8ca0371",
   "metadata": {},
   "outputs": [
    {
     "name": "stdout",
     "output_type": "stream",
     "text": [
      "\n",
      "=== 모델3 (weighted): A vs B ===\n",
      "[[24  1]\n",
      " [ 1  0]]\n",
      "              precision    recall  f1-score   support\n",
      "\n",
      "           A       0.96      0.96      0.96        25\n",
      "           B       0.00      0.00      0.00         1\n",
      "\n",
      "    accuracy                           0.92        26\n",
      "   macro avg       0.48      0.48      0.48        26\n",
      "weighted avg       0.92      0.92      0.92        26\n",
      "\n"
     ]
    }
   ],
   "source": [
    "# 3. 모델3: A vs B 분류\n",
    "df_val_AB = df_val_notE[df_val_notE['pred2']==1].reset_index(drop=True)\n",
    "X_val_AB  = df_val_AB[X.columns]\n",
    "y3_true   = df_val_AB['true_seg'].apply(lambda s: 1 if s=='B' else 0)\n",
    "\n",
    "mask_train_AB = mask_train_notE & (y_train.isin(['A','B']))\n",
    "X_train_AB    = X_train_s[mask_train_AB]\n",
    "y_train_AB    = y_train[mask_train_AB].apply(lambda s: 1 if s=='B' else 0)\n",
    "\n",
    "n_neg3 = (y_train_AB == 0).sum()\n",
    "n_pos3 = (y_train_AB == 1).sum()\n",
    "w3 = n_neg3 / n_pos3\n",
    "\n",
    "model3_w = XGBClassifier(eval_metric='logloss', random_state=42, scale_pos_weight=w3, verbose=-1, verbosity=0, tree_method='gpu_hist', predictor = 'gpu_predictor')\n",
    "model3_w.fit(X_train_AB, y_train_AB)\n",
    "y3_pred_w = model3_w.predict(X_val_AB)\n",
    "\n",
    "print(\"\\n=== 모델3 (weighted): A vs B ===\")\n",
    "print(confusion_matrix(y3_true, y3_pred_w))\n",
    "print(classification_report(y3_true, y3_pred_w, labels=[0,1], target_names=['A','B']))"
   ]
  },
  {
   "cell_type": "code",
   "execution_count": 13,
   "id": "9ede06af-5a6c-4bdc-9178-6d3d72ec279b",
   "metadata": {},
   "outputs": [
    {
     "name": "stdout",
     "output_type": "stream",
     "text": [
      "\n",
      "=== 모델4 (weighted): C vs D ===\n",
      "[[3633 7988]\n",
      " [1652 7849]]\n",
      "              precision    recall  f1-score   support\n",
      "\n",
      "           C       0.69      0.31      0.43     11621\n",
      "           D       0.50      0.83      0.62      9501\n",
      "\n",
      "    accuracy                           0.54     21122\n",
      "   macro avg       0.59      0.57      0.52     21122\n",
      "weighted avg       0.60      0.54      0.52     21122\n",
      "\n"
     ]
    }
   ],
   "source": [
    "# 4. 모델4: C vs D 분류\n",
    "df_val_CD = df_val_notE[df_val_notE['pred2']==0].reset_index(drop=True)\n",
    "X_val_CD  = df_val_CD[X.columns]\n",
    "y4_true   = df_val_CD['true_seg'].apply(lambda s: 1 if s=='D' else 0)\n",
    "\n",
    "mask_train_CD = mask_train_notE & (y_train.isin(['C','D']))\n",
    "X_train_CD    = X_train_s[mask_train_CD]\n",
    "y_train_CD    = y_train[mask_train_CD].apply(lambda s: 1 if s=='D' else 0)\n",
    "\n",
    "n_neg4 = (y_train_CD == 0).sum()\n",
    "n_pos4 = (y_train_CD == 1).sum()\n",
    "w4 = n_neg4 / n_pos4\n",
    "\n",
    "model4_w = XGBClassifier(eval_metric='logloss',random_state=42, scale_pos_weight=w4, verbose=-1, verbosity=0, tree_method='gpu_hist', predictor = 'gpu_predictor')\n",
    "model4_w.fit(X_train_CD, y_train_CD)\n",
    "y4_pred_w = model4_w.predict(X_val_CD)\n",
    "\n",
    "print(\"\\n=== 모델4 (weighted): C vs D ===\")\n",
    "print(confusion_matrix(y4_true, y4_pred_w))\n",
    "print(classification_report(y4_true, y4_pred_w, labels=[0,1], target_names=['C','D']))"
   ]
  }
 ],
 "metadata": {
  "kernelspec": {
   "display_name": "Python [conda env:base] *",
   "language": "python",
   "name": "conda-base-py"
  },
  "language_info": {
   "codemirror_mode": {
    "name": "ipython",
    "version": 3
   },
   "file_extension": ".py",
   "mimetype": "text/x-python",
   "name": "python",
   "nbconvert_exporter": "python",
   "pygments_lexer": "ipython3",
   "version": "3.12.7"
  }
 },
 "nbformat": 4,
 "nbformat_minor": 5
}
